{
 "cells": [
  {
   "cell_type": "code",
   "execution_count": 1,
   "metadata": {},
   "outputs": [],
   "source": [
    "import pandas as pd\n",
    "import numpy as np"
   ]
  },
  {
   "cell_type": "code",
   "execution_count": 328,
   "metadata": {},
   "outputs": [],
   "source": [
    "df_orig = pd.read_spss(\"./Data/private_landlord_survey/UKDA-8455-spss/spss/spss24/epls_2018_forarchive.sav\")"
   ]
  },
  {
   "cell_type": "code",
   "execution_count": 235,
   "metadata": {},
   "outputs": [],
   "source": [
    "df = df_orig\n",
    "df = df[[\"serial_2\", # Unique Identifier\n",
    "        \"LLCat1\", # LL org category\n",
    "        \"LLeth2cat\", # LL ethnicity\n",
    "        \"Age4cat\", # LL Age\n",
    "        \"ValperPrpA\", # Avg mkt val per prop\n",
    "        \"MktValgrpA\", # Mkt val all props\n",
    "        \"BTL\", # Buy to let loan/other\n",
    "        \"LnperPrpA\", # Avg loan per prop\n",
    "        \"LnValgrpA\", # Total val all loans\n",
    "        \"LTVgrpA\", # LTV market val\n",
    "        \"TmLLgrpB\", # How long been LL\n",
    "        \"LLExp\", # Length experience as LL\n",
    "        \"NumPrpgrp\", # How many props\n",
    "        \"RtIncgrpa\", # Gross rental inc\n",
    "        \"LLIncgrpA\", # Total LL inc no rent\n",
    "        \"TotIncgrp\", # Total LL inc\n",
    "        \"RtPrIncgrpA\", # Rent as prop. inc\n",
    "        \"Port_size\", # Portfolio size\n",
    "        \"LLEmpl01\", # Emp. Status: FT\n",
    "        \"LLEmpl02\", # Emp. Status: PT\n",
    "        \"LLEmpl03\", # Emp. Status: Self-employed as LL\n",
    "        \"LLEmpl04\", # Emp. Status: Self-employed\n",
    "        \"LLEmpl05\", # Emp. Status: Retired\n",
    "        \"LLEmpl06\", # Emp. Status: Company director\n",
    "        \"LLEmpl07\", # Emp. Status: Student\n",
    "        \"LLEmpl08\", # Emp. Status: FT carer\n",
    "        \"LLEmpl09\", # Emp. Status: Unemployed\n",
    "        \"LLOrg1\", # LL Org: National LLs Assc.\n",
    "        \"LLOrg2\", # LL Org: Residential LL Assc.\n",
    "        \"LLOrg3\", # LL Org: Other professional\n",
    "        \"LLOrg4\", # LL Org: None\n",
    "        \"AgOrg1\", # Rental Org: ARLA\n",
    "        \"AgOrg2\", # Rental Org: NAEA\n",
    "        \"AgOrg3\", # Rental Org: NALS\n",
    "        \"AgOrg4\", # Rental Org: UKALA\n",
    "        \"AgOrg5\", # Rental Org: Other\n",
    "        \"AgOrg6\", # Rental Org: None\n",
    "        \"Regprop01\", # Prop Region: East England\n",
    "        \"Regprop02\", # Prop Region: East Midlands\n",
    "        \"Regprop03\", # Prop Region: Inner London\n",
    "        \"Regprop04\", # Prop Region: Outer London\n",
    "        \"Regprop05\", # Prop Region: North East\n",
    "        \"Regprop06\", # Prop Region: North West\n",
    "        \"Regprop07\", # Prop Region: South East\n",
    "        \"Regprop08\", # Prop Region: South West\n",
    "        \"Regprop09\", # Prop Region: West Midlands\n",
    "        \"Regprop10\", # Prop Region: Yorkshire/Humber\n",
    "        \"LLInfo01\", # Where info: Letting Agent\n",
    "        \"LLInfo02\", # Where info: LL membership ass. or org\n",
    "        \"LLInfo03\", # Where info: Online landlord forums/websites\n",
    "        \"LLInfo04\", # Where info: Gov't websites\n",
    "        \"LLInfo05\", # Where info: Family/friends\n",
    "        \"LLInfo06\", # Where info: Online media\n",
    "        \"LLInfo07\", # Where info: TV\n",
    "        \"LLInfo08\", # Where info: Radio\n",
    "        \"LLInfo09\", # Where info: Newspapers\n",
    "        \"AgtuseA1\", # Agent use: For letting svcs\n",
    "        \"AgtuseA2\", # Agent use: For mgmt svcs\n",
    "        \"AgtuseA3\", # Agent use: None\n",
    "        \"FutVac\", # Next Vacancy will relet\n",
    "        \"FutProp\", # Next two years, plan\n",
    "        \"FutRLv1\", # LL leave/reduce: Financial\n",
    "        \"FutRLv2\", # LL leave/reduce: Personal\n",
    "        \"FutRLv3\", # LL leave/reduce: Legislative\n",
    "        \"FutRLv4\", # LL leave/reduce: Other\n",
    "        \"FutRLv5\", # LL leave/reduce: None\n",
    "        \"FutRLv6\", # LL leave/reduce: Don't Know\n",
    "        \"FutInc1\", # LL Increase/maintain: Financial\n",
    "        \"FutInc2\", # LL Increase/maintain: Personal\n",
    "        \"FutInc3\", # LL Increase/maintain: Legislative\n",
    "        \"FutInc4\", # LL Increase/maintain: Other\n",
    "        \"FutInc5\", # LL Increase/maintain: None\n",
    "        \"FutInc6\", # LL Increase/maintain: Don't know\n",
    "        \"LLPmb1\", # LL Serious problems: Financial\n",
    "        \"LLPmb2\", # LL Serious problems: Legislative\n",
    "        \"LLPmb3\", # LL Serious problems: Tenant behaviour\n",
    "        \"LLPmb4\", # LL Serious problems: Other\n",
    "        \"LLPmb5\", # LL Serious problems: None\n",
    "        \"Lntyp1\", # Current loan: B2L mort\n",
    "        \"Lntyp2\", # Current loan: Commercial loan\n",
    "        \"Lntyp3\", # Current loan: Family/friends\n",
    "        \"Lntyp4\", # Current loan: No debt\n",
    "        \"Lntyp5\", # Current loan: Other\n",
    "        \"TaxB201\", # Awareness: Stamp duty increase\n",
    "        \"TaxB202\", # Awareness: Reduced tax relief\n",
    "        \"TaxB203\", # Awareness: Reduced CG tax non-prop\n",
    "        \"TaxB204\", # Awareness: Change wear/tear allow\n",
    "        \"TaxB205\", # Awareness: Change minimum rent B2L mort\n",
    "        \"TaxB206\", # Awareness: Letting agent fee ban\n",
    "        \"TaxB207\", # Awareness: Tax treatment foreign prop own\n",
    "        \"TaxB208\", # Awareness: None\n",
    "        \"TaxB301\", # As above but understanding\n",
    "        \"TaxB302\",\n",
    "        \"TaxB303\",\n",
    "        \"TaxB304\",\n",
    "        \"TaxB305\",\n",
    "        \"TaxB306\",\n",
    "        \"TaxB307\",\n",
    "        \"EPCEFG\", # Any props. w/ EPC rating E, F or G\n",
    "        \"EPCE\", # Awareness: EPC requirements\n",
    "        \"LetReq03\"] # Requirement: EPC Certificate]\n",
    "]\n",
    "\n",
    "df[\"serial_2\"] = df[\"serial_2\"].astype(\"int\")"
   ]
  },
  {
   "cell_type": "code",
   "execution_count": 198,
   "metadata": {},
   "outputs": [],
   "source": [
    "def get_stats(df: pd.DataFrame, col: str, percent:bool = True) -> pd.DataFrame:\n",
    "    df_stats = df[col].value_counts().to_frame()\n",
    "    if percent == True:\n",
    "        f = lambda a : round(a / len(df[df[col].notna()].index), 4)\n",
    "        df_stats = df_stats.applymap(f)\n",
    "    return df_stats"
   ]
  },
  {
   "attachments": {},
   "cell_type": "markdown",
   "metadata": {},
   "source": [
    "## Target Market identification"
   ]
  },
  {
   "attachments": {},
   "cell_type": "markdown",
   "metadata": {},
   "source": [
    "- Total market of LLs\n",
    "    - Not corporate"
   ]
  },
  {
   "cell_type": "code",
   "execution_count": 7,
   "metadata": {},
   "outputs": [
    {
     "name": "stdout",
     "output_type": "stream",
     "text": [
      "As an individual or group of individuals\n",
      "Other (please specify)\n",
      "As part of a company\n",
      "nan\n"
     ]
    }
   ],
   "source": [
    "for i in df['LLCat1'].unique():\n",
    "    print(i)"
   ]
  },
  {
   "cell_type": "code",
   "execution_count": 19,
   "metadata": {},
   "outputs": [],
   "source": [
    "tgt_mkt = df[(df[\"LLCat1\"].isin(['As an individual or group of individuals', 'Other (please specify)']))]"
   ]
  },
  {
   "cell_type": "code",
   "execution_count": 20,
   "metadata": {},
   "outputs": [
    {
     "name": "stdout",
     "output_type": "stream",
     "text": [
      " Target market: 6278 \n",
      " Total market: 6695 \n",
      " Percentage of total market: 93.77%\n"
     ]
    }
   ],
   "source": [
    "tgt_len = len(tgt_mkt.index)\n",
    "df_len = len(df[(df[\"LLCat1\"].notna())].index)\n",
    "\n",
    "print(f\" Target market: {tgt_len} \\n Total market: {df_len} \\n Percentage of total market: {round((tgt_len/df_len)*100,2)}%\")"
   ]
  },
  {
   "attachments": {},
   "cell_type": "markdown",
   "metadata": {},
   "source": [
    "get_stats(tgt_mkt, \"NumPrpgrp\")"
   ]
  },
  {
   "cell_type": "code",
   "execution_count": 10,
   "metadata": {},
   "outputs": [
    {
     "data": {
      "text/html": [
       "<div>\n",
       "<style scoped>\n",
       "    .dataframe tbody tr th:only-of-type {\n",
       "        vertical-align: middle;\n",
       "    }\n",
       "\n",
       "    .dataframe tbody tr th {\n",
       "        vertical-align: top;\n",
       "    }\n",
       "\n",
       "    .dataframe thead th {\n",
       "        text-align: right;\n",
       "    }\n",
       "</style>\n",
       "<table border=\"1\" class=\"dataframe\">\n",
       "  <thead>\n",
       "    <tr style=\"text-align: right;\">\n",
       "      <th></th>\n",
       "      <th>count</th>\n",
       "    </tr>\n",
       "    <tr>\n",
       "      <th>NumPrpgrp</th>\n",
       "      <th></th>\n",
       "    </tr>\n",
       "  </thead>\n",
       "  <tbody>\n",
       "    <tr>\n",
       "      <th>2 to 4</th>\n",
       "      <td>0.4201</td>\n",
       "    </tr>\n",
       "    <tr>\n",
       "      <th>1 only</th>\n",
       "      <td>0.2391</td>\n",
       "    </tr>\n",
       "    <tr>\n",
       "      <th>5 to 9</th>\n",
       "      <td>0.2024</td>\n",
       "    </tr>\n",
       "    <tr>\n",
       "      <th>10 to 24</th>\n",
       "      <td>0.1100</td>\n",
       "    </tr>\n",
       "    <tr>\n",
       "      <th>25 to 100</th>\n",
       "      <td>0.0272</td>\n",
       "    </tr>\n",
       "    <tr>\n",
       "      <th>more than 100</th>\n",
       "      <td>0.0011</td>\n",
       "    </tr>\n",
       "  </tbody>\n",
       "</table>\n",
       "</div>"
      ],
      "text/plain": [
       "                count\n",
       "NumPrpgrp            \n",
       "2 to 4         0.4201\n",
       "1 only         0.2391\n",
       "5 to 9         0.2024\n",
       "10 to 24       0.1100\n",
       "25 to 100      0.0272\n",
       "more than 100  0.0011"
      ]
     },
     "execution_count": 10,
     "metadata": {},
     "output_type": "execute_result"
    }
   ],
   "source": [
    "get_stats(tgt_mkt, \"NumPrpgrp\")"
   ]
  },
  {
   "cell_type": "code",
   "execution_count": 11,
   "metadata": {},
   "outputs": [
    {
     "data": {
      "text/html": [
       "<div>\n",
       "<style scoped>\n",
       "    .dataframe tbody tr th:only-of-type {\n",
       "        vertical-align: middle;\n",
       "    }\n",
       "\n",
       "    .dataframe tbody tr th {\n",
       "        vertical-align: top;\n",
       "    }\n",
       "\n",
       "    .dataframe thead th {\n",
       "        text-align: right;\n",
       "    }\n",
       "</style>\n",
       "<table border=\"1\" class=\"dataframe\">\n",
       "  <thead>\n",
       "    <tr style=\"text-align: right;\">\n",
       "      <th></th>\n",
       "      <th>count</th>\n",
       "    </tr>\n",
       "    <tr>\n",
       "      <th>ValperPrpA</th>\n",
       "      <th></th>\n",
       "    </tr>\n",
       "  </thead>\n",
       "  <tbody>\n",
       "    <tr>\n",
       "      <th>£200,000 to £499,999</th>\n",
       "      <td>0.4070</td>\n",
       "    </tr>\n",
       "    <tr>\n",
       "      <th>£100,000 to £129,999</th>\n",
       "      <td>0.1439</td>\n",
       "    </tr>\n",
       "    <tr>\n",
       "      <th>£150,000 to £179,999</th>\n",
       "      <td>0.1246</td>\n",
       "    </tr>\n",
       "    <tr>\n",
       "      <th>£500,000 and over</th>\n",
       "      <td>0.0877</td>\n",
       "    </tr>\n",
       "    <tr>\n",
       "      <th>£130,000 to £149,999</th>\n",
       "      <td>0.0609</td>\n",
       "    </tr>\n",
       "    <tr>\n",
       "      <th>£80,000 to £99,999</th>\n",
       "      <td>0.0545</td>\n",
       "    </tr>\n",
       "    <tr>\n",
       "      <th>£50,000 to £79,999</th>\n",
       "      <td>0.0527</td>\n",
       "    </tr>\n",
       "    <tr>\n",
       "      <th>£180,000 to £199,999</th>\n",
       "      <td>0.0444</td>\n",
       "    </tr>\n",
       "    <tr>\n",
       "      <th>up to £49,999</th>\n",
       "      <td>0.0242</td>\n",
       "    </tr>\n",
       "  </tbody>\n",
       "</table>\n",
       "</div>"
      ],
      "text/plain": [
       "                       count\n",
       "ValperPrpA                  \n",
       "£200,000 to £499,999  0.4070\n",
       "£100,000 to £129,999  0.1439\n",
       "£150,000 to £179,999  0.1246\n",
       "£500,000 and over     0.0877\n",
       "£130,000 to £149,999  0.0609\n",
       "£80,000 to £99,999    0.0545\n",
       "£50,000 to £79,999    0.0527\n",
       "£180,000 to £199,999  0.0444\n",
       "up to £49,999         0.0242"
      ]
     },
     "execution_count": 11,
     "metadata": {},
     "output_type": "execute_result"
    }
   ],
   "source": [
    "get_stats(tgt_mkt, \"ValperPrpA\")"
   ]
  },
  {
   "cell_type": "code",
   "execution_count": 14,
   "metadata": {},
   "outputs": [
    {
     "data": {
      "text/html": [
       "<div>\n",
       "<style scoped>\n",
       "    .dataframe tbody tr th:only-of-type {\n",
       "        vertical-align: middle;\n",
       "    }\n",
       "\n",
       "    .dataframe tbody tr th {\n",
       "        vertical-align: top;\n",
       "    }\n",
       "\n",
       "    .dataframe thead th {\n",
       "        text-align: right;\n",
       "    }\n",
       "</style>\n",
       "<table border=\"1\" class=\"dataframe\">\n",
       "  <thead>\n",
       "    <tr style=\"text-align: right;\">\n",
       "      <th></th>\n",
       "      <th>count</th>\n",
       "    </tr>\n",
       "    <tr>\n",
       "      <th>MktValgrpA</th>\n",
       "      <th></th>\n",
       "    </tr>\n",
       "  </thead>\n",
       "  <tbody>\n",
       "    <tr>\n",
       "      <th>£200,000 to £499,999</th>\n",
       "      <td>0.2931</td>\n",
       "    </tr>\n",
       "    <tr>\n",
       "      <th>£500,000 to £999,999</th>\n",
       "      <td>0.2704</td>\n",
       "    </tr>\n",
       "    <tr>\n",
       "      <th>£1,000,000 to £1,999,999</th>\n",
       "      <td>0.1702</td>\n",
       "    </tr>\n",
       "    <tr>\n",
       "      <th>£100,000 to £199,999</th>\n",
       "      <td>0.1053</td>\n",
       "    </tr>\n",
       "    <tr>\n",
       "      <th>£2,000,000 to £2,999,999</th>\n",
       "      <td>0.0581</td>\n",
       "    </tr>\n",
       "    <tr>\n",
       "      <th>£6,000,000 or more</th>\n",
       "      <td>0.0284</td>\n",
       "    </tr>\n",
       "    <tr>\n",
       "      <th>less than £100,000</th>\n",
       "      <td>0.0266</td>\n",
       "    </tr>\n",
       "    <tr>\n",
       "      <th>£3,000,000 to £3,999,999</th>\n",
       "      <td>0.0253</td>\n",
       "    </tr>\n",
       "    <tr>\n",
       "      <th>£4,000,000 to £4,999,999</th>\n",
       "      <td>0.0149</td>\n",
       "    </tr>\n",
       "    <tr>\n",
       "      <th>£5,000,000 to £5,999,999</th>\n",
       "      <td>0.0077</td>\n",
       "    </tr>\n",
       "  </tbody>\n",
       "</table>\n",
       "</div>"
      ],
      "text/plain": [
       "                           count\n",
       "MktValgrpA                      \n",
       "£200,000 to £499,999      0.2931\n",
       "£500,000 to £999,999      0.2704\n",
       "£1,000,000 to £1,999,999  0.1702\n",
       "£100,000 to £199,999      0.1053\n",
       "£2,000,000 to £2,999,999  0.0581\n",
       "£6,000,000 or more        0.0284\n",
       "less than £100,000        0.0266\n",
       "£3,000,000 to £3,999,999  0.0253\n",
       "£4,000,000 to £4,999,999  0.0149\n",
       "£5,000,000 to £5,999,999  0.0077"
      ]
     },
     "execution_count": 14,
     "metadata": {},
     "output_type": "execute_result"
    }
   ],
   "source": [
    "df_stats = get_stats(tgt_mkt, \"MktValgrpA\")\n",
    "df_stats"
   ]
  },
  {
   "cell_type": "code",
   "execution_count": 15,
   "metadata": {},
   "outputs": [
    {
     "data": {
      "text/plain": [
       "0    1.086530e+06\n",
       "dtype: float64"
      ]
     },
     "execution_count": 15,
     "metadata": {},
     "output_type": "execute_result"
    }
   ],
   "source": [
    "df_stats = get_stats(tgt_mkt, \"MktValgrpA\")\n",
    "df_stats[\"medmktval\"] = [\n",
    "    (500000+999999)/2,\n",
    "    (200000+499999)/2,\n",
    "    (1000000+1999999)/2,\n",
    "    (100000+199999)/2,\n",
    "    (2000000+2999999)/2,\n",
    "    (100000)/2,\n",
    "    (3000000+3999999)/2,\n",
    "    6000000,\n",
    "    (4000000+4999999)/2,\n",
    "    (5000000+5999999)/2\n",
    "]\n",
    "\n",
    "pd.DataFrame(df_stats[\"count\"].multiply(df_stats[\"medmktval\"])).sum()"
   ]
  },
  {
   "attachments": {},
   "cell_type": "markdown",
   "metadata": {},
   "source": [
    "Note: LTV is as a proportion of market value of portfolio"
   ]
  },
  {
   "cell_type": "code",
   "execution_count": 21,
   "metadata": {},
   "outputs": [
    {
     "name": "stderr",
     "output_type": "stream",
     "text": [
      "/tmp/ipykernel_3016/4196019641.py:1: SettingWithCopyWarning: \n",
      "A value is trying to be set on a copy of a slice from a DataFrame.\n",
      "Try using .loc[row_indexer,col_indexer] = value instead\n",
      "\n",
      "See the caveats in the documentation: https://pandas.pydata.org/pandas-docs/stable/user_guide/indexing.html#returning-a-view-versus-a-copy\n",
      "  tgt_mkt[\"LTVgrpA\"] = tgt_mkt.LTVgrpA.cat.add_categories(['0%'])\n"
     ]
    },
    {
     "data": {
      "text/html": [
       "<div>\n",
       "<style scoped>\n",
       "    .dataframe tbody tr th:only-of-type {\n",
       "        vertical-align: middle;\n",
       "    }\n",
       "\n",
       "    .dataframe tbody tr th {\n",
       "        vertical-align: top;\n",
       "    }\n",
       "\n",
       "    .dataframe thead th {\n",
       "        text-align: right;\n",
       "    }\n",
       "</style>\n",
       "<table border=\"1\" class=\"dataframe\">\n",
       "  <thead>\n",
       "    <tr style=\"text-align: right;\">\n",
       "      <th></th>\n",
       "      <th>count</th>\n",
       "    </tr>\n",
       "    <tr>\n",
       "      <th>LTVgrpA</th>\n",
       "      <th></th>\n",
       "    </tr>\n",
       "  </thead>\n",
       "  <tbody>\n",
       "    <tr>\n",
       "      <th>0%</th>\n",
       "      <td>0.3657</td>\n",
       "    </tr>\n",
       "    <tr>\n",
       "      <th>50 to 59%</th>\n",
       "      <td>0.1115</td>\n",
       "    </tr>\n",
       "    <tr>\n",
       "      <th>60 to 69%</th>\n",
       "      <td>0.0950</td>\n",
       "    </tr>\n",
       "    <tr>\n",
       "      <th>40 to 49%</th>\n",
       "      <td>0.0870</td>\n",
       "    </tr>\n",
       "    <tr>\n",
       "      <th>30 to 39%</th>\n",
       "      <td>0.0710</td>\n",
       "    </tr>\n",
       "    <tr>\n",
       "      <th>20 to 29%</th>\n",
       "      <td>0.0630</td>\n",
       "    </tr>\n",
       "    <tr>\n",
       "      <th>70 to 79%</th>\n",
       "      <td>0.0575</td>\n",
       "    </tr>\n",
       "    <tr>\n",
       "      <th>1 to 9%</th>\n",
       "      <td>0.0482</td>\n",
       "    </tr>\n",
       "    <tr>\n",
       "      <th>10 to 19%</th>\n",
       "      <td>0.0473</td>\n",
       "    </tr>\n",
       "    <tr>\n",
       "      <th>100 and above</th>\n",
       "      <td>0.0238</td>\n",
       "    </tr>\n",
       "    <tr>\n",
       "      <th>80 to 89%</th>\n",
       "      <td>0.0215</td>\n",
       "    </tr>\n",
       "    <tr>\n",
       "      <th>90 to 99%</th>\n",
       "      <td>0.0085</td>\n",
       "    </tr>\n",
       "  </tbody>\n",
       "</table>\n",
       "</div>"
      ],
      "text/plain": [
       "                count\n",
       "LTVgrpA              \n",
       "0%             0.3657\n",
       "50 to 59%      0.1115\n",
       "60 to 69%      0.0950\n",
       "40 to 49%      0.0870\n",
       "30 to 39%      0.0710\n",
       "20 to 29%      0.0630\n",
       "70 to 79%      0.0575\n",
       "1 to 9%        0.0482\n",
       "10 to 19%      0.0473\n",
       "100 and above  0.0238\n",
       "80 to 89%      0.0215\n",
       "90 to 99%      0.0085"
      ]
     },
     "execution_count": 21,
     "metadata": {},
     "output_type": "execute_result"
    }
   ],
   "source": [
    "tgt_mkt[\"LTVgrpA\"] = tgt_mkt.LTVgrpA.cat.add_categories(['0%'])\n",
    "tgt_mkt.loc[tgt_mkt[\"Lntyp4\"] == \"Yes\", \"LTVgrpA\"] = \"0%\"\n",
    "df_stats = get_stats(tgt_mkt, \"LTVgrpA\")\n",
    "df_stats"
   ]
  },
  {
   "attachments": {},
   "cell_type": "markdown",
   "metadata": {},
   "source": [
    "## Estimates"
   ]
  },
  {
   "attachments": {},
   "cell_type": "markdown",
   "metadata": {},
   "source": [
    "Let's make estimates!\n",
    "- NumPrpgrp\n",
    "- ValperPrpA\n",
    "- MktValgrpA\n",
    "- LTVgrpA"
   ]
  },
  {
   "attachments": {},
   "cell_type": "markdown",
   "metadata": {},
   "source": [
    "Actually, let's do NumPrp from the mkt_val and valperprp!\n",
    "Orig stats:\n",
    "```\n",
    "count    5787.000000\n",
    "mean        0.227969\n",
    "std         0.789743\n",
    "min        -0.828571\n",
    "25%        -0.113333\n",
    "50%         0.073333\n",
    "75%         0.400000\n",
    "max        30.000000\n",
    "```\n",
    "Averaging a 22% difference from what we'd expect."
   ]
  },
  {
   "cell_type": "code",
   "execution_count": 238,
   "metadata": {},
   "outputs": [],
   "source": [
    "band_mapping = {\n",
    "    '1 only': 1,\n",
    "    '2 to 4': 3,\n",
    "    '5 to 9': 7,\n",
    "    '10 to 24': 17,\n",
    "    '25 to 100': 62,\n",
    "    'more than 100': 150\n",
    "}\n",
    "\n",
    "df['NumPrpgrp_estimated'] = df['NumPrpgrp'].map(band_mapping)"
   ]
  },
  {
   "cell_type": "code",
   "execution_count": 239,
   "metadata": {},
   "outputs": [],
   "source": [
    "band_mapping = {\n",
    "    'up to £49,999': 25000,\n",
    "    '£50,000 to £79,999': 65000,\n",
    "    '£80,000 to £99,999': 90000,\n",
    "    '£100,000 to £129,999': 115000,\n",
    "    '£130,000 to £149,999': 140000,\n",
    "    '£150,000 to £179,999': 165000,\n",
    "    '£180,000 to £199,999': 190000,\n",
    "    '£200,000 to £499,999': 350000,\n",
    "    '£500,000 and over': 600000\n",
    "}\n",
    "df['ValperPrpA_estimated'] = df['ValperPrpA'].map(band_mapping)"
   ]
  },
  {
   "cell_type": "code",
   "execution_count": 240,
   "metadata": {},
   "outputs": [],
   "source": [
    "band_mapping = {\n",
    "    'less than £100,000': 50000,\n",
    "    '£100,000 to £199,999': 150000,\n",
    "    '£200,000 to £499,999': 350000,\n",
    "    '£500,000 to £999,999': 750000,\n",
    "    '£1,000,000 to £1,999,999': 1500000,\n",
    "    '£2,000,000 to £2,999,999': 2500000,\n",
    "    '£3,000,000 to £3,999,999': 3500000,\n",
    "    '£4,000,000 to £4,999,999': 4500000,\n",
    "    '£5,000,000 to £5,999,999': 5500000,\n",
    "    '£6,000,000 or more': 7000000\n",
    "}\n",
    "df['MktValgrpA_estimated'] = df['MktValgrpA'].map(band_mapping)"
   ]
  },
  {
   "cell_type": "code",
   "execution_count": 241,
   "metadata": {},
   "outputs": [],
   "source": [
    "df[\"LTVgrpA\"] = df.LTVgrpA.cat.add_categories(['0%'])\n",
    "df.loc[df[\"Lntyp4\"] == \"Yes\", \"LTVgrpA\"] = \"0%\"\n",
    "\n",
    "band_mapping = {\n",
    "    '0%': 0,\n",
    "    '1 to 9%': 0.05,\n",
    "    '10 to 19%': 0.15,\n",
    "    '20 to 29%': 0.25,\n",
    "    '30 to 39%': 0.35,\n",
    "    '40 to 49%': 0.45,\n",
    "    '50 to 59%': 0.55,\n",
    "    '60 to 69%': 0.65,\n",
    "    '70 to 79%': 0.75,\n",
    "    '80 to 89%': 0.85,\n",
    "    '90 to 99%': 0.95,\n",
    "    '100 and above': 1.0\n",
    "}\n",
    "\n",
    "df['LTVgrpA_estimated'] = df['LTVgrpA'].map(band_mapping)"
   ]
  },
  {
   "attachments": {},
   "cell_type": "markdown",
   "metadata": {},
   "source": [
    "The below box drastically improves our estimates:\n",
    "```\n",
    "count    5787.000000\n",
    "mean        0.121419\n",
    "std         0.227355\n",
    "min         0.000000\n",
    "25%         0.010000\n",
    "50%         0.066667\n",
    "75%         0.080000\n",
    "max         1.000000\n",
    "```\n",
    "a 12% difference: that's fantastic."
   ]
  },
  {
   "cell_type": "code",
   "execution_count": 252,
   "metadata": {},
   "outputs": [],
   "source": [
    "df['ValperPrpA_estimated'] = pd.to_numeric(df['ValperPrpA_estimated'], errors='coerce')\n",
    "df['MktValgrpA_estimated'] = pd.to_numeric(df['MktValgrpA_estimated'], errors='coerce')\n",
    "\n",
    "df = df[df['MktValgrpA_estimated'].notna()]\n",
    "df = df[df['ValperPrpA_estimated'].notna()]\n",
    "\n",
    "df['Num_prp_estimated'] = (df['MktValgrpA_estimated'] / df['ValperPrpA_estimated']).astype(int)\n",
    "df.loc[df['NumPrpgrp'] == '1 only', 'Num_prp_estimated'] = 1"
   ]
  },
  {
   "cell_type": "code",
   "execution_count": 254,
   "metadata": {},
   "outputs": [],
   "source": [
    "df['Num_prp_estimated'] = pd.to_numeric(df['Num_prp_estimated'], errors='coerce')\n",
    "\n",
    "df['mkt_val_est_result'] = df['ValperPrpA_estimated'] * df['Num_prp_estimated']\n",
    "df['mkt_val_difference'] = (df['mkt_val_est_result'] - df['MktValgrpA_estimated']) / df['MktValgrpA_estimated']"
   ]
  },
  {
   "cell_type": "code",
   "execution_count": 255,
   "metadata": {},
   "outputs": [],
   "source": [
    "df['LTVgrpA_estimated'] = pd.to_numeric(df['LTVgrpA_estimated'], errors='coerce')\n",
    "\n",
    "df['Debt_estimated'] = df['LTVgrpA_estimated'] * df['mkt_val_est_result']"
   ]
  },
  {
   "cell_type": "code",
   "execution_count": 256,
   "metadata": {},
   "outputs": [
    {
     "data": {
      "text/plain": [
       "count    5787.000000\n",
       "mean       -0.051154\n",
       "std         0.133232\n",
       "min        -0.828571\n",
       "25%        -0.066667\n",
       "50%        -0.057143\n",
       "75%        -0.003333\n",
       "max         0.800000\n",
       "Name: mkt_val_difference, dtype: float64"
      ]
     },
     "execution_count": 256,
     "metadata": {},
     "output_type": "execute_result"
    }
   ],
   "source": [
    "df['mkt_val_difference'].describe()"
   ]
  },
  {
   "cell_type": "code",
   "execution_count": 257,
   "metadata": {},
   "outputs": [],
   "source": [
    "df['NumPrpgrp_estimated'] = pd.to_numeric(df['NumPrpgrp_estimated'], errors='coerce')\n",
    "df['num_prp_difference'] = (df['Num_prp_estimated'] - df['NumPrpgrp_estimated']) / df['NumPrpgrp_estimated']"
   ]
  },
  {
   "attachments": {},
   "cell_type": "markdown",
   "metadata": {},
   "source": [
    "Estimating SDLT:"
   ]
  },
  {
   "cell_type": "code",
   "execution_count": 259,
   "metadata": {},
   "outputs": [],
   "source": [
    "def calculate_stlt(prop_val, num_prps):\n",
    "    if prop_val <= 250_000:\n",
    "        sdlt = prop_val * 0.03\n",
    "    elif prop_val <= 925_000:\n",
    "        sdlt = 250_000 * 0.03 + \\\n",
    "            (prop_val - 250_000) * 0.08\n",
    "    elif prop_val <= 1_500_000:\n",
    "        sdlt = 250_000 * 0.03 + \\\n",
    "            675_000 * 0.08 + \\\n",
    "            (prop_val - 925_000) * 0.13\n",
    "    else:\n",
    "        sdlt = 250_000 * 0.03 + \\\n",
    "            675_000 * 0.08 + \\\n",
    "            925_000 * 0.13 + \\\n",
    "            (prop_val - 1_500_000) * 0.15\n",
    "    \n",
    "    sdlt_total = sdlt * num_prps\n",
    "    \n",
    "    return sdlt_total"
   ]
  },
  {
   "cell_type": "code",
   "execution_count": 260,
   "metadata": {},
   "outputs": [],
   "source": [
    "df['sdlt_estimated'] = df.apply(lambda row: calculate_stlt(row['Num_prp_estimated'], row['ValperPrpA_estimated']), axis=1)"
   ]
  },
  {
   "attachments": {},
   "cell_type": "markdown",
   "metadata": {},
   "source": [
    "Estimating capital gains.\n",
    ">only 62 non-corporate landlords are missing these values- from a set of ~5700, that's not a terrible loss.\n",
    "\n",
    "- Start by averaging each band\n",
    "- This will give us a fixed number of years for each LL: can manually calc. est'd appreciation\n",
    "- Once we have this, we can map est'd appreciation to `CapGainsPc_estimated`\n",
    "- Finally, just get a figure for total cap gains multiped `0.28` and the number of props for `CGT_estimated`.\n",
    "\n",
    "I made this a bit more difficult: the `lambda` function below is a polynomial pulled from a spreadsheet of UK HPI from 1996. We get an approximation of CG from the first property, then spread out the others for each year and average the resulting CG to find CGT.\n",
    "\n",
    "`TmLLGrpB`"
   ]
  },
  {
   "cell_type": "code",
   "execution_count": 132,
   "metadata": {},
   "outputs": [
    {
     "data": {
      "image/png": "[encoded data removed]",
      "text/plain": [
       "<Figure size 640x480 with 1 Axes>"
      ]
     },
     "metadata": {},
     "output_type": "display_data"
    }
   ],
   "source": [
    "import matplotlib.pyplot as plt\n",
    "\n",
    "desired_order = [\n",
    "    'Less than 2 years', \n",
    "    '3 to 5 years',\n",
    "    '6 to 10 years', \n",
    "    '11 to 20 years', \n",
    "    'over 20 years', \n",
    "    ]\n",
    "\n",
    "df['TmLLgrpB'].value_counts().reindex(desired_order).plot(kind='bar')\n",
    "plt.xlabel('Categories')\n",
    "plt.ylabel('Count')\n",
    "plt.show()\n"
   ]
  },
  {
   "cell_type": "code",
   "execution_count": 263,
   "metadata": {},
   "outputs": [],
   "source": [
    "years_owned = {\n",
    "    'Less than 2 years': 1,  # 1 year, assuming an average of 1 year\n",
    "    '3 to 5 years': 3,  # 3 years, skewed lower from 4 years\n",
    "    '6 to 10 years': 7,  # 7 years, skewed lower from 8 years\n",
    "    '11 to 20 years': 13,  # 13 years, skewed lower from 15 years\n",
    "    'over 20 years': 20,  # 22 years, skewed lower from 25 years\n",
    "    }\n",
    "\n",
    "# years_owned = {\n",
    "#     'Less than 2 years': 0.043,  # 1 year, assuming an average of 1 year\n",
    "#     '3 to 5 years': 0.178,  # 3 years, skewed lower from 4 years\n",
    "#     '6 to 10 years': 0.342,  # 7 years, skewed lower from 8 years\n",
    "#     '11 to 20 years': 0.491,  # 13 years, skewed lower from 15 years\n",
    "#     'over 20 years': 2.969,  # 22 years, skewed lower from 25 years\n",
    "#     }\n",
    "\n",
    "df['YearsOwned_estimated'] = df['TmLLgrpB'].map(years_owned)\n",
    "df['YearsOwned_estimated'] = pd.to_numeric(df['YearsOwned_estimated'], errors='coerce')\n",
    "df['PrpsPerYear'] = df['Num_prp_estimated'] / df['YearsOwned_estimated']"
   ]
  },
  {
   "cell_type": "code",
   "execution_count": 356,
   "metadata": {},
   "outputs": [
    {
     "data": {
      "text/plain": [
       "(1.3082544999999999, 2.3082545, 1061408.0899658161, 388805.73)"
      ]
     },
     "execution_count": 356,
     "metadata": {},
     "output_type": "execute_result"
    }
   ],
   "source": [
    "def est_cap_gains(years_owned, num_prps, mkt_val):\n",
    "    cg = lambda x : (-0.0006 * x ** 3 + 0.0314 * x ** 2 - 0.5628 * x + 3.7054) + 1\n",
    "    \n",
    "    cg_amts = []\n",
    "    years_per_prp = years_owned / num_prps\n",
    "    current_yr = years_per_prp\n",
    "    \n",
    "    cg_amts.append(cg(24 - years_owned))\n",
    "    \n",
    "    if num_prps > 1:\n",
    "        for i in range(num_prps - 1):\n",
    "            cg_amts.append(cg(current_yr))\n",
    "            current_yr += years_per_prp\n",
    "    \n",
    "    cg_avg = sum(cg_amts) / len(cg_amts)\n",
    "    \n",
    "    orig_mkt = mkt_val / (cg_avg)\n",
    "    cg_total = round(max(0, mkt_val - orig_mkt) * 0.28, 2)\n",
    "    \n",
    "    \n",
    "    return cg_avg - 1, cg_avg, orig_mkt, cg_total\n",
    "    \n",
    "        \n",
    "    \n",
    "est_cap_gains(15, 50, 2450000.0)"
   ]
  },
  {
   "cell_type": "code",
   "execution_count": 269,
   "metadata": {},
   "outputs": [],
   "source": [
    "df['cg_estimated'] = df.apply(lambda row: est_cap_gains(row['YearsOwned_estimated'], row['Num_prp_estimated'], row['mkt_val_est_result']), axis=1)\n",
    "df['total_lending'] = df['Debt_estimated'].fillna(0) + df['sdlt_estimated'].fillna(0) + df['cg_estimated'].fillna(0)"
   ]
  },
  {
   "cell_type": "code",
   "execution_count": 385,
   "metadata": {},
   "outputs": [],
   "source": [
    "df['new_ltv'] = df['total_lending'] / df['mkt_val_est_result']"
   ]
  },
  {
   "attachments": {},
   "cell_type": "markdown",
   "metadata": {},
   "source": [
    "Putting the important vars into a new df"
   ]
  },
  {
   "cell_type": "code",
   "execution_count": 386,
   "metadata": {},
   "outputs": [],
   "source": [
    "df_test = df[[\n",
    "    'LLCat1',\n",
    "    'TmLLgrpB',\n",
    "    # 'LTVgrpA',\n",
    "    'LTVgrpA_estimated',\n",
    "    'Debt_estimated',\n",
    "    # 'NumPrpgrp',\n",
    "    # 'NumPrpgrp_estimated',\n",
    "    'Num_prp_estimated',\n",
    "    # 'ValperPrpA',\n",
    "    'ValperPrpA_estimated',\n",
    "    # 'MktValgrpA',\n",
    "    # 'MktValgrpA_estimated',\n",
    "    'mkt_val_est_result',\n",
    "    # 'mkt_val_difference',\n",
    "    'sdlt_estimated',\n",
    "    'cg_estimated',\n",
    "    'total_lending',\n",
    "    'new_ltv',\n",
    "]]"
   ]
  },
  {
   "cell_type": "code",
   "execution_count": 387,
   "metadata": {},
   "outputs": [],
   "source": [
    "df_test = df_test[df['mkt_val_difference'].notna()]\n",
    "df_test['Debt_estimated'] = df_test['Debt_estimated'].fillna(0)"
   ]
  },
  {
   "cell_type": "code",
   "execution_count": 388,
   "metadata": {},
   "outputs": [
    {
     "data": {
      "text/html": [
       "<div>\n",
       "<style scoped>\n",
       "    .dataframe tbody tr th:only-of-type {\n",
       "        vertical-align: middle;\n",
       "    }\n",
       "\n",
       "    .dataframe tbody tr th {\n",
       "        vertical-align: top;\n",
       "    }\n",
       "\n",
       "    .dataframe thead th {\n",
       "        text-align: right;\n",
       "    }\n",
       "</style>\n",
       "<table border=\"1\" class=\"dataframe\">\n",
       "  <thead>\n",
       "    <tr style=\"text-align: right;\">\n",
       "      <th></th>\n",
       "      <th>LLCat1</th>\n",
       "      <th>TmLLgrpB</th>\n",
       "      <th>LTVgrpA_estimated</th>\n",
       "      <th>Debt_estimated</th>\n",
       "      <th>Num_prp_estimated</th>\n",
       "      <th>ValperPrpA_estimated</th>\n",
       "      <th>mkt_val_est_result</th>\n",
       "      <th>sdlt_estimated</th>\n",
       "      <th>cg_estimated</th>\n",
       "      <th>total_lending</th>\n",
       "      <th>new_ltv</th>\n",
       "    </tr>\n",
       "  </thead>\n",
       "  <tbody>\n",
       "    <tr>\n",
       "      <th>1917</th>\n",
       "      <td>As an individual or group of individuals</td>\n",
       "      <td>6 to 10 years</td>\n",
       "      <td>0.00</td>\n",
       "      <td>0.0</td>\n",
       "      <td>2</td>\n",
       "      <td>165000.0</td>\n",
       "      <td>330000.0</td>\n",
       "      <td>9900.0</td>\n",
       "      <td>50168.93</td>\n",
       "      <td>60068.93</td>\n",
       "      <td>0.182027</td>\n",
       "    </tr>\n",
       "    <tr>\n",
       "      <th>48</th>\n",
       "      <td>As an individual or group of individuals</td>\n",
       "      <td>3 to 5 years</td>\n",
       "      <td>0.00</td>\n",
       "      <td>0.0</td>\n",
       "      <td>1</td>\n",
       "      <td>65000.0</td>\n",
       "      <td>65000.0</td>\n",
       "      <td>1950.0</td>\n",
       "      <td>3151.22</td>\n",
       "      <td>5101.22</td>\n",
       "      <td>0.078480</td>\n",
       "    </tr>\n",
       "    <tr>\n",
       "      <th>2130</th>\n",
       "      <td>As an individual or group of individuals</td>\n",
       "      <td>6 to 10 years</td>\n",
       "      <td>0.00</td>\n",
       "      <td>0.0</td>\n",
       "      <td>11</td>\n",
       "      <td>65000.0</td>\n",
       "      <td>715000.0</td>\n",
       "      <td>21450.0</td>\n",
       "      <td>133598.29</td>\n",
       "      <td>155048.29</td>\n",
       "      <td>0.216851</td>\n",
       "    </tr>\n",
       "    <tr>\n",
       "      <th>785</th>\n",
       "      <td>As an individual or group of individuals</td>\n",
       "      <td>6 to 10 years</td>\n",
       "      <td>0.45</td>\n",
       "      <td>1575000.0</td>\n",
       "      <td>10</td>\n",
       "      <td>350000.0</td>\n",
       "      <td>3500000.0</td>\n",
       "      <td>105000.0</td>\n",
       "      <td>651912.33</td>\n",
       "      <td>2331912.33</td>\n",
       "      <td>0.666261</td>\n",
       "    </tr>\n",
       "    <tr>\n",
       "      <th>3521</th>\n",
       "      <td>As an individual or group of individuals</td>\n",
       "      <td>6 to 10 years</td>\n",
       "      <td>0.00</td>\n",
       "      <td>0.0</td>\n",
       "      <td>6</td>\n",
       "      <td>115000.0</td>\n",
       "      <td>690000.0</td>\n",
       "      <td>20700.0</td>\n",
       "      <td>125393.33</td>\n",
       "      <td>146093.33</td>\n",
       "      <td>0.211729</td>\n",
       "    </tr>\n",
       "  </tbody>\n",
       "</table>\n",
       "</div>"
      ],
      "text/plain": [
       "                                        LLCat1       TmLLgrpB  \\\n",
       "1917  As an individual or group of individuals  6 to 10 years   \n",
       "48    As an individual or group of individuals   3 to 5 years   \n",
       "2130  As an individual or group of individuals  6 to 10 years   \n",
       "785   As an individual or group of individuals  6 to 10 years   \n",
       "3521  As an individual or group of individuals  6 to 10 years   \n",
       "\n",
       "      LTVgrpA_estimated  Debt_estimated  Num_prp_estimated  \\\n",
       "1917               0.00             0.0                  2   \n",
       "48                 0.00             0.0                  1   \n",
       "2130               0.00             0.0                 11   \n",
       "785                0.45       1575000.0                 10   \n",
       "3521               0.00             0.0                  6   \n",
       "\n",
       "      ValperPrpA_estimated  mkt_val_est_result  sdlt_estimated  cg_estimated  \\\n",
       "1917              165000.0            330000.0          9900.0      50168.93   \n",
       "48                 65000.0             65000.0          1950.0       3151.22   \n",
       "2130               65000.0            715000.0         21450.0     133598.29   \n",
       "785               350000.0           3500000.0        105000.0     651912.33   \n",
       "3521              115000.0            690000.0         20700.0     125393.33   \n",
       "\n",
       "      total_lending   new_ltv  \n",
       "1917       60068.93  0.182027  \n",
       "48          5101.22  0.078480  \n",
       "2130      155048.29  0.216851  \n",
       "785      2331912.33  0.666261  \n",
       "3521      146093.33  0.211729  "
      ]
     },
     "execution_count": 388,
     "metadata": {},
     "output_type": "execute_result"
    }
   ],
   "source": [
    "df_test.sample(5)"
   ]
  },
  {
   "attachments": {},
   "cell_type": "markdown",
   "metadata": {},
   "source": [
    "## New Tgt Market"
   ]
  },
  {
   "cell_type": "code",
   "execution_count": 390,
   "metadata": {},
   "outputs": [
    {
     "name": "stdout",
     "output_type": "stream",
     "text": [
      " Target market: 4844 \n",
      " Total market: 5787 \n",
      " Percentage of total market: 83.7%\n"
     ]
    }
   ],
   "source": [
    "tgt_mkt = df_test[(df_test[\"LLCat1\"].isin(['As an individual or group of individuals', 'Other (please specify)']))]\n",
    "tgt_mkt = df_test[df_test['new_ltv'] <= .8]\n",
    "tgt_len = len(tgt_mkt.index)\n",
    "df_len = len(df_test[(df_test[\"LLCat1\"].notna())].index)\n",
    "\n",
    "print(f\" Target market: {tgt_len} \\n Total market: {df_len} \\n Percentage of total market: {round((tgt_len/df_len)*100,2)}%\")"
   ]
  },
  {
   "cell_type": "code",
   "execution_count": 391,
   "metadata": {},
   "outputs": [
    {
     "name": "stdout",
     "output_type": "stream",
     "text": [
      " Target market: 25482 \n",
      " Total market: 32286 \n",
      " Percentage of total market: 78.93%\n"
     ]
    }
   ],
   "source": [
    "tgt_mkt_prps = tgt_mkt['Num_prp_estimated'].sum()\n",
    "mkt_prps = df['Num_prp_estimated'].sum()\n",
    "\n",
    "print(f\" Target market: {tgt_mkt_prps} \\n Total market: {mkt_prps} \\n Percentage of total market: {round((tgt_mkt_prps/mkt_prps)*100,2)}%\")"
   ]
  },
  {
   "cell_type": "code",
   "execution_count": 392,
   "metadata": {},
   "outputs": [
    {
     "name": "stdout",
     "output_type": "stream",
     "text": [
      " Target market: 5563190000.0 \n",
      " Total market: 6596535000.0 \n",
      " Percentage of total market: 84.34%\n"
     ]
    }
   ],
   "source": [
    "tgt_mkt_val = tgt_mkt['mkt_val_est_result'].sum()\n",
    "mkt_val = df_test['mkt_val_est_result'].sum()\n",
    "\n",
    "print(f\" Target market: {tgt_mkt_val} \\n Total market: {mkt_val} \\n Percentage of total market: {round((tgt_mkt_val/mkt_val)*100,2)}%\")"
   ]
  },
  {
   "cell_type": "code",
   "execution_count": 401,
   "metadata": {},
   "outputs": [
    {
     "data": {
      "text/plain": [
       "4844"
      ]
     },
     "execution_count": 401,
     "metadata": {},
     "output_type": "execute_result"
    }
   ],
   "source": [
    "len(tgt_mkt)"
   ]
  },
  {
   "cell_type": "code",
   "execution_count": 394,
   "metadata": {},
   "outputs": [
    {
     "data": {
      "text/plain": [
       "2134723019.17"
      ]
     },
     "execution_count": 394,
     "metadata": {},
     "output_type": "execute_result"
    }
   ],
   "source": [
    "available_lending = round(tgt_mkt['total_lending'].sum(), 2)\n",
    "\n",
    "available_lending"
   ]
  },
  {
   "cell_type": "code",
   "execution_count": 402,
   "metadata": {},
   "outputs": [
    {
     "data": {
      "text/plain": [
       "0.3837228315355039"
      ]
     },
     "execution_count": 402,
     "metadata": {},
     "output_type": "execute_result"
    }
   ],
   "source": [
    "available_lending / tgt_mkt_val"
   ]
  },
  {
   "cell_type": "code",
   "execution_count": 395,
   "metadata": {},
   "outputs": [
    {
     "data": {
      "text/plain": [
       "391764.1804312718"
      ]
     },
     "execution_count": 395,
     "metadata": {},
     "output_type": "execute_result"
    }
   ],
   "source": [
    "available_lending / 5449"
   ]
  },
  {
   "cell_type": "code",
   "execution_count": 399,
   "metadata": {},
   "outputs": [
    {
     "data": {
      "text/plain": [
       "426944603834.0"
      ]
     },
     "execution_count": 399,
     "metadata": {},
     "output_type": "execute_result"
    }
   ],
   "source": [
    "available_lending / 0.005"
   ]
  },
  {
   "cell_type": "code",
   "execution_count": 404,
   "metadata": {},
   "outputs": [
    {
     "data": {
      "text/plain": [
       "0.6191997954748818"
      ]
     },
     "execution_count": 404,
     "metadata": {},
     "output_type": "execute_result"
    }
   ],
   "source": [
    "mkt_pc = len(tgt_mkt)/len(df_orig)\n",
    "mkt_pc"
   ]
  },
  {
   "cell_type": "code",
   "execution_count": 405,
   "metadata": {},
   "outputs": [
    {
     "data": {
      "text/plain": [
       "928799.6932123227"
      ]
     },
     "execution_count": 405,
     "metadata": {},
     "output_type": "execute_result"
    }
   ],
   "source": [
    "mkt_pc * 1_500_000"
   ]
  },
  {
   "cell_type": "code",
   "execution_count": 398,
   "metadata": {},
   "outputs": [
    {
     "data": {
      "image/png": "[encoded data removed]",
      "text/plain": [
       "<Figure size 640x480 with 1 Axes>"
      ]
     },
     "metadata": {},
     "output_type": "display_data"
    }
   ],
   "source": [
    "import matplotlib.pyplot as plt\n",
    "\n",
    "df['LTVgrpA_estimated'] = pd.to_numeric(df['LTVgrpA_estimated'], errors='coerce')\n",
    "\n",
    "# assuming df is your DataFrame and it's already defined\n",
    "tgt_grouped = tgt_mkt.groupby('LTVgrpA_estimated')['total_lending'].sum().reset_index()\n",
    "\n",
    "# sort dataframe by 'LTVgrpA_estimated' for a better visualization\n",
    "tgt_grouped = tgt_grouped.sort_values(by='LTVgrpA_estimated')\n",
    "\n",
    "tgt_grouped.plot(kind='bar', x='LTVgrpA_estimated', y='total_lending', legend=None)\n",
    "\n",
    "# plt.xlabel('Estimated Number of Properties')\n",
    "plt.ylabel('Total Lending')\n",
    "# plt.title('Total Lending by Estimated Number of Properties')\n",
    "plt.show()\n"
   ]
  },
  {
   "cell_type": "code",
   "execution_count": 384,
   "metadata": {},
   "outputs": [
    {
     "data": {
      "text/html": [
       "<div>\n",
       "<style scoped>\n",
       "    .dataframe tbody tr th:only-of-type {\n",
       "        vertical-align: middle;\n",
       "    }\n",
       "\n",
       "    .dataframe tbody tr th {\n",
       "        vertical-align: top;\n",
       "    }\n",
       "\n",
       "    .dataframe thead th {\n",
       "        text-align: right;\n",
       "    }\n",
       "</style>\n",
       "<table border=\"1\" class=\"dataframe\">\n",
       "  <thead>\n",
       "    <tr style=\"text-align: right;\">\n",
       "      <th></th>\n",
       "      <th>LTVgrpA_estimated</th>\n",
       "      <th>total_lending</th>\n",
       "    </tr>\n",
       "  </thead>\n",
       "  <tbody>\n",
       "    <tr>\n",
       "      <th>0</th>\n",
       "      <td>0.00</td>\n",
       "      <td>2.116387e+08</td>\n",
       "    </tr>\n",
       "    <tr>\n",
       "      <th>1</th>\n",
       "      <td>0.05</td>\n",
       "      <td>1.221726e+08</td>\n",
       "    </tr>\n",
       "    <tr>\n",
       "      <th>2</th>\n",
       "      <td>0.15</td>\n",
       "      <td>1.064676e+08</td>\n",
       "    </tr>\n",
       "    <tr>\n",
       "      <th>3</th>\n",
       "      <td>0.25</td>\n",
       "      <td>1.771430e+08</td>\n",
       "    </tr>\n",
       "    <tr>\n",
       "      <th>4</th>\n",
       "      <td>0.35</td>\n",
       "      <td>2.533968e+08</td>\n",
       "    </tr>\n",
       "    <tr>\n",
       "      <th>5</th>\n",
       "      <td>0.45</td>\n",
       "      <td>3.533204e+08</td>\n",
       "    </tr>\n",
       "    <tr>\n",
       "      <th>6</th>\n",
       "      <td>0.55</td>\n",
       "      <td>5.616129e+08</td>\n",
       "    </tr>\n",
       "    <tr>\n",
       "      <th>7</th>\n",
       "      <td>0.65</td>\n",
       "      <td>5.003245e+08</td>\n",
       "    </tr>\n",
       "    <tr>\n",
       "      <th>8</th>\n",
       "      <td>0.75</td>\n",
       "      <td>2.711129e+08</td>\n",
       "    </tr>\n",
       "    <tr>\n",
       "      <th>9</th>\n",
       "      <td>0.85</td>\n",
       "      <td>1.177665e+08</td>\n",
       "    </tr>\n",
       "    <tr>\n",
       "      <th>10</th>\n",
       "      <td>0.95</td>\n",
       "      <td>5.117386e+07</td>\n",
       "    </tr>\n",
       "    <tr>\n",
       "      <th>11</th>\n",
       "      <td>1.00</td>\n",
       "      <td>5.896666e+07</td>\n",
       "    </tr>\n",
       "  </tbody>\n",
       "</table>\n",
       "</div>"
      ],
      "text/plain": [
       "    LTVgrpA_estimated  total_lending\n",
       "0                0.00   2.116387e+08\n",
       "1                0.05   1.221726e+08\n",
       "2                0.15   1.064676e+08\n",
       "3                0.25   1.771430e+08\n",
       "4                0.35   2.533968e+08\n",
       "5                0.45   3.533204e+08\n",
       "6                0.55   5.616129e+08\n",
       "7                0.65   5.003245e+08\n",
       "8                0.75   2.711129e+08\n",
       "9                0.85   1.177665e+08\n",
       "10               0.95   5.117386e+07\n",
       "11               1.00   5.896666e+07"
      ]
     },
     "execution_count": 384,
     "metadata": {},
     "output_type": "execute_result"
    }
   ],
   "source": [
    "tgt_grouped"
   ]
  }
 ],
 "metadata": {
  "kernelspec": {
   "display_name": "base",
   "language": "python",
   "name": "python3"
  },
  "language_info": {
   "codemirror_mode": {
    "name": "ipython",
    "version": 3
   },
   "file_extension": ".py",
   "mimetype": "text/x-python",
   "name": "python",
   "nbconvert_exporter": "python",
   "pygments_lexer": "ipython3",
   "version": "3.9.13"
  },
  "orig_nbformat": 4
 },
 "nbformat": 4,
 "nbformat_minor": 2
}
