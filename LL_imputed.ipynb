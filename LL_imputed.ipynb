{
 "cells": [
  {
   "attachments": {},
   "cell_type": "markdown",
   "metadata": {},
   "source": [
    "## Loading"
   ]
  },
  {
   "cell_type": "code",
   "execution_count": 1,
   "metadata": {},
   "outputs": [],
   "source": [
    "import pandas as pd\n",
    "import numpy as np\n",
    "\n",
    "pd.options.mode.chained_assignment = None  # default='warn'"
   ]
  },
  {
   "cell_type": "code",
   "execution_count": 2,
   "metadata": {},
   "outputs": [],
   "source": [
    "df_orig = pd.read_spss(\"./Data/private_landlord_survey/UKDA-8455-spss/spss/spss24/epls_2018_forarchive.sav\")"
   ]
  },
  {
   "cell_type": "code",
   "execution_count": 3,
   "metadata": {},
   "outputs": [],
   "source": [
    "df = df_orig\n",
    "df = df[[\"serial_2\", # Unique Identifier\n",
    "        \"LLCat1\", # LL org category\n",
    "        \"LLeth2cat\", # LL ethnicity\n",
    "        \"Age4cat\", # LL Age\n",
    "        \"ValperPrpA\", # Avg mkt val per prop\n",
    "        \"MktValgrpA\", # Mkt val all props\n",
    "        \"BTL\", # Buy to let loan/other\n",
    "        \"LnperPrpA\", # Avg loan per prop\n",
    "        \"LnValgrpA\", # Total val all loans\n",
    "        \"LTVgrpA\", # LTV market val\n",
    "        \"TmLLgrpB\", # How long been LL\n",
    "        \"LLExp\", # Length experience as LL\n",
    "        \"NumPrpgrp\", # How many props\n",
    "        \"RtIncgrpa\", # Gross rental inc\n",
    "        \"LLIncgrpA\", # Total LL inc no rent\n",
    "        \"TotIncgrp\", # Total LL inc\n",
    "        \"RtPrIncgrpA\", # Rent as prop. inc\n",
    "        \"Port_size\", # Portfolio size\n",
    "        \"LLEmpl01\", # Emp. Status: FT\n",
    "        \"LLEmpl02\", # Emp. Status: PT\n",
    "        \"LLEmpl03\", # Emp. Status: Self-employed as LL\n",
    "        \"LLEmpl04\", # Emp. Status: Self-employed\n",
    "        \"LLEmpl05\", # Emp. Status: Retired\n",
    "        \"LLEmpl06\", # Emp. Status: Company director\n",
    "        \"LLEmpl07\", # Emp. Status: Student\n",
    "        \"LLEmpl08\", # Emp. Status: FT carer\n",
    "        \"LLEmpl09\", # Emp. Status: Unemployed\n",
    "        \"LLOrg1\", # LL Org: National LLs Assc.\n",
    "        \"LLOrg2\", # LL Org: Residential LL Assc.\n",
    "        \"LLOrg3\", # LL Org: Other professional\n",
    "        \"LLOrg4\", # LL Org: None\n",
    "        \"AgOrg1\", # Rental Org: ARLA\n",
    "        \"AgOrg2\", # Rental Org: NAEA\n",
    "        \"AgOrg3\", # Rental Org: NALS\n",
    "        \"AgOrg4\", # Rental Org: UKALA\n",
    "        \"AgOrg5\", # Rental Org: Other\n",
    "        \"AgOrg6\", # Rental Org: None\n",
    "        \"Regprop01\", # Prop Region: East England\n",
    "        \"Regprop02\", # Prop Region: East Midlands\n",
    "        \"Regprop03\", # Prop Region: Inner London\n",
    "        \"Regprop04\", # Prop Region: Outer London\n",
    "        \"Regprop05\", # Prop Region: North East\n",
    "        \"Regprop06\", # Prop Region: North West\n",
    "        \"Regprop07\", # Prop Region: South East\n",
    "        \"Regprop08\", # Prop Region: South West\n",
    "        \"Regprop09\", # Prop Region: West Midlands\n",
    "        \"Regprop10\", # Prop Region: Yorkshire/Humber\n",
    "        \"LLInfo01\", # Where info: Letting Agent\n",
    "        \"LLInfo02\", # Where info: LL membership ass. or org\n",
    "        \"LLInfo03\", # Where info: Online landlord forums/websites\n",
    "        \"LLInfo04\", # Where info: Gov't websites\n",
    "        \"LLInfo05\", # Where info: Family/friends\n",
    "        \"LLInfo06\", # Where info: Online media\n",
    "        \"LLInfo07\", # Where info: TV\n",
    "        \"LLInfo08\", # Where info: Radio\n",
    "        \"LLInfo09\", # Where info: Newspapers\n",
    "        \"AgtuseA1\", # Agent use: For letting svcs\n",
    "        \"AgtuseA2\", # Agent use: For mgmt svcs\n",
    "        \"AgtuseA3\", # Agent use: None\n",
    "        \"FutVac\", # Next Vacancy will relet\n",
    "        \"FutProp\", # Next two years, plan\n",
    "        \"FutRLv1\", # LL leave/reduce: Financial\n",
    "        \"FutRLv2\", # LL leave/reduce: Personal\n",
    "        \"FutRLv3\", # LL leave/reduce: Legislative\n",
    "        \"FutRLv4\", # LL leave/reduce: Other\n",
    "        \"FutRLv5\", # LL leave/reduce: None\n",
    "        \"FutRLv6\", # LL leave/reduce: Don't Know\n",
    "        \"FutInc1\", # LL Increase/maintain: Financial\n",
    "        \"FutInc2\", # LL Increase/maintain: Personal\n",
    "        \"FutInc3\", # LL Increase/maintain: Legislative\n",
    "        \"FutInc4\", # LL Increase/maintain: Other\n",
    "        \"FutInc5\", # LL Increase/maintain: None\n",
    "        \"FutInc6\", # LL Increase/maintain: Don't know\n",
    "        \"LLPmb1\", # LL Serious problems: Financial\n",
    "        \"LLPmb2\", # LL Serious problems: Legislative\n",
    "        \"LLPmb3\", # LL Serious problems: Tenant behaviour\n",
    "        \"LLPmb4\", # LL Serious problems: Other\n",
    "        \"LLPmb5\", # LL Serious problems: None\n",
    "        \"Lntyp1\", # Current loan: B2L mort\n",
    "        \"Lntyp2\", # Current loan: Commercial loan\n",
    "        \"Lntyp3\", # Current loan: Family/friends\n",
    "        \"Lntyp4\", # Current loan: No debt\n",
    "        \"Lntyp5\", # Current loan: Other\n",
    "        \"TaxB201\", # Awareness: Stamp duty increase\n",
    "        \"TaxB202\", # Awareness: Reduced tax relief\n",
    "        \"TaxB203\", # Awareness: Reduced CG tax non-prop\n",
    "        \"TaxB204\", # Awareness: Change wear/tear allow\n",
    "        \"TaxB205\", # Awareness: Change minimum rent B2L mort\n",
    "        \"TaxB206\", # Awareness: Letting agent fee ban\n",
    "        \"TaxB207\", # Awareness: Tax treatment foreign prop own\n",
    "        \"TaxB208\", # Awareness: None\n",
    "        \"TaxB301\", # As above but understanding\n",
    "        \"TaxB302\",\n",
    "        \"TaxB303\",\n",
    "        \"TaxB304\",\n",
    "        \"TaxB305\",\n",
    "        \"TaxB306\",\n",
    "        \"TaxB307\",\n",
    "        \"EPCEFG\", # Any props. w/ EPC rating E, F or G\n",
    "        \"EPCE\", # Awareness: EPC requirements\n",
    "        \"LetReq03\"] # Requirement: EPC Certificate]\n",
    "]\n",
    "\n",
    "df[\"serial_2\"] = df[\"serial_2\"].astype(\"int\")"
   ]
  },
  {
   "cell_type": "code",
   "execution_count": 4,
   "metadata": {},
   "outputs": [],
   "source": [
    "def get_stats(df: pd.DataFrame, col: str, percent:bool = True) -> pd.DataFrame:\n",
    "    df_stats = df[col].value_counts().to_frame()\n",
    "    if percent == True:\n",
    "        f = lambda a : round(a / len(df[df[col].notna()].index), 4)\n",
    "        df_stats = df_stats.applymap(f)\n",
    "    return df_stats"
   ]
  },
  {
   "cell_type": "code",
   "execution_count": 5,
   "metadata": {},
   "outputs": [
    {
     "data": {
      "text/plain": [
       "0.6599552572706935"
      ]
     },
     "execution_count": 5,
     "metadata": {},
     "output_type": "execute_result"
    }
   ],
   "source": [
    "len(df[df['FutRLv3'] == 'Yes'])/len(df[df['FutRLv3'].notna()])"
   ]
  },
  {
   "cell_type": "code",
   "execution_count": 6,
   "metadata": {},
   "outputs": [
    {
     "data": {
      "text/html": [
       "<div>\n",
       "<style scoped>\n",
       "    .dataframe tbody tr th:only-of-type {\n",
       "        vertical-align: middle;\n",
       "    }\n",
       "\n",
       "    .dataframe tbody tr th {\n",
       "        vertical-align: top;\n",
       "    }\n",
       "\n",
       "    .dataframe thead th {\n",
       "        text-align: right;\n",
       "    }\n",
       "</style>\n",
       "<table border=\"1\" class=\"dataframe\">\n",
       "  <thead>\n",
       "    <tr style=\"text-align: right;\">\n",
       "      <th></th>\n",
       "      <th>count</th>\n",
       "    </tr>\n",
       "    <tr>\n",
       "      <th>FutRLv3</th>\n",
       "      <th></th>\n",
       "    </tr>\n",
       "  </thead>\n",
       "  <tbody>\n",
       "    <tr>\n",
       "      <th>Yes</th>\n",
       "      <td>0.66</td>\n",
       "    </tr>\n",
       "    <tr>\n",
       "      <th>No</th>\n",
       "      <td>0.34</td>\n",
       "    </tr>\n",
       "  </tbody>\n",
       "</table>\n",
       "</div>"
      ],
      "text/plain": [
       "         count\n",
       "FutRLv3       \n",
       "Yes       0.66\n",
       "No        0.34"
      ]
     },
     "execution_count": 6,
     "metadata": {},
     "output_type": "execute_result"
    }
   ],
   "source": [
    "get_stats(df, 'FutRLv3')"
   ]
  },
  {
   "attachments": {},
   "cell_type": "markdown",
   "metadata": {},
   "source": [
    "## Imputing Variables"
   ]
  },
  {
   "cell_type": "code",
   "execution_count": 7,
   "metadata": {},
   "outputs": [],
   "source": [
    "def calculate_stlt(prop_val, num_prps):\n",
    "    if prop_val <= 250_000:\n",
    "        sdlt = prop_val * 0.03\n",
    "    elif prop_val <= 925_000:\n",
    "        sdlt = 250_000 * 0.03 + \\\n",
    "            (prop_val - 250_000) * 0.08\n",
    "    elif prop_val <= 1_500_000:\n",
    "        sdlt = 250_000 * 0.03 + \\\n",
    "            675_000 * 0.08 + \\\n",
    "            (prop_val - 925_000) * 0.13\n",
    "    else:\n",
    "        sdlt = 250_000 * 0.03 + \\\n",
    "            675_000 * 0.08 + \\\n",
    "            925_000 * 0.13 + \\\n",
    "            (prop_val - 1_500_000) * 0.15\n",
    "    \n",
    "    sdlt_total = sdlt * num_prps\n",
    "    \n",
    "    return sdlt_total"
   ]
  },
  {
   "cell_type": "code",
   "execution_count": 9,
   "metadata": {},
   "outputs": [],
   "source": [
    "def est_cap_gains(years_owned, num_prps, mkt_val):\n",
    "    cg = lambda x : (-0.0006 * x ** 3 + 0.0314 * x ** 2 - 0.5628 * x + 3.7054) + 1\n",
    "    \n",
    "    cg_amts = []\n",
    "    years_per_prp = years_owned / num_prps\n",
    "    current_yr = years_per_prp\n",
    "    \n",
    "    cg_amts.append(cg(24 - years_owned))\n",
    "    \n",
    "    if num_prps > 1:\n",
    "        for i in range(num_prps - 1):\n",
    "            cg_amts.append(cg(current_yr))\n",
    "            current_yr += years_per_prp\n",
    "    \n",
    "    cg_avg = sum(cg_amts) / len(cg_amts)\n",
    "    \n",
    "    orig_mkt = mkt_val / (cg_avg)\n",
    "    cg_total = round(max(0, mkt_val - orig_mkt) * 0.28, 2)\n",
    "    \n",
    "    \n",
    "    return cg_total"
   ]
  },
  {
   "cell_type": "code",
   "execution_count": 10,
   "metadata": {},
   "outputs": [
    {
     "data": {
      "text/html": [
       "<div>\n",
       "<style scoped>\n",
       "    .dataframe tbody tr th:only-of-type {\n",
       "        vertical-align: middle;\n",
       "    }\n",
       "\n",
       "    .dataframe tbody tr th {\n",
       "        vertical-align: top;\n",
       "    }\n",
       "\n",
       "    .dataframe thead th {\n",
       "        text-align: right;\n",
       "    }\n",
       "</style>\n",
       "<table border=\"1\" class=\"dataframe\">\n",
       "  <thead>\n",
       "    <tr style=\"text-align: right;\">\n",
       "      <th></th>\n",
       "      <th>count</th>\n",
       "    </tr>\n",
       "    <tr>\n",
       "      <th>LTVgrpA</th>\n",
       "      <th></th>\n",
       "    </tr>\n",
       "  </thead>\n",
       "  <tbody>\n",
       "    <tr>\n",
       "      <th>0%</th>\n",
       "      <td>0.3645</td>\n",
       "    </tr>\n",
       "    <tr>\n",
       "      <th>50 to 59%</th>\n",
       "      <td>0.1098</td>\n",
       "    </tr>\n",
       "    <tr>\n",
       "      <th>60 to 69%</th>\n",
       "      <td>0.0947</td>\n",
       "    </tr>\n",
       "    <tr>\n",
       "      <th>40 to 49%</th>\n",
       "      <td>0.0875</td>\n",
       "    </tr>\n",
       "    <tr>\n",
       "      <th>30 to 39%</th>\n",
       "      <td>0.0719</td>\n",
       "    </tr>\n",
       "    <tr>\n",
       "      <th>20 to 29%</th>\n",
       "      <td>0.0627</td>\n",
       "    </tr>\n",
       "    <tr>\n",
       "      <th>70 to 79%</th>\n",
       "      <td>0.0578</td>\n",
       "    </tr>\n",
       "    <tr>\n",
       "      <th>1 to 9%</th>\n",
       "      <td>0.0493</td>\n",
       "    </tr>\n",
       "    <tr>\n",
       "      <th>10 to 19%</th>\n",
       "      <td>0.0481</td>\n",
       "    </tr>\n",
       "    <tr>\n",
       "      <th>100 and above</th>\n",
       "      <td>0.0233</td>\n",
       "    </tr>\n",
       "    <tr>\n",
       "      <th>80 to 89%</th>\n",
       "      <td>0.0218</td>\n",
       "    </tr>\n",
       "    <tr>\n",
       "      <th>90 to 99%</th>\n",
       "      <td>0.0084</td>\n",
       "    </tr>\n",
       "  </tbody>\n",
       "</table>\n",
       "</div>"
      ],
      "text/plain": [
       "                count\n",
       "LTVgrpA              \n",
       "0%             0.3645\n",
       "50 to 59%      0.1098\n",
       "60 to 69%      0.0947\n",
       "40 to 49%      0.0875\n",
       "30 to 39%      0.0719\n",
       "20 to 29%      0.0627\n",
       "70 to 79%      0.0578\n",
       "1 to 9%        0.0493\n",
       "10 to 19%      0.0481\n",
       "100 and above  0.0233\n",
       "80 to 89%      0.0218\n",
       "90 to 99%      0.0084"
      ]
     },
     "execution_count": 10,
     "metadata": {},
     "output_type": "execute_result"
    }
   ],
   "source": [
    "df[\"LTVgrpA\"] = df.LTVgrpA.cat.add_categories(['0%'])\n",
    "df.loc[df[\"Lntyp4\"] == \"Yes\", \"LTVgrpA\"] = \"0%\"\n",
    "get_stats(df, \"LTVgrpA\")"
   ]
  },
  {
   "cell_type": "code",
   "execution_count": 11,
   "metadata": {},
   "outputs": [],
   "source": [
    "band_mapping = {\n",
    "    '0%': 0,\n",
    "    '1 to 9%': 0.05,\n",
    "    '10 to 19%': 0.15,\n",
    "    '20 to 29%': 0.25,\n",
    "    '30 to 39%': 0.35,\n",
    "    '40 to 49%': 0.45,\n",
    "    '50 to 59%': 0.55,\n",
    "    '60 to 69%': 0.65,\n",
    "    '70 to 79%': 0.75,\n",
    "    '80 to 89%': 0.85,\n",
    "    '90 to 99%': 0.95,\n",
    "    '100 and above': 1.0\n",
    "}\n",
    "\n",
    "df['LTVgrpA_estimated'] = df['LTVgrpA'].map(band_mapping)\n",
    "df['LTVgrpA_estimated'] = pd.to_numeric(df['LTVgrpA_estimated'], errors='coerce')"
   ]
  },
  {
   "cell_type": "code",
   "execution_count": 12,
   "metadata": {},
   "outputs": [],
   "source": [
    "band_mapping = {\n",
    "    'less than £100,000': 50000,\n",
    "    '£100,000 to £199,999': 150000,\n",
    "    '£200,000 to £499,999': 350000,\n",
    "    '£500,000 to £999,999': 750000,\n",
    "    '£1,000,000 to £1,999,999': 1500000,\n",
    "    '£2,000,000 to £2,999,999': 2500000,\n",
    "    '£3,000,000 to £3,999,999': 3500000,\n",
    "    '£4,000,000 to £4,999,999': 4500000,\n",
    "    '£5,000,000 to £5,999,999': 5500000,\n",
    "    '£6,000,000 or more': 7000000\n",
    "}\n",
    "df['MktValgrpA_estimated'] = df['MktValgrpA'].map(band_mapping)\n",
    "df['MktValgrpA_estimated'] = pd.to_numeric(df['MktValgrpA_estimated'], errors='coerce')"
   ]
  },
  {
   "cell_type": "code",
   "execution_count": 13,
   "metadata": {},
   "outputs": [],
   "source": [
    "band_mapping = {\n",
    "    '1 only': 1,\n",
    "    '2 to 4': 3,\n",
    "    '5 to 9': 7,\n",
    "    '10 to 24': 17,\n",
    "    '25 to 100': 62,\n",
    "    'more than 100': 150\n",
    "}\n",
    "\n",
    "df['NumPrpgrp_estimated'] = df['NumPrpgrp'].map(band_mapping)\n",
    "df['NumPrpgrp_estimated'] = pd.to_numeric(df['NumPrpgrp_estimated'], errors='coerce')"
   ]
  },
  {
   "cell_type": "code",
   "execution_count": 14,
   "metadata": {},
   "outputs": [],
   "source": [
    "band_mapping = {\n",
    "    'up to £49,999': 25000,\n",
    "    '£50,000 to £79,999': 65000,\n",
    "    '£80,000 to £99,999': 90000,\n",
    "    '£100,000 to £129,999': 115000,\n",
    "    '£130,000 to £149,999': 140000,\n",
    "    '£150,000 to £179,999': 165000,\n",
    "    '£180,000 to £199,999': 190000,\n",
    "    '£200,000 to £499,999': 350000,\n",
    "    '£500,000 and over': 600000\n",
    "}\n",
    "df['ValperPrpA_estimated'] = df['ValperPrpA'].map(band_mapping)\n",
    "df['ValperPrpA_estimated'] = pd.to_numeric(df['ValperPrpA_estimated'], errors='coerce')"
   ]
  },
  {
   "cell_type": "code",
   "execution_count": 15,
   "metadata": {},
   "outputs": [],
   "source": [
    "df = df[df['ValperPrpA_estimated'].notna()]"
   ]
  },
  {
   "cell_type": "code",
   "execution_count": 16,
   "metadata": {},
   "outputs": [],
   "source": [
    "df['Num_prp_estimated'] = (df['MktValgrpA_estimated'] / df['ValperPrpA_estimated']).astype(int)\n",
    "df.loc[df['NumPrpgrp'] == '1 only', 'Num_prp_estimated'] = 1\n",
    "df['Num_prp_estimated'] = pd.to_numeric(df['Num_prp_estimated'], errors='coerce')"
   ]
  },
  {
   "cell_type": "code",
   "execution_count": 17,
   "metadata": {},
   "outputs": [],
   "source": [
    "df['mkt_val_est_result'] = df['ValperPrpA_estimated'] * df['Num_prp_estimated']\n",
    "df['mkt_val_est_result'] = pd.to_numeric(df['mkt_val_est_result'], errors='coerce')"
   ]
  },
  {
   "cell_type": "code",
   "execution_count": 18,
   "metadata": {},
   "outputs": [],
   "source": [
    "df['Debt_estimated'] = df['LTVgrpA_estimated'] * df['mkt_val_est_result']\n",
    "df['Debt_estimated'] = pd.to_numeric(df['Debt_estimated'], errors='coerce')"
   ]
  },
  {
   "cell_type": "code",
   "execution_count": 19,
   "metadata": {},
   "outputs": [],
   "source": [
    "df['sdlt_estimated'] = df.apply(lambda row: calculate_stlt(row['Num_prp_estimated'], row['ValperPrpA_estimated']), axis=1)\n",
    "df['sdlt_estimated'] = pd.to_numeric(df['sdlt_estimated'], errors='coerce')"
   ]
  },
  {
   "cell_type": "code",
   "execution_count": 20,
   "metadata": {},
   "outputs": [],
   "source": [
    "years_owned = {\n",
    "    'Less than 2 years': 1,  # 1 year, assuming an average of 1 year\n",
    "    '3 to 5 years': 3,  # 3 years, skewed lower from 4 years\n",
    "    '6 to 10 years': 7,  # 7 years, skewed lower from 8 years\n",
    "    '11 to 20 years': 13,  # 13 years, skewed lower from 15 years\n",
    "    'over 20 years': 20,  # 22 years, skewed lower from 25 years\n",
    "    }\n",
    "\n",
    "df['YearsOwned_estimated'] = df['TmLLgrpB'].map(years_owned)\n",
    "df['YearsOwned_estimated'] = pd.to_numeric(df['YearsOwned_estimated'], errors='coerce')\n",
    "df['PrpsPerYear'] = df['Num_prp_estimated'] / df['YearsOwned_estimated']\n",
    "df['PrpsPerYear'] = pd.to_numeric(df['PrpsPerYear'], errors='coerce')"
   ]
  },
  {
   "cell_type": "code",
   "execution_count": 21,
   "metadata": {},
   "outputs": [],
   "source": [
    "df['cg_estimated'] = df.apply(lambda row: est_cap_gains(row['YearsOwned_estimated'], row['Num_prp_estimated'], row['mkt_val_est_result']), axis=1)\n",
    "df['cg_estimated'] = pd.to_numeric(df['cg_estimated'], errors='coerce')\n",
    "df['total_lending'] = df['Debt_estimated'].fillna(0) + df['sdlt_estimated'].fillna(0) + df['cg_estimated'].fillna(0)\n",
    "df['new_ltv'] = df['total_lending'] / df['mkt_val_est_result']"
   ]
  },
  {
   "attachments": {},
   "cell_type": "markdown",
   "metadata": {},
   "source": [
    "## New Data"
   ]
  },
  {
   "cell_type": "code",
   "execution_count": 24,
   "metadata": {},
   "outputs": [],
   "source": [
    "df_test = df[[\n",
    "    'LLCat1',\n",
    "    'TmLLgrpB',\n",
    "    'LTVgrpA_estimated',\n",
    "    'Debt_estimated',\n",
    "    'Num_prp_estimated',\n",
    "    'ValperPrpA_estimated',\n",
    "    'mkt_val_est_result',\n",
    "    'sdlt_estimated',\n",
    "    'cg_estimated',\n",
    "    'total_lending',\n",
    "    'new_ltv',\n",
    "]]\n",
    "\n",
    "df_test['Debt_estimated'] = df_test['Debt_estimated'].fillna(0)"
   ]
  },
  {
   "cell_type": "code",
   "execution_count": 23,
   "metadata": {},
   "outputs": [
    {
     "name": "stdout",
     "output_type": "stream",
     "text": [
      " Target market: 5286 \n",
      " Total market: 5787 \n",
      " Percentage of total individuals: 91.34%\n"
     ]
    }
   ],
   "source": [
    "tgt_mkt = df_test[(df_test[\"LLCat1\"].isin(['As an individual or group of individuals']))]\n",
    "# tgt_mkt = tgt_mkt[tgt_mkt['new_ltv'] <= .8]\n",
    "tgt_len = len(tgt_mkt.index)\n",
    "df_len = len(df_test[(df_test[\"LLCat1\"].notna())].index)\n",
    "\n",
    "print(f\" Target market: {tgt_len} \\n Total market: {df_len} \\n Percentage of total individuals: {round((tgt_len/df_len)*100,2)}%\")"
   ]
  },
  {
   "cell_type": "code",
   "execution_count": 198,
   "metadata": {},
   "outputs": [
    {
     "data": {
      "text/plain": [
       "506480.55412220967"
      ]
     },
     "execution_count": 198,
     "metadata": {},
     "output_type": "execute_result"
    }
   ],
   "source": [
    "tgt_mkt['total_lending'].mean()"
   ]
  },
  {
   "cell_type": "code",
   "execution_count": 192,
   "metadata": {},
   "outputs": [
    {
     "name": "stdout",
     "output_type": "stream",
     "text": [
      " Target market: 20622 \n",
      " Total market: 32286 \n",
      " Percentage of total properties: 63.87%\n"
     ]
    }
   ],
   "source": [
    "tgt_mkt_prps = tgt_mkt['Num_prp_estimated'].sum()\n",
    "mkt_prps = df['Num_prp_estimated'].sum()\n",
    "\n",
    "print(f\" Target market: {tgt_mkt_prps} \\n Total market: {mkt_prps} \\n Percentage of total properties: {round((tgt_mkt_prps/mkt_prps)*100,2)}%\")"
   ]
  },
  {
   "cell_type": "code",
   "execution_count": 193,
   "metadata": {},
   "outputs": [
    {
     "name": "stdout",
     "output_type": "stream",
     "text": [
      " Target market: 4753945000.0 \n",
      " Total market: 6596535000.0 \n",
      " Percentage of total market value: 72.07%\n"
     ]
    }
   ],
   "source": [
    "tgt_mkt_val = tgt_mkt['mkt_val_est_result'].sum()\n",
    "mkt_val = df_test['mkt_val_est_result'].sum()\n",
    "\n",
    "print(f\" Target market: {tgt_mkt_val} \\n Total market: {mkt_val} \\n Percentage of total market value: {round((tgt_mkt_val/mkt_val)*100,2)}%\")"
   ]
  },
  {
   "cell_type": "code",
   "execution_count": 210,
   "metadata": {},
   "outputs": [
    {
     "data": {
      "text/plain": [
       "0.003858"
      ]
     },
     "execution_count": 210,
     "metadata": {},
     "output_type": "execute_result"
    }
   ],
   "source": [
    "ll_porp = len(df_test) / 1_500_000\n",
    "ll_porp"
   ]
  },
  {
   "cell_type": "code",
   "execution_count": 242,
   "metadata": {},
   "outputs": [
    {
     "data": {
      "text/plain": [
       "44707325365.47"
      ]
     },
     "execution_count": 242,
     "metadata": {},
     "output_type": "execute_result"
    }
   ],
   "source": [
    "tgt_mkt = df_test[(df_test[\"LLCat1\"].isin(['As an individual or group of individuals']))]\n",
    "tgt_mkt = tgt_mkt[tgt_mkt[\"Num_prp_estimated\"] <= 10]\n",
    "# tgt_mkt = tgt_mkt[tgt_mkt[\"Num_prp_estimated\"] >= 5]\n",
    "tgt_mkt = tgt_mkt[tgt_mkt['new_ltv'] <= .65]\n",
    "tgt_mkt = tgt_mkt[tgt_mkt['new_ltv'] >= .60]\n",
    "round(tgt_mkt['total_lending'].sum() / ll_porp, 2)"
   ]
  },
  {
   "cell_type": "code",
   "execution_count": 240,
   "metadata": {},
   "outputs": [
    {
     "data": {
      "text/html": [
       "<div>\n",
       "<style scoped>\n",
       "    .dataframe tbody tr th:only-of-type {\n",
       "        vertical-align: middle;\n",
       "    }\n",
       "\n",
       "    .dataframe tbody tr th {\n",
       "        vertical-align: top;\n",
       "    }\n",
       "\n",
       "    .dataframe thead th {\n",
       "        text-align: right;\n",
       "    }\n",
       "</style>\n",
       "<table border=\"1\" class=\"dataframe\">\n",
       "  <thead>\n",
       "    <tr style=\"text-align: right;\">\n",
       "      <th></th>\n",
       "      <th>LLCat1</th>\n",
       "      <th>TmLLgrpB</th>\n",
       "      <th>LTVgrpA_estimated</th>\n",
       "      <th>Debt_estimated</th>\n",
       "      <th>Num_prp_estimated</th>\n",
       "      <th>ValperPrpA_estimated</th>\n",
       "      <th>mkt_val_est_result</th>\n",
       "      <th>sdlt_estimated</th>\n",
       "      <th>cg_estimated</th>\n",
       "      <th>total_lending</th>\n",
       "      <th>new_ltv</th>\n",
       "    </tr>\n",
       "  </thead>\n",
       "  <tbody>\n",
       "    <tr>\n",
       "      <th>3455</th>\n",
       "      <td>As an individual or group of individuals</td>\n",
       "      <td>11 to 20 years</td>\n",
       "      <td>0.45</td>\n",
       "      <td>315000.0</td>\n",
       "      <td>2</td>\n",
       "      <td>350000.0</td>\n",
       "      <td>700000.0</td>\n",
       "      <td>21000.0</td>\n",
       "      <td>90750.27</td>\n",
       "      <td>426750.27</td>\n",
       "      <td>0.609643</td>\n",
       "    </tr>\n",
       "    <tr>\n",
       "      <th>2560</th>\n",
       "      <td>As an individual or group of individuals</td>\n",
       "      <td>6 to 10 years</td>\n",
       "      <td>0.55</td>\n",
       "      <td>192500.0</td>\n",
       "      <td>1</td>\n",
       "      <td>350000.0</td>\n",
       "      <td>350000.0</td>\n",
       "      <td>10500.0</td>\n",
       "      <td>20505.14</td>\n",
       "      <td>223505.14</td>\n",
       "      <td>0.638586</td>\n",
       "    </tr>\n",
       "    <tr>\n",
       "      <th>6195</th>\n",
       "      <td>As an individual or group of individuals</td>\n",
       "      <td>11 to 20 years</td>\n",
       "      <td>0.45</td>\n",
       "      <td>630000.0</td>\n",
       "      <td>4</td>\n",
       "      <td>350000.0</td>\n",
       "      <td>1400000.0</td>\n",
       "      <td>42000.0</td>\n",
       "      <td>208796.48</td>\n",
       "      <td>880796.48</td>\n",
       "      <td>0.629140</td>\n",
       "    </tr>\n",
       "    <tr>\n",
       "      <th>2369</th>\n",
       "      <td>As an individual or group of individuals</td>\n",
       "      <td>11 to 20 years</td>\n",
       "      <td>0.45</td>\n",
       "      <td>315000.0</td>\n",
       "      <td>2</td>\n",
       "      <td>350000.0</td>\n",
       "      <td>700000.0</td>\n",
       "      <td>21000.0</td>\n",
       "      <td>90750.27</td>\n",
       "      <td>426750.27</td>\n",
       "      <td>0.609643</td>\n",
       "    </tr>\n",
       "    <tr>\n",
       "      <th>2984</th>\n",
       "      <td>As an individual or group of individuals</td>\n",
       "      <td>3 to 5 years</td>\n",
       "      <td>0.55</td>\n",
       "      <td>192500.0</td>\n",
       "      <td>1</td>\n",
       "      <td>350000.0</td>\n",
       "      <td>350000.0</td>\n",
       "      <td>10500.0</td>\n",
       "      <td>14765.76</td>\n",
       "      <td>217765.76</td>\n",
       "      <td>0.622188</td>\n",
       "    </tr>\n",
       "    <tr>\n",
       "      <th>6682</th>\n",
       "      <td>As an individual or group of individuals</td>\n",
       "      <td>3 to 5 years</td>\n",
       "      <td>0.55</td>\n",
       "      <td>90750.0</td>\n",
       "      <td>1</td>\n",
       "      <td>165000.0</td>\n",
       "      <td>165000.0</td>\n",
       "      <td>4950.0</td>\n",
       "      <td>6961.00</td>\n",
       "      <td>102661.00</td>\n",
       "      <td>0.622188</td>\n",
       "    </tr>\n",
       "    <tr>\n",
       "      <th>3582</th>\n",
       "      <td>As an individual or group of individuals</td>\n",
       "      <td>11 to 20 years</td>\n",
       "      <td>0.45</td>\n",
       "      <td>148500.0</td>\n",
       "      <td>2</td>\n",
       "      <td>165000.0</td>\n",
       "      <td>330000.0</td>\n",
       "      <td>9900.0</td>\n",
       "      <td>42782.27</td>\n",
       "      <td>201182.27</td>\n",
       "      <td>0.609643</td>\n",
       "    </tr>\n",
       "    <tr>\n",
       "      <th>2327</th>\n",
       "      <td>As an individual or group of individuals</td>\n",
       "      <td>3 to 5 years</td>\n",
       "      <td>0.55</td>\n",
       "      <td>330000.0</td>\n",
       "      <td>1</td>\n",
       "      <td>600000.0</td>\n",
       "      <td>600000.0</td>\n",
       "      <td>18000.0</td>\n",
       "      <td>25312.72</td>\n",
       "      <td>373312.72</td>\n",
       "      <td>0.622188</td>\n",
       "    </tr>\n",
       "    <tr>\n",
       "      <th>4150</th>\n",
       "      <td>As an individual or group of individuals</td>\n",
       "      <td>11 to 20 years</td>\n",
       "      <td>0.45</td>\n",
       "      <td>1102500.0</td>\n",
       "      <td>7</td>\n",
       "      <td>350000.0</td>\n",
       "      <td>2450000.0</td>\n",
       "      <td>73500.0</td>\n",
       "      <td>385101.80</td>\n",
       "      <td>1561101.80</td>\n",
       "      <td>0.637184</td>\n",
       "    </tr>\n",
       "    <tr>\n",
       "      <th>7288</th>\n",
       "      <td>As an individual or group of individuals</td>\n",
       "      <td>3 to 5 years</td>\n",
       "      <td>0.55</td>\n",
       "      <td>104500.0</td>\n",
       "      <td>1</td>\n",
       "      <td>190000.0</td>\n",
       "      <td>190000.0</td>\n",
       "      <td>5700.0</td>\n",
       "      <td>8015.70</td>\n",
       "      <td>118215.70</td>\n",
       "      <td>0.622188</td>\n",
       "    </tr>\n",
       "    <tr>\n",
       "      <th>4362</th>\n",
       "      <td>As an individual or group of individuals</td>\n",
       "      <td>over 20 years</td>\n",
       "      <td>0.45</td>\n",
       "      <td>155250.0</td>\n",
       "      <td>3</td>\n",
       "      <td>115000.0</td>\n",
       "      <td>345000.0</td>\n",
       "      <td>10350.0</td>\n",
       "      <td>51675.18</td>\n",
       "      <td>217275.18</td>\n",
       "      <td>0.629783</td>\n",
       "    </tr>\n",
       "    <tr>\n",
       "      <th>2377</th>\n",
       "      <td>As an individual or group of individuals</td>\n",
       "      <td>11 to 20 years</td>\n",
       "      <td>0.45</td>\n",
       "      <td>540000.0</td>\n",
       "      <td>2</td>\n",
       "      <td>600000.0</td>\n",
       "      <td>1200000.0</td>\n",
       "      <td>36000.0</td>\n",
       "      <td>155571.89</td>\n",
       "      <td>731571.89</td>\n",
       "      <td>0.609643</td>\n",
       "    </tr>\n",
       "    <tr>\n",
       "      <th>121</th>\n",
       "      <td>As an individual or group of individuals</td>\n",
       "      <td>6 to 10 years</td>\n",
       "      <td>0.45</td>\n",
       "      <td>148500.0</td>\n",
       "      <td>2</td>\n",
       "      <td>165000.0</td>\n",
       "      <td>330000.0</td>\n",
       "      <td>9900.0</td>\n",
       "      <td>50006.17</td>\n",
       "      <td>208406.17</td>\n",
       "      <td>0.631534</td>\n",
       "    </tr>\n",
       "    <tr>\n",
       "      <th>5619</th>\n",
       "      <td>As an individual or group of individuals</td>\n",
       "      <td>3 to 5 years</td>\n",
       "      <td>0.55</td>\n",
       "      <td>192500.0</td>\n",
       "      <td>1</td>\n",
       "      <td>350000.0</td>\n",
       "      <td>350000.0</td>\n",
       "      <td>10500.0</td>\n",
       "      <td>14765.76</td>\n",
       "      <td>217765.76</td>\n",
       "      <td>0.622188</td>\n",
       "    </tr>\n",
       "    <tr>\n",
       "      <th>2161</th>\n",
       "      <td>As an individual or group of individuals</td>\n",
       "      <td>11 to 20 years</td>\n",
       "      <td>0.45</td>\n",
       "      <td>315000.0</td>\n",
       "      <td>5</td>\n",
       "      <td>140000.0</td>\n",
       "      <td>700000.0</td>\n",
       "      <td>21000.0</td>\n",
       "      <td>107051.09</td>\n",
       "      <td>443051.09</td>\n",
       "      <td>0.632930</td>\n",
       "    </tr>\n",
       "    <tr>\n",
       "      <th>5916</th>\n",
       "      <td>As an individual or group of individuals</td>\n",
       "      <td>3 to 5 years</td>\n",
       "      <td>0.55</td>\n",
       "      <td>192500.0</td>\n",
       "      <td>1</td>\n",
       "      <td>350000.0</td>\n",
       "      <td>350000.0</td>\n",
       "      <td>10500.0</td>\n",
       "      <td>14765.76</td>\n",
       "      <td>217765.76</td>\n",
       "      <td>0.622188</td>\n",
       "    </tr>\n",
       "    <tr>\n",
       "      <th>170</th>\n",
       "      <td>As an individual or group of individuals</td>\n",
       "      <td>6 to 10 years</td>\n",
       "      <td>0.55</td>\n",
       "      <td>192500.0</td>\n",
       "      <td>1</td>\n",
       "      <td>350000.0</td>\n",
       "      <td>350000.0</td>\n",
       "      <td>10500.0</td>\n",
       "      <td>20505.14</td>\n",
       "      <td>223505.14</td>\n",
       "      <td>0.638586</td>\n",
       "    </tr>\n",
       "    <tr>\n",
       "      <th>6000</th>\n",
       "      <td>As an individual or group of individuals</td>\n",
       "      <td>over 20 years</td>\n",
       "      <td>0.45</td>\n",
       "      <td>630000.0</td>\n",
       "      <td>4</td>\n",
       "      <td>350000.0</td>\n",
       "      <td>1400000.0</td>\n",
       "      <td>42000.0</td>\n",
       "      <td>206226.81</td>\n",
       "      <td>878226.81</td>\n",
       "      <td>0.627305</td>\n",
       "    </tr>\n",
       "    <tr>\n",
       "      <th>278</th>\n",
       "      <td>As an individual or group of individuals</td>\n",
       "      <td>3 to 5 years</td>\n",
       "      <td>0.55</td>\n",
       "      <td>63250.0</td>\n",
       "      <td>1</td>\n",
       "      <td>115000.0</td>\n",
       "      <td>115000.0</td>\n",
       "      <td>3450.0</td>\n",
       "      <td>4851.61</td>\n",
       "      <td>71551.61</td>\n",
       "      <td>0.622188</td>\n",
       "    </tr>\n",
       "    <tr>\n",
       "      <th>7402</th>\n",
       "      <td>As an individual or group of individuals</td>\n",
       "      <td>11 to 20 years</td>\n",
       "      <td>0.45</td>\n",
       "      <td>256500.0</td>\n",
       "      <td>3</td>\n",
       "      <td>190000.0</td>\n",
       "      <td>570000.0</td>\n",
       "      <td>17100.0</td>\n",
       "      <td>81345.67</td>\n",
       "      <td>354945.67</td>\n",
       "      <td>0.622712</td>\n",
       "    </tr>\n",
       "  </tbody>\n",
       "</table>\n",
       "</div>"
      ],
      "text/plain": [
       "                                        LLCat1        TmLLgrpB   \n",
       "3455  As an individual or group of individuals  11 to 20 years  \\\n",
       "2560  As an individual or group of individuals   6 to 10 years   \n",
       "6195  As an individual or group of individuals  11 to 20 years   \n",
       "2369  As an individual or group of individuals  11 to 20 years   \n",
       "2984  As an individual or group of individuals    3 to 5 years   \n",
       "6682  As an individual or group of individuals    3 to 5 years   \n",
       "3582  As an individual or group of individuals  11 to 20 years   \n",
       "2327  As an individual or group of individuals    3 to 5 years   \n",
       "4150  As an individual or group of individuals  11 to 20 years   \n",
       "7288  As an individual or group of individuals    3 to 5 years   \n",
       "4362  As an individual or group of individuals   over 20 years   \n",
       "2377  As an individual or group of individuals  11 to 20 years   \n",
       "121   As an individual or group of individuals   6 to 10 years   \n",
       "5619  As an individual or group of individuals    3 to 5 years   \n",
       "2161  As an individual or group of individuals  11 to 20 years   \n",
       "5916  As an individual or group of individuals    3 to 5 years   \n",
       "170   As an individual or group of individuals   6 to 10 years   \n",
       "6000  As an individual or group of individuals   over 20 years   \n",
       "278   As an individual or group of individuals    3 to 5 years   \n",
       "7402  As an individual or group of individuals  11 to 20 years   \n",
       "\n",
       "      LTVgrpA_estimated  Debt_estimated  Num_prp_estimated   \n",
       "3455               0.45        315000.0                  2  \\\n",
       "2560               0.55        192500.0                  1   \n",
       "6195               0.45        630000.0                  4   \n",
       "2369               0.45        315000.0                  2   \n",
       "2984               0.55        192500.0                  1   \n",
       "6682               0.55         90750.0                  1   \n",
       "3582               0.45        148500.0                  2   \n",
       "2327               0.55        330000.0                  1   \n",
       "4150               0.45       1102500.0                  7   \n",
       "7288               0.55        104500.0                  1   \n",
       "4362               0.45        155250.0                  3   \n",
       "2377               0.45        540000.0                  2   \n",
       "121                0.45        148500.0                  2   \n",
       "5619               0.55        192500.0                  1   \n",
       "2161               0.45        315000.0                  5   \n",
       "5916               0.55        192500.0                  1   \n",
       "170                0.55        192500.0                  1   \n",
       "6000               0.45        630000.0                  4   \n",
       "278                0.55         63250.0                  1   \n",
       "7402               0.45        256500.0                  3   \n",
       "\n",
       "      ValperPrpA_estimated  mkt_val_est_result  sdlt_estimated  cg_estimated   \n",
       "3455              350000.0            700000.0         21000.0      90750.27  \\\n",
       "2560              350000.0            350000.0         10500.0      20505.14   \n",
       "6195              350000.0           1400000.0         42000.0     208796.48   \n",
       "2369              350000.0            700000.0         21000.0      90750.27   \n",
       "2984              350000.0            350000.0         10500.0      14765.76   \n",
       "6682              165000.0            165000.0          4950.0       6961.00   \n",
       "3582              165000.0            330000.0          9900.0      42782.27   \n",
       "2327              600000.0            600000.0         18000.0      25312.72   \n",
       "4150              350000.0           2450000.0         73500.0     385101.80   \n",
       "7288              190000.0            190000.0          5700.0       8015.70   \n",
       "4362              115000.0            345000.0         10350.0      51675.18   \n",
       "2377              600000.0           1200000.0         36000.0     155571.89   \n",
       "121               165000.0            330000.0          9900.0      50006.17   \n",
       "5619              350000.0            350000.0         10500.0      14765.76   \n",
       "2161              140000.0            700000.0         21000.0     107051.09   \n",
       "5916              350000.0            350000.0         10500.0      14765.76   \n",
       "170               350000.0            350000.0         10500.0      20505.14   \n",
       "6000              350000.0           1400000.0         42000.0     206226.81   \n",
       "278               115000.0            115000.0          3450.0       4851.61   \n",
       "7402              190000.0            570000.0         17100.0      81345.67   \n",
       "\n",
       "      total_lending   new_ltv  \n",
       "3455      426750.27  0.609643  \n",
       "2560      223505.14  0.638586  \n",
       "6195      880796.48  0.629140  \n",
       "2369      426750.27  0.609643  \n",
       "2984      217765.76  0.622188  \n",
       "6682      102661.00  0.622188  \n",
       "3582      201182.27  0.609643  \n",
       "2327      373312.72  0.622188  \n",
       "4150     1561101.80  0.637184  \n",
       "7288      118215.70  0.622188  \n",
       "4362      217275.18  0.629783  \n",
       "2377      731571.89  0.609643  \n",
       "121       208406.17  0.631534  \n",
       "5619      217765.76  0.622188  \n",
       "2161      443051.09  0.632930  \n",
       "5916      217765.76  0.622188  \n",
       "170       223505.14  0.638586  \n",
       "6000      878226.81  0.627305  \n",
       "278        71551.61  0.622188  \n",
       "7402      354945.67  0.622712  "
      ]
     },
     "execution_count": 240,
     "metadata": {},
     "output_type": "execute_result"
    }
   ],
   "source": [
    "tgt_mkt.sample(20)"
   ]
  },
  {
   "cell_type": "code",
   "execution_count": 243,
   "metadata": {},
   "outputs": [
    {
     "data": {
      "text/plain": [
       "586669.6"
      ]
     },
     "execution_count": 243,
     "metadata": {},
     "output_type": "execute_result"
    }
   ],
   "source": [
    "round(tgt_mkt['total_lending'].mean(), 2)"
   ]
  },
  {
   "cell_type": "code",
   "execution_count": 244,
   "metadata": {},
   "outputs": [
    {
     "name": "stdout",
     "output_type": "stream",
     "text": [
      " Target market: 273740000.0 \n",
      " Total market: 6596535000.0 \n",
      " Percentage of total market value: 4.15%\n"
     ]
    }
   ],
   "source": [
    "tgt_mkt_val = tgt_mkt['mkt_val_est_result'].sum()\n",
    "mkt_val = df_test['mkt_val_est_result'].sum()\n",
    "\n",
    "print(f\" Target market: {tgt_mkt_val} \\n Total market: {mkt_val} \\n Percentage of total market value: {round((tgt_mkt_val/mkt_val)*100,2)}%\")"
   ]
  },
  {
   "cell_type": "code",
   "execution_count": 245,
   "metadata": {},
   "outputs": [
    {
     "name": "stdout",
     "output_type": "stream",
     "text": [
      " Target market: 974 \n",
      " Total market: 32286 \n",
      " Percentage of total properties: 3.02%\n"
     ]
    }
   ],
   "source": [
    "tgt_mkt_prps = tgt_mkt['Num_prp_estimated'].sum()\n",
    "mkt_prps = df['Num_prp_estimated'].sum()\n",
    "\n",
    "print(f\" Target market: {tgt_mkt_prps} \\n Total market: {mkt_prps} \\n Percentage of total properties: {round((tgt_mkt_prps/mkt_prps)*100,2)}%\")"
   ]
  },
  {
   "cell_type": "code",
   "execution_count": 246,
   "metadata": {},
   "outputs": [
    {
     "name": "stdout",
     "output_type": "stream",
     "text": [
      " Target market: 294 \n",
      " Total market: 5787 \n",
      " Percentage of total individuals: 5.08%\n"
     ]
    }
   ],
   "source": [
    "tgt_len = len(tgt_mkt.index)\n",
    "df_len = len(df_test[(df_test[\"LLCat1\"].notna())].index)\n",
    "\n",
    "print(f\" Target market: {tgt_len} \\n Total market: {df_len} \\n Percentage of total individuals: {round((tgt_len/df_len)*100,2)}%\")"
   ]
  },
  {
   "cell_type": "markdown",
   "metadata": {},
   "source": [
    "## New Stats"
   ]
  },
  {
   "cell_type": "code",
   "execution_count": 57,
   "metadata": {},
   "outputs": [],
   "source": [
    "df_test = df[[\n",
    "    'LLCat1',\n",
    "    'Age4cat',\n",
    "    'LLEmpl03',\n",
    "    'TmLLgrpB',\n",
    "    'LTVgrpA_estimated',\n",
    "    'Debt_estimated',\n",
    "    'Num_prp_estimated',\n",
    "    'ValperPrpA_estimated',\n",
    "    'mkt_val_est_result',\n",
    "    'sdlt_estimated',\n",
    "    'cg_estimated',\n",
    "    'total_lending',\n",
    "    'new_ltv',\n",
    "]]\n",
    "\n",
    "df_test['Debt_estimated'] = df_test['Debt_estimated'].fillna(0)"
   ]
  },
  {
   "cell_type": "markdown",
   "metadata": {},
   "source": [
    "Total Unincorporated LLs"
   ]
  },
  {
   "cell_type": "code",
   "execution_count": 58,
   "metadata": {},
   "outputs": [],
   "source": [
    "df_tam = df_test[(df_test[\"LLCat1\"].isin(['As an individual or group of individuals']))]\n",
    "# tgt_mkt = tgt_mkt[tgt_mkt[\"Num_prp_estimated\"] <= 10]\n",
    "# tgt_mkt = tgt_mkt[tgt_mkt[\"Num_prp_estimated\"] >= 5]\n",
    "# tgt_mkt = tgt_mkt[tgt_mkt['new_ltv'] <= .65]\n",
    "# tgt_mkt = tgt_mkt[tgt_mkt['new_ltv'] >= .60]\n",
    "# round(tgt_mkt['total_lending'].sum() / ll_porp, 2)"
   ]
  },
  {
   "cell_type": "code",
   "execution_count": 59,
   "metadata": {},
   "outputs": [
    {
     "data": {
      "text/plain": [
       "4.791146424517594"
      ]
     },
     "execution_count": 59,
     "metadata": {},
     "output_type": "execute_result"
    }
   ],
   "source": [
    "df_tam[\"Num_prp_estimated\"].mean()"
   ]
  },
  {
   "cell_type": "code",
   "execution_count": 60,
   "metadata": {},
   "outputs": [
    {
     "data": {
      "text/plain": [
       "1370139.9688958009"
      ]
     },
     "execution_count": 60,
     "metadata": {},
     "output_type": "execute_result"
    }
   ],
   "source": [
    "mkt_pc = len(df_tam) / len(df)\n",
    "mkt_pc * 1500000"
   ]
  },
  {
   "cell_type": "markdown",
   "metadata": {},
   "source": [
    "Self-employed LLs"
   ]
  },
  {
   "cell_type": "code",
   "execution_count": 61,
   "metadata": {},
   "outputs": [],
   "source": [
    "df_sam = df_tam[(df_tam['LLEmpl03']==\"Yes\")]"
   ]
  },
  {
   "cell_type": "code",
   "execution_count": 62,
   "metadata": {},
   "outputs": [
    {
     "data": {
      "text/plain": [
       "9.018518518518519"
      ]
     },
     "execution_count": 62,
     "metadata": {},
     "output_type": "execute_result"
    }
   ],
   "source": [
    "df_sam[\"Num_prp_estimated\"].mean()"
   ]
  },
  {
   "cell_type": "code",
   "execution_count": 63,
   "metadata": {},
   "outputs": [
    {
     "data": {
      "text/plain": [
       "293934.6811819596"
      ]
     },
     "execution_count": 63,
     "metadata": {},
     "output_type": "execute_result"
    }
   ],
   "source": [
    "mkt_pc = len(df_sam) / len(df)\n",
    "mkt_pc * 1500000"
   ]
  },
  {
   "cell_type": "markdown",
   "metadata": {},
   "source": [
    "Self-employed under 45"
   ]
  },
  {
   "cell_type": "code",
   "execution_count": 65,
   "metadata": {},
   "outputs": [],
   "source": [
    "df_som = df_sam[(df_sam[\"Age4cat\"].isin(['35-44', '18-34']))]"
   ]
  },
  {
   "cell_type": "code",
   "execution_count": 66,
   "metadata": {},
   "outputs": [
    {
     "data": {
      "text/plain": [
       "7.350877192982456"
      ]
     },
     "execution_count": 66,
     "metadata": {},
     "output_type": "execute_result"
    }
   ],
   "source": [
    "df_som[\"Num_prp_estimated\"].mean()"
   ]
  },
  {
   "cell_type": "code",
   "execution_count": 67,
   "metadata": {},
   "outputs": [
    {
     "data": {
      "text/plain": [
       "29548.989113530326"
      ]
     },
     "execution_count": 67,
     "metadata": {},
     "output_type": "execute_result"
    }
   ],
   "source": [
    "mkt_pc = len(df_som) / len(df)\n",
    "mkt_pc * 1500000"
   ]
  }
 ],
 "metadata": {
  "kernelspec": {
   "display_name": "base",
   "language": "python",
   "name": "python3"
  },
  "language_info": {
   "codemirror_mode": {
    "name": "ipython",
    "version": 3
   },
   "file_extension": ".py",
   "mimetype": "text/x-python",
   "name": "python",
   "nbconvert_exporter": "python",
   "pygments_lexer": "ipython3",
   "version": "3.9.13"
  },
  "orig_nbformat": 4
 },
 "nbformat": 4,
 "nbformat_minor": 2
}
