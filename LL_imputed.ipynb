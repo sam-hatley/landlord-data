{
 "cells": [
  {
   "attachments": {},
   "cell_type": "markdown",
   "metadata": {},
   "source": [
    "## Loading"
   ]
  },
  {
   "cell_type": "code",
   "execution_count": 179,
   "metadata": {},
   "outputs": [],
   "source": [
    "import pandas as pd\n",
    "import numpy as np\n",
    "\n",
    "pd.options.mode.chained_assignment = None  # default='warn'"
   ]
  },
  {
   "cell_type": "code",
   "execution_count": 180,
   "metadata": {},
   "outputs": [],
   "source": [
    "df_orig = pd.read_spss(\"./Data/private_landlord_survey/UKDA-8455-spss/spss/spss24/epls_2018_forarchive.sav\")"
   ]
  },
  {
   "cell_type": "code",
   "execution_count": 181,
   "metadata": {},
   "outputs": [],
   "source": [
    "df = df_orig\n",
    "df = df[[\"serial_2\", # Unique Identifier\n",
    "        \"LLCat1\", # LL org category\n",
    "        \"LLeth2cat\", # LL ethnicity\n",
    "        \"Age4cat\", # LL Age\n",
    "        \"ValperPrpA\", # Avg mkt val per prop\n",
    "        \"MktValgrpA\", # Mkt val all props\n",
    "        \"BTL\", # Buy to let loan/other\n",
    "        \"LnperPrpA\", # Avg loan per prop\n",
    "        \"LnValgrpA\", # Total val all loans\n",
    "        \"LTVgrpA\", # LTV market val\n",
    "        \"TmLLgrpB\", # How long been LL\n",
    "        \"LLExp\", # Length experience as LL\n",
    "        \"NumPrpgrp\", # How many props\n",
    "        \"RtIncgrpa\", # Gross rental inc\n",
    "        \"LLIncgrpA\", # Total LL inc no rent\n",
    "        \"TotIncgrp\", # Total LL inc\n",
    "        \"RtPrIncgrpA\", # Rent as prop. inc\n",
    "        \"Port_size\", # Portfolio size\n",
    "        \"LLEmpl01\", # Emp. Status: FT\n",
    "        \"LLEmpl02\", # Emp. Status: PT\n",
    "        \"LLEmpl03\", # Emp. Status: Self-employed as LL\n",
    "        \"LLEmpl04\", # Emp. Status: Self-employed\n",
    "        \"LLEmpl05\", # Emp. Status: Retired\n",
    "        \"LLEmpl06\", # Emp. Status: Company director\n",
    "        \"LLEmpl07\", # Emp. Status: Student\n",
    "        \"LLEmpl08\", # Emp. Status: FT carer\n",
    "        \"LLEmpl09\", # Emp. Status: Unemployed\n",
    "        \"LLOrg1\", # LL Org: National LLs Assc.\n",
    "        \"LLOrg2\", # LL Org: Residential LL Assc.\n",
    "        \"LLOrg3\", # LL Org: Other professional\n",
    "        \"LLOrg4\", # LL Org: None\n",
    "        \"AgOrg1\", # Rental Org: ARLA\n",
    "        \"AgOrg2\", # Rental Org: NAEA\n",
    "        \"AgOrg3\", # Rental Org: NALS\n",
    "        \"AgOrg4\", # Rental Org: UKALA\n",
    "        \"AgOrg5\", # Rental Org: Other\n",
    "        \"AgOrg6\", # Rental Org: None\n",
    "        \"Regprop01\", # Prop Region: East England\n",
    "        \"Regprop02\", # Prop Region: East Midlands\n",
    "        \"Regprop03\", # Prop Region: Inner London\n",
    "        \"Regprop04\", # Prop Region: Outer London\n",
    "        \"Regprop05\", # Prop Region: North East\n",
    "        \"Regprop06\", # Prop Region: North West\n",
    "        \"Regprop07\", # Prop Region: South East\n",
    "        \"Regprop08\", # Prop Region: South West\n",
    "        \"Regprop09\", # Prop Region: West Midlands\n",
    "        \"Regprop10\", # Prop Region: Yorkshire/Humber\n",
    "        \"LLInfo01\", # Where info: Letting Agent\n",
    "        \"LLInfo02\", # Where info: LL membership ass. or org\n",
    "        \"LLInfo03\", # Where info: Online landlord forums/websites\n",
    "        \"LLInfo04\", # Where info: Gov't websites\n",
    "        \"LLInfo05\", # Where info: Family/friends\n",
    "        \"LLInfo06\", # Where info: Online media\n",
    "        \"LLInfo07\", # Where info: TV\n",
    "        \"LLInfo08\", # Where info: Radio\n",
    "        \"LLInfo09\", # Where info: Newspapers\n",
    "        \"AgtuseA1\", # Agent use: For letting svcs\n",
    "        \"AgtuseA2\", # Agent use: For mgmt svcs\n",
    "        \"AgtuseA3\", # Agent use: None\n",
    "        \"FutVac\", # Next Vacancy will relet\n",
    "        \"FutProp\", # Next two years, plan\n",
    "        \"FutRLv1\", # LL leave/reduce: Financial\n",
    "        \"FutRLv2\", # LL leave/reduce: Personal\n",
    "        \"FutRLv3\", # LL leave/reduce: Legislative\n",
    "        \"FutRLv4\", # LL leave/reduce: Other\n",
    "        \"FutRLv5\", # LL leave/reduce: None\n",
    "        \"FutRLv6\", # LL leave/reduce: Don't Know\n",
    "        \"FutInc1\", # LL Increase/maintain: Financial\n",
    "        \"FutInc2\", # LL Increase/maintain: Personal\n",
    "        \"FutInc3\", # LL Increase/maintain: Legislative\n",
    "        \"FutInc4\", # LL Increase/maintain: Other\n",
    "        \"FutInc5\", # LL Increase/maintain: None\n",
    "        \"FutInc6\", # LL Increase/maintain: Don't know\n",
    "        \"LLPmb1\", # LL Serious problems: Financial\n",
    "        \"LLPmb2\", # LL Serious problems: Legislative\n",
    "        \"LLPmb3\", # LL Serious problems: Tenant behaviour\n",
    "        \"LLPmb4\", # LL Serious problems: Other\n",
    "        \"LLPmb5\", # LL Serious problems: None\n",
    "        \"Lntyp1\", # Current loan: B2L mort\n",
    "        \"Lntyp2\", # Current loan: Commercial loan\n",
    "        \"Lntyp3\", # Current loan: Family/friends\n",
    "        \"Lntyp4\", # Current loan: No debt\n",
    "        \"Lntyp5\", # Current loan: Other\n",
    "        \"TaxB201\", # Awareness: Stamp duty increase\n",
    "        \"TaxB202\", # Awareness: Reduced tax relief\n",
    "        \"TaxB203\", # Awareness: Reduced CG tax non-prop\n",
    "        \"TaxB204\", # Awareness: Change wear/tear allow\n",
    "        \"TaxB205\", # Awareness: Change minimum rent B2L mort\n",
    "        \"TaxB206\", # Awareness: Letting agent fee ban\n",
    "        \"TaxB207\", # Awareness: Tax treatment foreign prop own\n",
    "        \"TaxB208\", # Awareness: None\n",
    "        \"TaxB301\", # As above but understanding\n",
    "        \"TaxB302\",\n",
    "        \"TaxB303\",\n",
    "        \"TaxB304\",\n",
    "        \"TaxB305\",\n",
    "        \"TaxB306\",\n",
    "        \"TaxB307\",\n",
    "        \"EPCEFG\", # Any props. w/ EPC rating E, F or G\n",
    "        \"EPCE\", # Awareness: EPC requirements\n",
    "        \"LetReq03\"] # Requirement: EPC Certificate]\n",
    "]\n",
    "\n",
    "df[\"serial_2\"] = df[\"serial_2\"].astype(\"int\")"
   ]
  },
  {
   "cell_type": "code",
   "execution_count": 182,
   "metadata": {},
   "outputs": [],
   "source": [
    "def get_stats(df: pd.DataFrame, col: str, percent:bool = True) -> pd.DataFrame:\n",
    "    df_stats = df[col].value_counts().to_frame()\n",
    "    if percent == True:\n",
    "        f = lambda a : round(a / len(df[df[col].notna()].index), 4)\n",
    "        df_stats = df_stats.applymap(f)\n",
    "    return df_stats"
   ]
  },
  {
   "cell_type": "code",
   "execution_count": 183,
   "metadata": {},
   "outputs": [
    {
     "data": {
      "text/plain": [
       "0.6599552572706935"
      ]
     },
     "execution_count": 183,
     "metadata": {},
     "output_type": "execute_result"
    }
   ],
   "source": [
    "len(df[df['FutRLv3'] == 'Yes'])/len(df[df['FutRLv3'].notna()])"
   ]
  },
  {
   "cell_type": "code",
   "execution_count": 184,
   "metadata": {},
   "outputs": [
    {
     "data": {
      "text/html": [
       "<div>\n",
       "<style scoped>\n",
       "    .dataframe tbody tr th:only-of-type {\n",
       "        vertical-align: middle;\n",
       "    }\n",
       "\n",
       "    .dataframe tbody tr th {\n",
       "        vertical-align: top;\n",
       "    }\n",
       "\n",
       "    .dataframe thead th {\n",
       "        text-align: right;\n",
       "    }\n",
       "</style>\n",
       "<table border=\"1\" class=\"dataframe\">\n",
       "  <thead>\n",
       "    <tr style=\"text-align: right;\">\n",
       "      <th></th>\n",
       "      <th>count</th>\n",
       "    </tr>\n",
       "    <tr>\n",
       "      <th>FutRLv3</th>\n",
       "      <th></th>\n",
       "    </tr>\n",
       "  </thead>\n",
       "  <tbody>\n",
       "    <tr>\n",
       "      <th>Yes</th>\n",
       "      <td>0.66</td>\n",
       "    </tr>\n",
       "    <tr>\n",
       "      <th>No</th>\n",
       "      <td>0.34</td>\n",
       "    </tr>\n",
       "  </tbody>\n",
       "</table>\n",
       "</div>"
      ],
      "text/plain": [
       "         count\n",
       "FutRLv3       \n",
       "Yes       0.66\n",
       "No        0.34"
      ]
     },
     "execution_count": 184,
     "metadata": {},
     "output_type": "execute_result"
    }
   ],
   "source": [
    "get_stats(df, 'FutRLv3')"
   ]
  },
  {
   "attachments": {},
   "cell_type": "markdown",
   "metadata": {},
   "source": [
    "## Imputing Variables"
   ]
  },
  {
   "cell_type": "code",
   "execution_count": 185,
   "metadata": {},
   "outputs": [],
   "source": [
    "def calculate_stlt(prop_val, num_prps):\n",
    "    if prop_val <= 250_000:\n",
    "        sdlt = prop_val * 0.03\n",
    "    elif prop_val <= 925_000:\n",
    "        sdlt = 250_000 * 0.03 + \\\n",
    "            (prop_val - 250_000) * 0.08\n",
    "    elif prop_val <= 1_500_000:\n",
    "        sdlt = 250_000 * 0.03 + \\\n",
    "            675_000 * 0.08 + \\\n",
    "            (prop_val - 925_000) * 0.13\n",
    "    else:\n",
    "        sdlt = 250_000 * 0.03 + \\\n",
    "            675_000 * 0.08 + \\\n",
    "            925_000 * 0.13 + \\\n",
    "            (prop_val - 1_500_000) * 0.15\n",
    "    \n",
    "    sdlt_total = sdlt * num_prps\n",
    "    \n",
    "    return sdlt_total"
   ]
  },
  {
   "cell_type": "code",
   "execution_count": 186,
   "metadata": {},
   "outputs": [],
   "source": [
    "def est_cap_gains(years_owned, num_prps, mkt_val):\n",
    "    cg = lambda x : (-0.0006 * x ** 3 + 0.0314 * x ** 2 - 0.5628 * x + 3.7054) + 1\n",
    "    \n",
    "    cg_amts = []\n",
    "    years_per_prp = years_owned / num_prps\n",
    "    current_yr = years_per_prp\n",
    "    \n",
    "    cg_amts.append(cg(24 - years_owned))\n",
    "    \n",
    "    if num_prps > 1:\n",
    "        for i in range(num_prps - 1):\n",
    "            cg_amts.append(cg(current_yr))\n",
    "            current_yr += years_per_prp\n",
    "    \n",
    "    cg_avg = sum(cg_amts) / len(cg_amts)\n",
    "    \n",
    "    orig_mkt = mkt_val / (cg_avg)\n",
    "    cg_total = round(max(0, mkt_val - orig_mkt) * 0.28, 2)\n",
    "    \n",
    "    \n",
    "    return cg_total"
   ]
  },
  {
   "cell_type": "code",
   "execution_count": 187,
   "metadata": {},
   "outputs": [
    {
     "data": {
      "text/html": [
       "<div>\n",
       "<style scoped>\n",
       "    .dataframe tbody tr th:only-of-type {\n",
       "        vertical-align: middle;\n",
       "    }\n",
       "\n",
       "    .dataframe tbody tr th {\n",
       "        vertical-align: top;\n",
       "    }\n",
       "\n",
       "    .dataframe thead th {\n",
       "        text-align: right;\n",
       "    }\n",
       "</style>\n",
       "<table border=\"1\" class=\"dataframe\">\n",
       "  <thead>\n",
       "    <tr style=\"text-align: right;\">\n",
       "      <th></th>\n",
       "      <th>count</th>\n",
       "    </tr>\n",
       "    <tr>\n",
       "      <th>LTVgrpA</th>\n",
       "      <th></th>\n",
       "    </tr>\n",
       "  </thead>\n",
       "  <tbody>\n",
       "    <tr>\n",
       "      <th>0%</th>\n",
       "      <td>0.3645</td>\n",
       "    </tr>\n",
       "    <tr>\n",
       "      <th>50 to 59%</th>\n",
       "      <td>0.1098</td>\n",
       "    </tr>\n",
       "    <tr>\n",
       "      <th>60 to 69%</th>\n",
       "      <td>0.0947</td>\n",
       "    </tr>\n",
       "    <tr>\n",
       "      <th>40 to 49%</th>\n",
       "      <td>0.0875</td>\n",
       "    </tr>\n",
       "    <tr>\n",
       "      <th>30 to 39%</th>\n",
       "      <td>0.0719</td>\n",
       "    </tr>\n",
       "    <tr>\n",
       "      <th>20 to 29%</th>\n",
       "      <td>0.0627</td>\n",
       "    </tr>\n",
       "    <tr>\n",
       "      <th>70 to 79%</th>\n",
       "      <td>0.0578</td>\n",
       "    </tr>\n",
       "    <tr>\n",
       "      <th>1 to 9%</th>\n",
       "      <td>0.0493</td>\n",
       "    </tr>\n",
       "    <tr>\n",
       "      <th>10 to 19%</th>\n",
       "      <td>0.0481</td>\n",
       "    </tr>\n",
       "    <tr>\n",
       "      <th>100 and above</th>\n",
       "      <td>0.0233</td>\n",
       "    </tr>\n",
       "    <tr>\n",
       "      <th>80 to 89%</th>\n",
       "      <td>0.0218</td>\n",
       "    </tr>\n",
       "    <tr>\n",
       "      <th>90 to 99%</th>\n",
       "      <td>0.0084</td>\n",
       "    </tr>\n",
       "  </tbody>\n",
       "</table>\n",
       "</div>"
      ],
      "text/plain": [
       "                count\n",
       "LTVgrpA              \n",
       "0%             0.3645\n",
       "50 to 59%      0.1098\n",
       "60 to 69%      0.0947\n",
       "40 to 49%      0.0875\n",
       "30 to 39%      0.0719\n",
       "20 to 29%      0.0627\n",
       "70 to 79%      0.0578\n",
       "1 to 9%        0.0493\n",
       "10 to 19%      0.0481\n",
       "100 and above  0.0233\n",
       "80 to 89%      0.0218\n",
       "90 to 99%      0.0084"
      ]
     },
     "execution_count": 187,
     "metadata": {},
     "output_type": "execute_result"
    }
   ],
   "source": [
    "df[\"LTVgrpA\"] = df.LTVgrpA.cat.add_categories(['0%'])\n",
    "df.loc[df[\"Lntyp4\"] == \"Yes\", \"LTVgrpA\"] = \"0%\"\n",
    "get_stats(df, \"LTVgrpA\")"
   ]
  },
  {
   "cell_type": "code",
   "execution_count": 188,
   "metadata": {},
   "outputs": [],
   "source": [
    "band_mapping = {\n",
    "    '0%': 0,\n",
    "    '1 to 9%': 0.05,\n",
    "    '10 to 19%': 0.15,\n",
    "    '20 to 29%': 0.25,\n",
    "    '30 to 39%': 0.35,\n",
    "    '40 to 49%': 0.45,\n",
    "    '50 to 59%': 0.55,\n",
    "    '60 to 69%': 0.65,\n",
    "    '70 to 79%': 0.75,\n",
    "    '80 to 89%': 0.85,\n",
    "    '90 to 99%': 0.95,\n",
    "    '100 and above': 1.0\n",
    "}\n",
    "\n",
    "df['LTVgrpA_estimated'] = df['LTVgrpA'].map(band_mapping)\n",
    "df['LTVgrpA_estimated'] = pd.to_numeric(df['LTVgrpA_estimated'], errors='coerce')"
   ]
  },
  {
   "cell_type": "code",
   "execution_count": 204,
   "metadata": {},
   "outputs": [],
   "source": [
    "band_mapping = {\n",
    "    'less than £100,000': 50000,\n",
    "    '£100,000 to £199,999': 150000,\n",
    "    '£200,000 to £499,999': 350000,\n",
    "    '£500,000 to £999,999': 750000,\n",
    "    '£1,000,000 to £1,999,999': 1500000,\n",
    "    '£2,000,000 to £2,999,999': 2500000,\n",
    "    '£3,000,000 to £3,999,999': 3500000,\n",
    "    '£4,000,000 to £4,999,999': 4500000,\n",
    "    '£5,000,000 to £5,999,999': 5500000,\n",
    "    '£6,000,000 or more': 7000000\n",
    "}\n",
    "df['MktValgrpA_estimated'] = df['MktValgrpA'].map(band_mapping)\n",
    "df['MktValgrpA_estimated'] = pd.to_numeric(df['MktValgrpA_estimated'], errors='coerce')"
   ]
  },
  {
   "cell_type": "code",
   "execution_count": 205,
   "metadata": {},
   "outputs": [],
   "source": [
    "band_mapping = {\n",
    "    '1 only': 1,\n",
    "    '2 to 4': 2,\n",
    "    '5 to 9': 5,\n",
    "    '10 to 24': 15,\n",
    "    '25 to 100': 62,\n",
    "    'more than 100': 150\n",
    "}\n",
    "\n",
    "df['NumPrpgrp_estimated'] = df['NumPrpgrp'].map(band_mapping)\n",
    "df['NumPrpgrp_estimated'] = pd.to_numeric(df['NumPrpgrp_estimated'], errors='coerce')"
   ]
  },
  {
   "cell_type": "code",
   "execution_count": 206,
   "metadata": {},
   "outputs": [],
   "source": [
    "band_mapping = {\n",
    "    'up to £49,999': 25000,\n",
    "    '£50,000 to £79,999': 65000,\n",
    "    '£80,000 to £99,999': 90000,\n",
    "    '£100,000 to £129,999': 115000,\n",
    "    '£130,000 to £149,999': 140000,\n",
    "    '£150,000 to £179,999': 165000,\n",
    "    '£180,000 to £199,999': 190000,\n",
    "    '£200,000 to £499,999': 350000,\n",
    "    '£500,000 and over': 600000\n",
    "}\n",
    "df['ValperPrpA_estimated'] = df['ValperPrpA'].map(band_mapping)\n",
    "df['ValperPrpA_estimated'] = pd.to_numeric(df['ValperPrpA_estimated'], errors='coerce')"
   ]
  },
  {
   "cell_type": "code",
   "execution_count": 207,
   "metadata": {},
   "outputs": [],
   "source": [
    "df = df[df['ValperPrpA_estimated'].notna()]"
   ]
  },
  {
   "cell_type": "code",
   "execution_count": 244,
   "metadata": {},
   "outputs": [],
   "source": [
    "def define_max(numprpgrp):\n",
    "    prop_max = {\n",
    "        '1 only': 1,\n",
    "        '2 to 4': 4,\n",
    "        '5 to 9': 9,\n",
    "        '10 to 24': 24,\n",
    "        '25 to 100': 100,\n",
    "        'more than 100': 1000\n",
    "    }\n",
    "    return prop_max.get(numprpgrp)\n",
    "\n",
    "df['max_props'] = df.apply(lambda row: define_max(row['NumPrpgrp']), axis=1)\n",
    "    "
   ]
  },
  {
   "cell_type": "code",
   "execution_count": 249,
   "metadata": {},
   "outputs": [],
   "source": [
    "df['Num_prp_estimated'] = (df['MktValgrpA_estimated'] / df['ValperPrpA_estimated']).astype(int)\n",
    "df.loc[df['NumPrpgrp'] == '1 only', 'Num_prp_estimated'] = 1\n",
    "df['Num_prp_estimated'] = df.apply(lambda row: row['max_props'] if row['Num_prp_estimated'] > row['max_props'] else row['Num_prp_estimated'], axis=1)\n",
    "df['Num_prp_estimated'] = pd.to_numeric(df['Num_prp_estimated'], errors='coerce')"
   ]
  },
  {
   "cell_type": "code",
   "execution_count": 250,
   "metadata": {},
   "outputs": [],
   "source": [
    "df['mkt_val_est_result'] = df['ValperPrpA_estimated'] * df['Num_prp_estimated']\n",
    "df['mkt_val_est_result'] = pd.to_numeric(df['mkt_val_est_result'], errors='coerce')"
   ]
  },
  {
   "cell_type": "code",
   "execution_count": 251,
   "metadata": {},
   "outputs": [],
   "source": [
    "df['Debt_estimated'] = df['LTVgrpA_estimated'] * df['mkt_val_est_result']\n",
    "df['Debt_estimated'] = pd.to_numeric(df['Debt_estimated'], errors='coerce')"
   ]
  },
  {
   "cell_type": "code",
   "execution_count": 252,
   "metadata": {},
   "outputs": [],
   "source": [
    "df['sdlt_estimated'] = df.apply(lambda row: calculate_stlt(row['Num_prp_estimated'], row['ValperPrpA_estimated']), axis=1)\n",
    "df['sdlt_estimated'] = pd.to_numeric(df['sdlt_estimated'], errors='coerce')"
   ]
  },
  {
   "cell_type": "code",
   "execution_count": 253,
   "metadata": {},
   "outputs": [],
   "source": [
    "years_owned = {\n",
    "    'Less than 2 years': 1,  # 1 year, assuming an average of 1 year\n",
    "    '3 to 5 years': 3,  # 3 years, skewed lower from 4 years\n",
    "    '6 to 10 years': 7,  # 7 years, skewed lower from 8 years\n",
    "    '11 to 20 years': 13,  # 13 years, skewed lower from 15 years\n",
    "    'over 20 years': 20,  # 22 years, skewed lower from 25 years\n",
    "    }\n",
    "\n",
    "df['YearsOwned_estimated'] = df['TmLLgrpB'].map(years_owned)\n",
    "df['YearsOwned_estimated'] = pd.to_numeric(df['YearsOwned_estimated'], errors='coerce')\n",
    "df['PrpsPerYear'] = df['Num_prp_estimated'] / df['YearsOwned_estimated']\n",
    "df['PrpsPerYear'] = pd.to_numeric(df['PrpsPerYear'], errors='coerce')"
   ]
  },
  {
   "cell_type": "code",
   "execution_count": 269,
   "metadata": {},
   "outputs": [],
   "source": [
    "df['cg_estimated'] = df.apply(lambda row: est_cap_gains(row['YearsOwned_estimated'], row['Num_prp_estimated'], row['mkt_val_est_result']), axis=1)\n",
    "df['cg_estimated'] = pd.to_numeric(df['cg_estimated'], errors='coerce')\n",
    "df['total_lending'] = df['Debt_estimated'].fillna(0) + df['sdlt_estimated'].fillna(0) + df['cg_estimated'].fillna(0)\n",
    "df['new_ltv'] = df['total_lending'] / df['mkt_val_est_result']"
   ]
  },
  {
   "cell_type": "code",
   "execution_count": 275,
   "metadata": {},
   "outputs": [
    {
     "data": {
      "text/plain": [
       "31518"
      ]
     },
     "execution_count": 275,
     "metadata": {},
     "output_type": "execute_result"
    }
   ],
   "source": [
    "df['Num_prp_estimated'].sum()"
   ]
  },
  {
   "attachments": {},
   "cell_type": "markdown",
   "metadata": {},
   "source": [
    "## New Data"
   ]
  },
  {
   "cell_type": "code",
   "execution_count": 277,
   "metadata": {},
   "outputs": [],
   "source": [
    "df_test = df[[\n",
    "    'LLCat1',\n",
    "    'TmLLgrpB',\n",
    "    'LTVgrpA_estimated',\n",
    "    'Debt_estimated',\n",
    "    'Num_prp_estimated',\n",
    "    'NumPrpgrp_estimated',\n",
    "    'ValperPrpA_estimated',\n",
    "    'mkt_val_est_result',\n",
    "    'sdlt_estimated',\n",
    "    'cg_estimated',\n",
    "    'total_lending',\n",
    "    'new_ltv',\n",
    "]]\n",
    "\n",
    "df_test['Debt_estimated'] = df_test['Debt_estimated'].fillna(0)"
   ]
  },
  {
   "cell_type": "code",
   "execution_count": 278,
   "metadata": {},
   "outputs": [
    {
     "name": "stdout",
     "output_type": "stream",
     "text": [
      " Target market: 5286 \n",
      " Total market: 5787 \n",
      " Percentage of total individuals: 91.34%\n"
     ]
    }
   ],
   "source": [
    "tgt_mkt = df_test[(df_test[\"LLCat1\"].isin(['As an individual or group of individuals']))]\n",
    "# tgt_mkt = tgt_mkt[tgt_mkt['new_ltv'] <= .8]\n",
    "tgt_len = len(tgt_mkt.index)\n",
    "df_len = len(df_test[(df_test[\"LLCat1\"].notna())].index)\n",
    "\n",
    "print(f\" Target market: {tgt_len} \\n Total market: {df_len} \\n Percentage of total individuals: {round((tgt_len/df_len)*100,2)}%\")"
   ]
  },
  {
   "cell_type": "code",
   "execution_count": 279,
   "metadata": {},
   "outputs": [
    {
     "data": {
      "text/plain": [
       "495824.7692678774"
      ]
     },
     "execution_count": 279,
     "metadata": {},
     "output_type": "execute_result"
    }
   ],
   "source": [
    "tgt_mkt['total_lending'].mean()"
   ]
  },
  {
   "cell_type": "code",
   "execution_count": 280,
   "metadata": {},
   "outputs": [
    {
     "name": "stdout",
     "output_type": "stream",
     "text": [
      " Target market: 24656 \n",
      " Total market: 31518 \n",
      " Percentage of total properties: 78.23%\n"
     ]
    }
   ],
   "source": [
    "tgt_mkt_prps = tgt_mkt['Num_prp_estimated'].sum()\n",
    "mkt_prps = df['Num_prp_estimated'].sum()\n",
    "\n",
    "print(f\" Target market: {tgt_mkt_prps} \\n Total market: {mkt_prps} \\n Percentage of total properties: {round((tgt_mkt_prps/mkt_prps)*100,2)}%\")"
   ]
  },
  {
   "cell_type": "code",
   "execution_count": 281,
   "metadata": {},
   "outputs": [
    {
     "data": {
      "text/plain": [
       "5.446345256609642"
      ]
     },
     "execution_count": 281,
     "metadata": {},
     "output_type": "execute_result"
    }
   ],
   "source": [
    "df['Num_prp_estimated'].mean()"
   ]
  },
  {
   "cell_type": "code",
   "execution_count": 282,
   "metadata": {},
   "outputs": [
    {
     "name": "stdout",
     "output_type": "stream",
     "text": [
      " Target market: 5252105000 \n",
      " Total market: 6430440000 \n",
      " Percentage of total market value: 81.68%\n"
     ]
    }
   ],
   "source": [
    "tgt_mkt_val = tgt_mkt['mkt_val_est_result'].sum()\n",
    "mkt_val = df_test['mkt_val_est_result'].sum()\n",
    "\n",
    "print(f\" Target market: {tgt_mkt_val} \\n Total market: {mkt_val} \\n Percentage of total market value: {round((tgt_mkt_val/mkt_val)*100,2)}%\")"
   ]
  },
  {
   "cell_type": "markdown",
   "metadata": {},
   "source": [
    "## Further specifying Tgt Mkt"
   ]
  },
  {
   "cell_type": "code",
   "execution_count": 285,
   "metadata": {},
   "outputs": [
    {
     "data": {
      "text/plain": [
       "177279107.98"
      ]
     },
     "execution_count": 285,
     "metadata": {},
     "output_type": "execute_result"
    }
   ],
   "source": [
    "tgt_mkt = df_test[(df_test[\"LLCat1\"].isin(['As an individual or group of individuals']))]\n",
    "tgt_mkt = tgt_mkt[tgt_mkt[\"Num_prp_estimated\"] <= 10]\n",
    "# tgt_mkt = tgt_mkt[tgt_mkt[\"Num_prp_estimated\"] >= 5]\n",
    "tgt_mkt = tgt_mkt[tgt_mkt['new_ltv'] <= .65]\n",
    "tgt_mkt = tgt_mkt[tgt_mkt['new_ltv'] >= .60]\n",
    "tgt_mkt['total_lending'].sum()"
   ]
  },
  {
   "cell_type": "code",
   "execution_count": 286,
   "metadata": {},
   "outputs": [
    {
     "data": {
      "text/html": [
       "<div>\n",
       "<style scoped>\n",
       "    .dataframe tbody tr th:only-of-type {\n",
       "        vertical-align: middle;\n",
       "    }\n",
       "\n",
       "    .dataframe tbody tr th {\n",
       "        vertical-align: top;\n",
       "    }\n",
       "\n",
       "    .dataframe thead th {\n",
       "        text-align: right;\n",
       "    }\n",
       "</style>\n",
       "<table border=\"1\" class=\"dataframe\">\n",
       "  <thead>\n",
       "    <tr style=\"text-align: right;\">\n",
       "      <th></th>\n",
       "      <th>LLCat1</th>\n",
       "      <th>TmLLgrpB</th>\n",
       "      <th>LTVgrpA_estimated</th>\n",
       "      <th>Debt_estimated</th>\n",
       "      <th>Num_prp_estimated</th>\n",
       "      <th>NumPrpgrp_estimated</th>\n",
       "      <th>ValperPrpA_estimated</th>\n",
       "      <th>mkt_val_est_result</th>\n",
       "      <th>sdlt_estimated</th>\n",
       "      <th>cg_estimated</th>\n",
       "      <th>total_lending</th>\n",
       "      <th>new_ltv</th>\n",
       "    </tr>\n",
       "  </thead>\n",
       "  <tbody>\n",
       "    <tr>\n",
       "      <th>4384</th>\n",
       "      <td>As an individual or group of individuals</td>\n",
       "      <td>11 to 20 years</td>\n",
       "      <td>0.45</td>\n",
       "      <td>1417500.0</td>\n",
       "      <td>9</td>\n",
       "      <td>5</td>\n",
       "      <td>350000</td>\n",
       "      <td>3150000</td>\n",
       "      <td>94500.0</td>\n",
       "      <td>502451.15</td>\n",
       "      <td>2014451.15</td>\n",
       "      <td>0.639508</td>\n",
       "    </tr>\n",
       "    <tr>\n",
       "      <th>6870</th>\n",
       "      <td>As an individual or group of individuals</td>\n",
       "      <td>over 20 years</td>\n",
       "      <td>0.45</td>\n",
       "      <td>598500.0</td>\n",
       "      <td>7</td>\n",
       "      <td>5</td>\n",
       "      <td>190000</td>\n",
       "      <td>1330000</td>\n",
       "      <td>39900.0</td>\n",
       "      <td>193076.86</td>\n",
       "      <td>831476.86</td>\n",
       "      <td>0.625171</td>\n",
       "    </tr>\n",
       "    <tr>\n",
       "      <th>5656</th>\n",
       "      <td>As an individual or group of individuals</td>\n",
       "      <td>11 to 20 years</td>\n",
       "      <td>0.45</td>\n",
       "      <td>1080000.0</td>\n",
       "      <td>4</td>\n",
       "      <td>2</td>\n",
       "      <td>600000</td>\n",
       "      <td>2400000</td>\n",
       "      <td>72000.0</td>\n",
       "      <td>357936.82</td>\n",
       "      <td>1509936.82</td>\n",
       "      <td>0.629140</td>\n",
       "    </tr>\n",
       "    <tr>\n",
       "      <th>5858</th>\n",
       "      <td>As an individual or group of individuals</td>\n",
       "      <td>6 to 10 years</td>\n",
       "      <td>0.45</td>\n",
       "      <td>155250.0</td>\n",
       "      <td>3</td>\n",
       "      <td>2</td>\n",
       "      <td>115000</td>\n",
       "      <td>345000</td>\n",
       "      <td>10350.0</td>\n",
       "      <td>58072.90</td>\n",
       "      <td>223672.90</td>\n",
       "      <td>0.648327</td>\n",
       "    </tr>\n",
       "    <tr>\n",
       "      <th>1235</th>\n",
       "      <td>As an individual or group of individuals</td>\n",
       "      <td>6 to 10 years</td>\n",
       "      <td>0.55</td>\n",
       "      <td>192500.0</td>\n",
       "      <td>1</td>\n",
       "      <td>1</td>\n",
       "      <td>350000</td>\n",
       "      <td>350000</td>\n",
       "      <td>10500.0</td>\n",
       "      <td>20505.14</td>\n",
       "      <td>223505.14</td>\n",
       "      <td>0.638586</td>\n",
       "    </tr>\n",
       "  </tbody>\n",
       "</table>\n",
       "</div>"
      ],
      "text/plain": [
       "                                        LLCat1        TmLLgrpB   \n",
       "4384  As an individual or group of individuals  11 to 20 years  \\\n",
       "6870  As an individual or group of individuals   over 20 years   \n",
       "5656  As an individual or group of individuals  11 to 20 years   \n",
       "5858  As an individual or group of individuals   6 to 10 years   \n",
       "1235  As an individual or group of individuals   6 to 10 years   \n",
       "\n",
       "      LTVgrpA_estimated  Debt_estimated  Num_prp_estimated   \n",
       "4384               0.45       1417500.0                  9  \\\n",
       "6870               0.45        598500.0                  7   \n",
       "5656               0.45       1080000.0                  4   \n",
       "5858               0.45        155250.0                  3   \n",
       "1235               0.55        192500.0                  1   \n",
       "\n",
       "      NumPrpgrp_estimated  ValperPrpA_estimated  mkt_val_est_result   \n",
       "4384                    5                350000             3150000  \\\n",
       "6870                    5                190000             1330000   \n",
       "5656                    2                600000             2400000   \n",
       "5858                    2                115000              345000   \n",
       "1235                    1                350000              350000   \n",
       "\n",
       "      sdlt_estimated  cg_estimated  total_lending   new_ltv  \n",
       "4384         94500.0     502451.15     2014451.15  0.639508  \n",
       "6870         39900.0     193076.86      831476.86  0.625171  \n",
       "5656         72000.0     357936.82     1509936.82  0.629140  \n",
       "5858         10350.0      58072.90      223672.90  0.648327  \n",
       "1235         10500.0      20505.14      223505.14  0.638586  "
      ]
     },
     "execution_count": 286,
     "metadata": {},
     "output_type": "execute_result"
    }
   ],
   "source": [
    "tgt_mkt.sample(5)"
   ]
  },
  {
   "cell_type": "code",
   "execution_count": 287,
   "metadata": {},
   "outputs": [
    {
     "data": {
      "text/plain": [
       "590930.36"
      ]
     },
     "execution_count": 287,
     "metadata": {},
     "output_type": "execute_result"
    }
   ],
   "source": [
    "round(tgt_mkt['total_lending'].mean(), 2)"
   ]
  },
  {
   "cell_type": "code",
   "execution_count": 289,
   "metadata": {},
   "outputs": [
    {
     "name": "stdout",
     "output_type": "stream",
     "text": [
      " Target market: 281395000 \n",
      " Total market: 6430440000 \n",
      " Percentage of total market value: 4.38%\n"
     ]
    }
   ],
   "source": [
    "tgt_mkt_val = tgt_mkt['mkt_val_est_result'].sum()\n",
    "mkt_val = df_test['mkt_val_est_result'].sum()\n",
    "\n",
    "print(f\" Target market: {tgt_mkt_val} \\n Total market: {mkt_val} \\n Percentage of total market value: {round((tgt_mkt_val/mkt_val)*100,2)}%\")"
   ]
  },
  {
   "cell_type": "code",
   "execution_count": 290,
   "metadata": {},
   "outputs": [
    {
     "name": "stdout",
     "output_type": "stream",
     "text": [
      " Target market: 1015 \n",
      " Total market: 31518 \n",
      " Percentage of total properties: 3.22%\n"
     ]
    }
   ],
   "source": [
    "tgt_mkt_prps = tgt_mkt['Num_prp_estimated'].sum()\n",
    "mkt_prps = df['Num_prp_estimated'].sum()\n",
    "\n",
    "print(f\" Target market: {tgt_mkt_prps} \\n Total market: {mkt_prps} \\n Percentage of total properties: {round((tgt_mkt_prps/mkt_prps)*100,2)}%\")"
   ]
  },
  {
   "cell_type": "code",
   "execution_count": 291,
   "metadata": {},
   "outputs": [
    {
     "name": "stdout",
     "output_type": "stream",
     "text": [
      " Target market: 300 \n",
      " Total market: 5787 \n",
      " Percentage of total individuals: 5.18%\n"
     ]
    }
   ],
   "source": [
    "tgt_len = len(tgt_mkt.index)\n",
    "df_len = len(df_test[(df_test[\"LLCat1\"].notna())].index)\n",
    "\n",
    "print(f\" Target market: {tgt_len} \\n Total market: {df_len} \\n Percentage of total individuals: {round((tgt_len/df_len)*100,2)}%\")"
   ]
  },
  {
   "cell_type": "markdown",
   "metadata": {},
   "source": [
    "## New Stats"
   ]
  },
  {
   "cell_type": "code",
   "execution_count": 294,
   "metadata": {},
   "outputs": [],
   "source": [
    "df_test = df[[\n",
    "    'LLCat1',\n",
    "    'Age4cat',\n",
    "    'LLEmpl03',\n",
    "    'TmLLgrpB',\n",
    "    'LTVgrpA_estimated',\n",
    "    'Debt_estimated',\n",
    "    'Num_prp_estimated',\n",
    "    'ValperPrpA_estimated',\n",
    "    'mkt_val_est_result',\n",
    "    'sdlt_estimated',\n",
    "    'cg_estimated',\n",
    "    'total_lending',\n",
    "    'new_ltv',\n",
    "]]\n",
    "\n",
    "df_test['Debt_estimated'] = df_test['Debt_estimated'].fillna(0)"
   ]
  },
  {
   "cell_type": "markdown",
   "metadata": {},
   "source": [
    "Total Unincorporated LLs"
   ]
  },
  {
   "cell_type": "code",
   "execution_count": 295,
   "metadata": {},
   "outputs": [],
   "source": [
    "df_tam = df_test[(df_test[\"LLCat1\"].isin(['As an individual or group of individuals', 'Other (please specify)']))]"
   ]
  },
  {
   "cell_type": "code",
   "execution_count": 296,
   "metadata": {},
   "outputs": [
    {
     "data": {
      "text/plain": [
       "4.859607267388512"
      ]
     },
     "execution_count": 296,
     "metadata": {},
     "output_type": "execute_result"
    }
   ],
   "source": [
    "df_tam[\"Num_prp_estimated\"].mean()"
   ]
  },
  {
   "cell_type": "code",
   "execution_count": 306,
   "metadata": {},
   "outputs": [
    {
     "data": {
      "text/plain": [
       "4116758.677581065"
      ]
     },
     "execution_count": 306,
     "metadata": {},
     "output_type": "execute_result"
    }
   ],
   "source": [
    "(df_tam['Num_prp_estimated'].sum()/df_test['Num_prp_estimated'].sum()) * 4900000"
   ]
  },
  {
   "cell_type": "code",
   "execution_count": 299,
   "metadata": {},
   "outputs": [
    {
     "data": {
      "text/plain": [
       "0.9415932261966476"
      ]
     },
     "execution_count": 299,
     "metadata": {},
     "output_type": "execute_result"
    }
   ],
   "source": [
    "mkt_pc = len(df_tam) / len(df)\n",
    "mkt_pc"
   ]
  },
  {
   "cell_type": "markdown",
   "metadata": {},
   "source": [
    "Self-employed LLs"
   ]
  },
  {
   "cell_type": "code",
   "execution_count": 307,
   "metadata": {},
   "outputs": [],
   "source": [
    "df_sam = df_tam[(df_tam['LLEmpl03']==\"Yes\")]"
   ]
  },
  {
   "cell_type": "code",
   "execution_count": 308,
   "metadata": {},
   "outputs": [
    {
     "data": {
      "text/plain": [
       "8.862555066079295"
      ]
     },
     "execution_count": 308,
     "metadata": {},
     "output_type": "execute_result"
    }
   ],
   "source": [
    "df_sam[\"Num_prp_estimated\"].mean()"
   ]
  },
  {
   "cell_type": "code",
   "execution_count": 311,
   "metadata": {},
   "outputs": [
    {
     "data": {
      "text/plain": [
       "1563839.710641538"
      ]
     },
     "execution_count": 311,
     "metadata": {},
     "output_type": "execute_result"
    }
   ],
   "source": [
    "(df_sam['Num_prp_estimated'].sum()/df_test['Num_prp_estimated'].sum()) * 4900000"
   ]
  },
  {
   "cell_type": "markdown",
   "metadata": {},
   "source": [
    "Self-employed under 45"
   ]
  },
  {
   "cell_type": "code",
   "execution_count": 54,
   "metadata": {},
   "outputs": [],
   "source": [
    "df_som = df_sam[(df_sam[\"Age4cat\"].isin(['35-44', '18-34']))]"
   ]
  },
  {
   "cell_type": "code",
   "execution_count": 55,
   "metadata": {},
   "outputs": [
    {
     "data": {
      "text/plain": [
       "7.350877192982456"
      ]
     },
     "execution_count": 55,
     "metadata": {},
     "output_type": "execute_result"
    }
   ],
   "source": [
    "df_som[\"Num_prp_estimated\"].mean()"
   ]
  },
  {
   "cell_type": "code",
   "execution_count": 56,
   "metadata": {},
   "outputs": [
    {
     "data": {
      "text/plain": [
       "29548.989113530326"
      ]
     },
     "execution_count": 56,
     "metadata": {},
     "output_type": "execute_result"
    }
   ],
   "source": [
    "mkt_pc = len(df_som) / len(df)\n",
    "mkt_pc * 1_500_000"
   ]
  }
 ],
 "metadata": {
  "kernelspec": {
   "display_name": "base",
   "language": "python",
   "name": "python3"
  },
  "language_info": {
   "codemirror_mode": {
    "name": "ipython",
    "version": 3
   },
   "file_extension": ".py",
   "mimetype": "text/x-python",
   "name": "python",
   "nbconvert_exporter": "python",
   "pygments_lexer": "ipython3",
   "version": "3.9.13"
  },
  "orig_nbformat": 4
 },
 "nbformat": 4,
 "nbformat_minor": 2
}
