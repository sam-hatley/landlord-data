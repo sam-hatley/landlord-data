{
 "cells": [
  {
   "attachments": {},
   "cell_type": "markdown",
   "metadata": {},
   "source": [
    "# Import & Cleanup"
   ]
  },
  {
   "cell_type": "code",
   "execution_count": 1,
   "metadata": {},
   "outputs": [],
   "source": [
    "import pandas as pd\n",
    "import numpy as np"
   ]
  },
  {
   "cell_type": "code",
   "execution_count": 9,
   "metadata": {},
   "outputs": [],
   "source": [
    "df = pd.read_spss(\"./Data/private_landlord_survey/UKDA-8455-spss/spss/epls_2018_forarchive.sav\")"
   ]
  },
  {
   "cell_type": "code",
   "execution_count": 10,
   "metadata": {},
   "outputs": [],
   "source": [
    "df = df[[\"serial_2\", # Unique Identifier\n",
    "        \"LLeth2cat\", # LL ethnicity\n",
    "        \"Age4cat\", # LL Age\n",
    "        \"ValperPrpA\", # Avg mkt val per prop\n",
    "        \"MktValgrpA\", # Mkt val all props\n",
    "        \"BTL\", # Buy to let loan/other\n",
    "        \"LnperPrpA\", # Avg loan per prop\n",
    "        \"LnValgrpA\", # Total val all loans\n",
    "        \"LTVgrpA\", # LTV market val\n",
    "        \"TmLLgrpB\", # How long been LL\n",
    "        \"LLExp\", # Length experience as LL\n",
    "        \"NumPrpgrp\", # How many props\n",
    "        \"RtIncgrpa\", # Gross rental inc\n",
    "        \"LLIncgrpA\", # Total LL inc no rent\n",
    "        \"TotIncgrp\", # Total LL inc\n",
    "        \"RtPrIncgrpA\", # Rent as prop. inc\n",
    "        \"Port_size\", # Portfolio size\n",
    "        \"LLEmpl01\", # Emp. Status: FT\n",
    "        \"LLEmpl02\", # Emp. Status: PT\n",
    "        \"LLEmpl03\", # Emp. Status: Self-employed as LL\n",
    "        \"LLEmpl04\", # Emp. Status: Self-employed\n",
    "        \"LLEmpl05\", # Emp. Status: Retired\n",
    "        \"LLEmpl06\", # Emp. Status: Company director\n",
    "        \"LLEmpl07\", # Emp. Status: Student\n",
    "        \"LLEmpl08\", # Emp. Status: FT carer\n",
    "        \"LLEmpl09\", # Emp. Status: Unemployed\n",
    "        \"LLOrg1\", # LL Org: National LLs Assc.\n",
    "        \"LLOrg2\", # LL Org: Residential LL Assc.\n",
    "        \"LLOrg3\", # LL Org: Other professional\n",
    "        \"LLOrg4\", # LL Org: None\n",
    "        \"AgOrg1\", # Rental Org: ARLA\n",
    "        \"AgOrg2\", # Rental Org: NAEA\n",
    "        \"AgOrg3\", # Rental Org: NALS\n",
    "        \"AgOrg4\", # Rental Org: UKALA\n",
    "        \"AgOrg5\", # Rental Org: Other\n",
    "        \"AgOrg6\", # Rental Org: None\n",
    "        \"Regprop01\", # Prop Region: East England\n",
    "        \"Regprop02\", # Prop Region: East Midlands\n",
    "        \"Regprop03\", # Prop Region: Inner London\n",
    "        \"Regprop04\", # Prop Region: Outer London\n",
    "        \"Regprop05\", # Prop Region: North East\n",
    "        \"Regprop06\", # Prop Region: North West\n",
    "        \"Regprop07\", # Prop Region: South East\n",
    "        \"Regprop08\", # Prop Region: South West\n",
    "        \"Regprop09\", # Prop Region: West Midlands\n",
    "        \"Regprop10\", # Prop Region: Yorkshire/Humber\n",
    "        \"LLInfo01\", # Where info: Letting Agent\n",
    "        \"LLInfo02\", # Where info: LL membership ass. or org\n",
    "        \"LLInfo03\", # Where info: Online landlord forums/websites\n",
    "        \"LLInfo04\", # Where info: Gov't websites\n",
    "        \"LLInfo05\", # Where info: Family/friends\n",
    "        \"LLInfo06\", # Where info: Online media\n",
    "        \"LLInfo07\", # Where info: TV\n",
    "        \"LLInfo08\", # Where info: Radio\n",
    "        \"LLInfo09\", # Where info: Newspapers\n",
    "        \"AgtuseA1\", # Agent use: For letting svcs\n",
    "        \"AgtuseA2\", # Agent use: For mgmt svcs\n",
    "        \"AgtuseA3\", # Agent use: None\n",
    "        \"FutVac\", # Next Vacancy will relet\n",
    "        \"FutProp\", # Next two years, plan\n",
    "        \"FutRLv1\", # LL leave/reduce: Financial\n",
    "        \"FutRLv2\", # LL leave/reduce: Personal\n",
    "        \"FutRLv3\", # LL leave/reduce: Legislative\n",
    "        \"FutRLv4\", # LL leave/reduce: Other\n",
    "        \"FutRLv5\", # LL leave/reduce: None\n",
    "        \"FutRLv6\", # LL leave/reduce: Don't Know\n",
    "        \"FutInc1\", # LL Increase/maintain: Financial\n",
    "        \"FutInc2\", # LL Increase/maintain: Personal\n",
    "        \"FutInc3\", # LL Increase/maintain: Legislative\n",
    "        \"FutInc4\", # LL Increase/maintain: Other\n",
    "        \"FutInc5\", # LL Increase/maintain: None\n",
    "        \"FutInc6\", # LL Increase/maintain: Don't know\n",
    "        \"LLPmb1\", # LL Serious problems: Financial\n",
    "        \"LLPmb2\", # LL Serious problems: Legislative\n",
    "        \"LLPmb3\", # LL Serious problems: Tenant behaviour\n",
    "        \"LLPmb4\", # LL Serious problems: Other\n",
    "        \"LLPmb5\", # LL Serious problems: None\n",
    "        \"Lntyp1\", # Current loan: B2L mort\n",
    "        \"Lntyp2\", # Current loan: Commercial loan\n",
    "        \"Lntyp3\", # Current loan: Family/friends\n",
    "        \"Lntyp4\", # Current loan: No debt\n",
    "        \"Lntyp5\", # Current loan: Other\n",
    "        \"TaxB201\", # Awareness: Stamp duty increase\n",
    "        \"TaxB202\", # Awareness: Reduced tax relief\n",
    "        \"TaxB203\", # Awareness: Reduced CG tax non-prop\n",
    "        \"TaxB204\", # Awareness: Change wear/tear allow\n",
    "        \"TaxB205\", # Awareness: Change minimum rent B2L mort\n",
    "        \"TaxB206\", # Awareness: Letting agent fee ban\n",
    "        \"TaxB207\", # Awareness: Tax treatment foreign prop own\n",
    "        \"TaxB208\", # Awareness: None\n",
    "        \"TaxB301\", # As above but understanding\n",
    "        \"TaxB302\",\n",
    "        \"TaxB303\",\n",
    "        \"TaxB304\",\n",
    "        \"TaxB305\",\n",
    "        \"TaxB306\",\n",
    "        \"TaxB307\",\n",
    "        \"EPCEFG\", # Any props. w/ EPC rating E, F or G\n",
    "        \"EPCE\", # Awareness: EPC requirements\n",
    "        \"LetReq03\", # Requirement: EPC Certificate\n",
    "        \"AcqMeth\" # How acquire first property\n",
    "]]\n",
    "\n",
    "df[\"serial_2\"] = df[\"serial_2\"].astype(\"int\")"
   ]
  },
  {
   "attachments": {},
   "cell_type": "markdown",
   "metadata": {},
   "source": [
    "# Total Market"
   ]
  },
  {
   "attachments": {},
   "cell_type": "markdown",
   "metadata": {},
   "source": [
    "Finding reasons behind reducing property investment:"
   ]
  },
  {
   "cell_type": "code",
   "execution_count": 4,
   "metadata": {},
   "outputs": [
    {
     "data": {
      "text/html": [
       "<div>\n",
       "<style scoped>\n",
       "    .dataframe tbody tr th:only-of-type {\n",
       "        vertical-align: middle;\n",
       "    }\n",
       "\n",
       "    .dataframe tbody tr th {\n",
       "        vertical-align: top;\n",
       "    }\n",
       "\n",
       "    .dataframe thead th {\n",
       "        text-align: right;\n",
       "    }\n",
       "</style>\n",
       "<table border=\"1\" class=\"dataframe\">\n",
       "  <thead>\n",
       "    <tr style=\"text-align: right;\">\n",
       "      <th>columns</th>\n",
       "      <th>Financial</th>\n",
       "      <th>Legislative</th>\n",
       "      <th>None</th>\n",
       "      <th>Other</th>\n",
       "      <th>Personal</th>\n",
       "    </tr>\n",
       "    <tr>\n",
       "      <th>index</th>\n",
       "      <th></th>\n",
       "      <th></th>\n",
       "      <th></th>\n",
       "      <th></th>\n",
       "      <th></th>\n",
       "    </tr>\n",
       "  </thead>\n",
       "  <tbody>\n",
       "    <tr>\n",
       "      <th>Yes</th>\n",
       "      <td>25.950783</td>\n",
       "      <td>65.995526</td>\n",
       "      <td>0.671141</td>\n",
       "      <td>18.493661</td>\n",
       "      <td>37.43475</td>\n",
       "    </tr>\n",
       "  </tbody>\n",
       "</table>\n",
       "</div>"
      ],
      "text/plain": [
       "columns  Financial  Legislative      None      Other  Personal\n",
       "index                                                         \n",
       "Yes      25.950783    65.995526  0.671141  18.493661  37.43475"
      ]
     },
     "execution_count": 4,
     "metadata": {},
     "output_type": "execute_result"
    }
   ],
   "source": [
    "reducing = df[[\"FutRLv1\",\n",
    "              \"FutRLv2\", \n",
    "              \"FutRLv3\", \n",
    "              \"FutRLv4\", \n",
    "              \"FutRLv5\"]]\n",
    "\n",
    "reducing.columns = [\n",
    "    \"Financial\",\n",
    "    \"Personal\",\n",
    "    \"Legislative\",\n",
    "    \"Other\",\n",
    "    \"None\"\n",
    "]\n",
    "\n",
    "reducing = reducing.dropna()\n",
    "df1 = reducing.melt(var_name='columns', value_name='index')\n",
    "\n",
    "crosstab = pd.crosstab(index=df1['index'], columns=df1['columns'])\n",
    "f = lambda a : a / len(reducing) * 100\n",
    "crosstab.applymap(f)[1:]"
   ]
  },
  {
   "attachments": {},
   "cell_type": "markdown",
   "metadata": {},
   "source": [
    "Sources of information"
   ]
  },
  {
   "cell_type": "code",
   "execution_count": 5,
   "metadata": {},
   "outputs": [
    {
     "data": {
      "text/html": [
       "<div>\n",
       "<style scoped>\n",
       "    .dataframe tbody tr th:only-of-type {\n",
       "        vertical-align: middle;\n",
       "    }\n",
       "\n",
       "    .dataframe tbody tr th {\n",
       "        vertical-align: top;\n",
       "    }\n",
       "\n",
       "    .dataframe thead th {\n",
       "        text-align: right;\n",
       "    }\n",
       "</style>\n",
       "<table border=\"1\" class=\"dataframe\">\n",
       "  <thead>\n",
       "    <tr style=\"text-align: right;\">\n",
       "      <th>columns</th>\n",
       "      <th>Family/Friends</th>\n",
       "      <th>Gov't websites</th>\n",
       "      <th>LL Membership Assoc.</th>\n",
       "      <th>Letting Agent</th>\n",
       "      <th>Newspapers</th>\n",
       "      <th>Online LL forums</th>\n",
       "      <th>Online Media</th>\n",
       "      <th>Radio</th>\n",
       "      <th>Television</th>\n",
       "    </tr>\n",
       "    <tr>\n",
       "      <th>index</th>\n",
       "      <th></th>\n",
       "      <th></th>\n",
       "      <th></th>\n",
       "      <th></th>\n",
       "      <th></th>\n",
       "      <th></th>\n",
       "      <th></th>\n",
       "      <th></th>\n",
       "      <th></th>\n",
       "    </tr>\n",
       "  </thead>\n",
       "  <tbody>\n",
       "    <tr>\n",
       "      <th>Yes</th>\n",
       "      <td>0.16938</td>\n",
       "      <td>0.628678</td>\n",
       "      <td>0.324571</td>\n",
       "      <td>0.306497</td>\n",
       "      <td>0.229425</td>\n",
       "      <td>0.425093</td>\n",
       "      <td>0.335922</td>\n",
       "      <td>0.100373</td>\n",
       "      <td>0.142345</td>\n",
       "    </tr>\n",
       "  </tbody>\n",
       "</table>\n",
       "</div>"
      ],
      "text/plain": [
       "columns  Family/Friends  Gov't websites  LL Membership Assoc.  Letting Agent   \n",
       "index                                                                          \n",
       "Yes             0.16938        0.628678              0.324571       0.306497  \\\n",
       "\n",
       "columns  Newspapers  Online LL forums  Online Media     Radio  Television  \n",
       "index                                                                      \n",
       "Yes        0.229425          0.425093      0.335922  0.100373    0.142345  "
      ]
     },
     "execution_count": 5,
     "metadata": {},
     "output_type": "execute_result"
    }
   ],
   "source": [
    "info_df = df[\n",
    "    [\"LLInfo01\", # Where info: Letting Agent\n",
    "     \"LLInfo02\", # Where info: LL membership ass. or org\n",
    "     \"LLInfo03\", # Where info: Online landlord forums/websites\n",
    "     \"LLInfo04\", # Where info: Gov't websites\n",
    "     \"LLInfo05\", # Where info: Family/friends\n",
    "     \"LLInfo06\", # Where info: Online media\n",
    "     \"LLInfo07\", # Where info: TV\n",
    "     \"LLInfo08\", # Where info: Radio\n",
    "     \"LLInfo09\"] # Where info: Newspapers\n",
    "]\n",
    "\n",
    "info_df.columns = [\n",
    "    \"Letting Agent\",\n",
    "    \"LL Membership Assoc.\",\n",
    "    \"Online LL forums\",\n",
    "    \"Gov't websites\",\n",
    "    \"Family/Friends\",\n",
    "    \"Online Media\",\n",
    "    \"Television\",\n",
    "    \"Radio\",\n",
    "    \"Newspapers\"\n",
    "]\n",
    "\n",
    "info_df = info_df.dropna()\n",
    "info_len = len(info_df.index)\n",
    "info_df = info_df.melt(var_name='columns', value_name='index')\n",
    "info_xt = pd.crosstab(index=info_df['index'], columns=info_df['columns'])\n",
    "f = lambda a : a / info_len\n",
    "info_xt = info_xt.applymap(f)\n",
    "info_xt[1:]"
   ]
  },
  {
   "cell_type": "code",
   "execution_count": 6,
   "metadata": {},
   "outputs": [
    {
     "data": {
      "text/plain": [
       "<AxesSubplot:xlabel='index'>"
      ]
     },
     "execution_count": 6,
     "metadata": {},
     "output_type": "execute_result"
    },
    {
     "data": {
      "image/png": "[encoded data removed]",
      "text/plain": [
       "<Figure size 640x480 with 1 Axes>"
      ]
     },
     "metadata": {},
     "output_type": "display_data"
    }
   ],
   "source": [
    "info_xt[1:].plot(kind=\"bar\", use_index=True)"
   ]
  },
  {
   "attachments": {},
   "cell_type": "markdown",
   "metadata": {},
   "source": [
    "How many landlords were completely unaware of EPCE reqs?"
   ]
  },
  {
   "cell_type": "code",
   "execution_count": 7,
   "metadata": {},
   "outputs": [
    {
     "data": {
      "text/plain": [
       "0.3010767343600927"
      ]
     },
     "execution_count": 7,
     "metadata": {},
     "output_type": "execute_result"
    }
   ],
   "source": [
    "len(df[df[\"EPCE\"]==\"I was not aware of this at all\"].index)/len(df[df[\"EPCE\"].notna()].index)"
   ]
  },
  {
   "cell_type": "code",
   "execution_count": 8,
   "metadata": {},
   "outputs": [
    {
     "data": {
      "text/html": [
       "<div>\n",
       "<style scoped>\n",
       "    .dataframe tbody tr th:only-of-type {\n",
       "        vertical-align: middle;\n",
       "    }\n",
       "\n",
       "    .dataframe tbody tr th {\n",
       "        vertical-align: top;\n",
       "    }\n",
       "\n",
       "    .dataframe thead th {\n",
       "        text-align: right;\n",
       "    }\n",
       "</style>\n",
       "<table border=\"1\" class=\"dataframe\">\n",
       "  <thead>\n",
       "    <tr style=\"text-align: right;\">\n",
       "      <th></th>\n",
       "      <th>count</th>\n",
       "    </tr>\n",
       "    <tr>\n",
       "      <th>Age4cat</th>\n",
       "      <th></th>\n",
       "    </tr>\n",
       "  </thead>\n",
       "  <tbody>\n",
       "    <tr>\n",
       "      <th>45 to 64</th>\n",
       "      <td>58.32</td>\n",
       "    </tr>\n",
       "    <tr>\n",
       "      <th>65 and over</th>\n",
       "      <td>28.58</td>\n",
       "    </tr>\n",
       "    <tr>\n",
       "      <th>35-44</th>\n",
       "      <td>10.58</td>\n",
       "    </tr>\n",
       "    <tr>\n",
       "      <th>18-34</th>\n",
       "      <td>2.53</td>\n",
       "    </tr>\n",
       "  </tbody>\n",
       "</table>\n",
       "</div>"
      ],
      "text/plain": [
       "             count\n",
       "Age4cat           \n",
       "45 to 64     58.32\n",
       "65 and over  28.58\n",
       "35-44        10.58\n",
       "18-34         2.53"
      ]
     },
     "execution_count": 8,
     "metadata": {},
     "output_type": "execute_result"
    }
   ],
   "source": [
    "df_age = df[\"Age4cat\"].value_counts().to_frame()\n",
    "f = lambda a : round(a / len(df[df[\"Age4cat\"].notna()].index) * 100, 2)\n",
    "df_age.applymap(f)"
   ]
  },
  {
   "attachments": {},
   "cell_type": "markdown",
   "metadata": {},
   "source": [
    "# Target Market"
   ]
  },
  {
   "attachments": {},
   "cell_type": "markdown",
   "metadata": {},
   "source": [
    "Defining target market as:\n",
    "- Has properties rated E, F, or G\n",
    "- Has less than 10 properties"
   ]
  },
  {
   "cell_type": "code",
   "execution_count": 11,
   "metadata": {},
   "outputs": [],
   "source": [
    "tgt_mkt = df[df[\"EPCEFG\"] == \"Yes\"]\n",
    "tgt_mkt = tgt_mkt[(tgt_mkt[\"NumPrpgrp\"].isin(['1 only', '2 to 4', '5 to 9']))]"
   ]
  },
  {
   "attachments": {},
   "cell_type": "markdown",
   "metadata": {},
   "source": [
    "Getting stats for:\n",
    "```py\n",
    "\"LLeth2cat\", # LL ethnicity\n",
    "\"Age4cat\", # LL Age\n",
    "\"ValperPrpA\", # Avg mkt val per prop\n",
    "\"MktValgrpA\", # Mkt val all props\n",
    "\"BTL\", # Buy to let loan/other\n",
    "\"LnperPrpA\", # Avg loan per prop\n",
    "\"LnValgrpA\", # Total val all loans\n",
    "\"LTVgrpA\", # LTV market val\n",
    "\"TmLLgrpB\", # How long been LL\n",
    "\"LLExp\", # Length experience as LL\n",
    "\"NumPrpgrp\", # How many props\n",
    "\"RtIncgrpa\", # Gross rental inc\n",
    "\"LLIncgrpA\", # Total LL inc no rent\n",
    "\"TotIncgrp\", # Total LL inc\n",
    "\"RtPrIncgrpA\" # Rent as prop. inc\n",
    "```"
   ]
  },
  {
   "cell_type": "code",
   "execution_count": 13,
   "metadata": {},
   "outputs": [],
   "source": [
    "def get_stats(df: pd.DataFrame, col: str, percent:bool = True) -> pd.DataFrame:\n",
    "    df_stats = df[col].value_counts().to_frame()\n",
    "    if percent == True:\n",
    "        f = lambda a : round(a / len(df[df[col].notna()].index), 4)\n",
    "        df_stats = df_stats.applymap(f)\n",
    "    return df_stats"
   ]
  },
  {
   "attachments": {},
   "cell_type": "markdown",
   "metadata": {},
   "source": [
    "## Basic Stats"
   ]
  },
  {
   "attachments": {},
   "cell_type": "markdown",
   "metadata": {},
   "source": [
    "How much of the total market of LLs are we looking at?\n",
    "\n",
    "Going to exclude `na` vals from the total here:"
   ]
  },
  {
   "cell_type": "code",
   "execution_count": 11,
   "metadata": {},
   "outputs": [
    {
     "name": "stdout",
     "output_type": "stream",
     "text": [
      " Target market: 1103 \n",
      " Total market: 6150 \n",
      " Percentage of total market: 17.93%\n"
     ]
    }
   ],
   "source": [
    "tgt_len = len(tgt_mkt.index)\n",
    "df_len = len(df[(df[\"EPCEFG\"].notna()) & (df[\"NumPrpgrp\"].notna())].index)\n",
    "\n",
    "print(f\" Target market: {tgt_len} \\n Total market: {df_len} \\n Percentage of total market: {round((tgt_len/df_len)*100,2)}%\")"
   ]
  },
  {
   "attachments": {},
   "cell_type": "markdown",
   "metadata": {},
   "source": [
    "Not including the property count, we could increase this to 29% of the total market:"
   ]
  },
  {
   "cell_type": "code",
   "execution_count": 12,
   "metadata": {},
   "outputs": [
    {
     "data": {
      "text/plain": [
       "0.2885348583877996"
      ]
     },
     "execution_count": 12,
     "metadata": {},
     "output_type": "execute_result"
    }
   ],
   "source": [
    "len(df[df[\"EPCEFG\"]==\"Yes\"].index)/len(df[df[\"EPCEFG\"].notna()].index)"
   ]
  },
  {
   "attachments": {},
   "cell_type": "markdown",
   "metadata": {},
   "source": [
    "How many of these landlords unaware of EPC regs?"
   ]
  },
  {
   "cell_type": "code",
   "execution_count": 13,
   "metadata": {},
   "outputs": [
    {
     "data": {
      "text/plain": [
       "0.323956442831216"
      ]
     },
     "execution_count": 13,
     "metadata": {},
     "output_type": "execute_result"
    }
   ],
   "source": [
    "len(tgt_mkt[tgt_mkt[\"EPCE\"]==\"I was not aware of this at all\"].index)/len(tgt_mkt[tgt_mkt[\"EPCE\"].notna()].index)"
   ]
  },
  {
   "cell_type": "code",
   "execution_count": 14,
   "metadata": {},
   "outputs": [
    {
     "data": {
      "text/html": [
       "<div>\n",
       "<style scoped>\n",
       "    .dataframe tbody tr th:only-of-type {\n",
       "        vertical-align: middle;\n",
       "    }\n",
       "\n",
       "    .dataframe tbody tr th {\n",
       "        vertical-align: top;\n",
       "    }\n",
       "\n",
       "    .dataframe thead th {\n",
       "        text-align: right;\n",
       "    }\n",
       "</style>\n",
       "<table border=\"1\" class=\"dataframe\">\n",
       "  <thead>\n",
       "    <tr style=\"text-align: right;\">\n",
       "      <th></th>\n",
       "      <th>count</th>\n",
       "    </tr>\n",
       "    <tr>\n",
       "      <th>NumPrpgrp</th>\n",
       "      <th></th>\n",
       "    </tr>\n",
       "  </thead>\n",
       "  <tbody>\n",
       "    <tr>\n",
       "      <th>2 to 4</th>\n",
       "      <td>0.4705</td>\n",
       "    </tr>\n",
       "    <tr>\n",
       "      <th>5 to 9</th>\n",
       "      <td>0.2874</td>\n",
       "    </tr>\n",
       "    <tr>\n",
       "      <th>1 only</th>\n",
       "      <td>0.2421</td>\n",
       "    </tr>\n",
       "    <tr>\n",
       "      <th>10 to 24</th>\n",
       "      <td>0.0000</td>\n",
       "    </tr>\n",
       "    <tr>\n",
       "      <th>25 to 100</th>\n",
       "      <td>0.0000</td>\n",
       "    </tr>\n",
       "    <tr>\n",
       "      <th>more than 100</th>\n",
       "      <td>0.0000</td>\n",
       "    </tr>\n",
       "  </tbody>\n",
       "</table>\n",
       "</div>"
      ],
      "text/plain": [
       "                count\n",
       "NumPrpgrp            \n",
       "2 to 4         0.4705\n",
       "5 to 9         0.2874\n",
       "1 only         0.2421\n",
       "10 to 24       0.0000\n",
       "25 to 100      0.0000\n",
       "more than 100  0.0000"
      ]
     },
     "execution_count": 14,
     "metadata": {},
     "output_type": "execute_result"
    }
   ],
   "source": [
    "get_stats(tgt_mkt, \"NumPrpgrp\")"
   ]
  },
  {
   "cell_type": "code",
   "execution_count": 15,
   "metadata": {},
   "outputs": [
    {
     "data": {
      "text/html": [
       "<div>\n",
       "<style scoped>\n",
       "    .dataframe tbody tr th:only-of-type {\n",
       "        vertical-align: middle;\n",
       "    }\n",
       "\n",
       "    .dataframe tbody tr th {\n",
       "        vertical-align: top;\n",
       "    }\n",
       "\n",
       "    .dataframe thead th {\n",
       "        text-align: right;\n",
       "    }\n",
       "</style>\n",
       "<table border=\"1\" class=\"dataframe\">\n",
       "  <thead>\n",
       "    <tr style=\"text-align: right;\">\n",
       "      <th></th>\n",
       "      <th>count</th>\n",
       "    </tr>\n",
       "    <tr>\n",
       "      <th>LLeth2cat</th>\n",
       "      <th></th>\n",
       "    </tr>\n",
       "  </thead>\n",
       "  <tbody>\n",
       "    <tr>\n",
       "      <th>White</th>\n",
       "      <td>0.8936</td>\n",
       "    </tr>\n",
       "    <tr>\n",
       "      <th>Other</th>\n",
       "      <td>0.1064</td>\n",
       "    </tr>\n",
       "  </tbody>\n",
       "</table>\n",
       "</div>"
      ],
      "text/plain": [
       "            count\n",
       "LLeth2cat        \n",
       "White      0.8936\n",
       "Other      0.1064"
      ]
     },
     "execution_count": 15,
     "metadata": {},
     "output_type": "execute_result"
    }
   ],
   "source": [
    "get_stats(tgt_mkt, \"LLeth2cat\")"
   ]
  },
  {
   "cell_type": "code",
   "execution_count": 16,
   "metadata": {},
   "outputs": [
    {
     "data": {
      "text/html": [
       "<div>\n",
       "<style scoped>\n",
       "    .dataframe tbody tr th:only-of-type {\n",
       "        vertical-align: middle;\n",
       "    }\n",
       "\n",
       "    .dataframe tbody tr th {\n",
       "        vertical-align: top;\n",
       "    }\n",
       "\n",
       "    .dataframe thead th {\n",
       "        text-align: right;\n",
       "    }\n",
       "</style>\n",
       "<table border=\"1\" class=\"dataframe\">\n",
       "  <thead>\n",
       "    <tr style=\"text-align: right;\">\n",
       "      <th></th>\n",
       "      <th>count</th>\n",
       "    </tr>\n",
       "    <tr>\n",
       "      <th>Age4cat</th>\n",
       "      <th></th>\n",
       "    </tr>\n",
       "  </thead>\n",
       "  <tbody>\n",
       "    <tr>\n",
       "      <th>45 to 64</th>\n",
       "      <td>0.5755</td>\n",
       "    </tr>\n",
       "    <tr>\n",
       "      <th>65 and over</th>\n",
       "      <td>0.3111</td>\n",
       "    </tr>\n",
       "    <tr>\n",
       "      <th>35-44</th>\n",
       "      <td>0.0924</td>\n",
       "    </tr>\n",
       "    <tr>\n",
       "      <th>18-34</th>\n",
       "      <td>0.0209</td>\n",
       "    </tr>\n",
       "  </tbody>\n",
       "</table>\n",
       "</div>"
      ],
      "text/plain": [
       "              count\n",
       "Age4cat            \n",
       "45 to 64     0.5755\n",
       "65 and over  0.3111\n",
       "35-44        0.0924\n",
       "18-34        0.0209"
      ]
     },
     "execution_count": 16,
     "metadata": {},
     "output_type": "execute_result"
    }
   ],
   "source": [
    "get_stats(tgt_mkt, \"Age4cat\")"
   ]
  },
  {
   "cell_type": "code",
   "execution_count": 17,
   "metadata": {},
   "outputs": [
    {
     "data": {
      "text/html": [
       "<div>\n",
       "<style scoped>\n",
       "    .dataframe tbody tr th:only-of-type {\n",
       "        vertical-align: middle;\n",
       "    }\n",
       "\n",
       "    .dataframe tbody tr th {\n",
       "        vertical-align: top;\n",
       "    }\n",
       "\n",
       "    .dataframe thead th {\n",
       "        text-align: right;\n",
       "    }\n",
       "</style>\n",
       "<table border=\"1\" class=\"dataframe\">\n",
       "  <thead>\n",
       "    <tr style=\"text-align: right;\">\n",
       "      <th></th>\n",
       "      <th>count</th>\n",
       "    </tr>\n",
       "    <tr>\n",
       "      <th>NumPrpgrp</th>\n",
       "      <th></th>\n",
       "    </tr>\n",
       "  </thead>\n",
       "  <tbody>\n",
       "    <tr>\n",
       "      <th>2 to 4</th>\n",
       "      <td>0.4705</td>\n",
       "    </tr>\n",
       "    <tr>\n",
       "      <th>5 to 9</th>\n",
       "      <td>0.2874</td>\n",
       "    </tr>\n",
       "    <tr>\n",
       "      <th>1 only</th>\n",
       "      <td>0.2421</td>\n",
       "    </tr>\n",
       "    <tr>\n",
       "      <th>10 to 24</th>\n",
       "      <td>0.0000</td>\n",
       "    </tr>\n",
       "    <tr>\n",
       "      <th>25 to 100</th>\n",
       "      <td>0.0000</td>\n",
       "    </tr>\n",
       "    <tr>\n",
       "      <th>more than 100</th>\n",
       "      <td>0.0000</td>\n",
       "    </tr>\n",
       "  </tbody>\n",
       "</table>\n",
       "</div>"
      ],
      "text/plain": [
       "                count\n",
       "NumPrpgrp            \n",
       "2 to 4         0.4705\n",
       "5 to 9         0.2874\n",
       "1 only         0.2421\n",
       "10 to 24       0.0000\n",
       "25 to 100      0.0000\n",
       "more than 100  0.0000"
      ]
     },
     "execution_count": 17,
     "metadata": {},
     "output_type": "execute_result"
    }
   ],
   "source": [
    "get_stats(tgt_mkt, \"NumPrpgrp\")"
   ]
  },
  {
   "cell_type": "code",
   "execution_count": 18,
   "metadata": {},
   "outputs": [
    {
     "data": {
      "text/html": [
       "<div>\n",
       "<style scoped>\n",
       "    .dataframe tbody tr th:only-of-type {\n",
       "        vertical-align: middle;\n",
       "    }\n",
       "\n",
       "    .dataframe tbody tr th {\n",
       "        vertical-align: top;\n",
       "    }\n",
       "\n",
       "    .dataframe thead th {\n",
       "        text-align: right;\n",
       "    }\n",
       "</style>\n",
       "<table border=\"1\" class=\"dataframe\">\n",
       "  <thead>\n",
       "    <tr style=\"text-align: right;\">\n",
       "      <th></th>\n",
       "      <th>count</th>\n",
       "    </tr>\n",
       "    <tr>\n",
       "      <th>ValperPrpA</th>\n",
       "      <th></th>\n",
       "    </tr>\n",
       "  </thead>\n",
       "  <tbody>\n",
       "    <tr>\n",
       "      <th>£200,000 to £499,999</th>\n",
       "      <td>0.3817</td>\n",
       "    </tr>\n",
       "    <tr>\n",
       "      <th>£100,000 to £129,999</th>\n",
       "      <td>0.1605</td>\n",
       "    </tr>\n",
       "    <tr>\n",
       "      <th>£150,000 to £179,999</th>\n",
       "      <td>0.1224</td>\n",
       "    </tr>\n",
       "    <tr>\n",
       "      <th>£500,000 and over</th>\n",
       "      <td>0.1132</td>\n",
       "    </tr>\n",
       "    <tr>\n",
       "      <th>£130,000 to £149,999</th>\n",
       "      <td>0.0607</td>\n",
       "    </tr>\n",
       "    <tr>\n",
       "      <th>£50,000 to £79,999</th>\n",
       "      <td>0.0514</td>\n",
       "    </tr>\n",
       "    <tr>\n",
       "      <th>£180,000 to £199,999</th>\n",
       "      <td>0.0463</td>\n",
       "    </tr>\n",
       "    <tr>\n",
       "      <th>£80,000 to £99,999</th>\n",
       "      <td>0.0463</td>\n",
       "    </tr>\n",
       "    <tr>\n",
       "      <th>up to £49,999</th>\n",
       "      <td>0.0175</td>\n",
       "    </tr>\n",
       "  </tbody>\n",
       "</table>\n",
       "</div>"
      ],
      "text/plain": [
       "                       count\n",
       "ValperPrpA                  \n",
       "£200,000 to £499,999  0.3817\n",
       "£100,000 to £129,999  0.1605\n",
       "£150,000 to £179,999  0.1224\n",
       "£500,000 and over     0.1132\n",
       "£130,000 to £149,999  0.0607\n",
       "£50,000 to £79,999    0.0514\n",
       "£180,000 to £199,999  0.0463\n",
       "£80,000 to £99,999    0.0463\n",
       "up to £49,999         0.0175"
      ]
     },
     "execution_count": 18,
     "metadata": {},
     "output_type": "execute_result"
    }
   ],
   "source": [
    "get_stats(tgt_mkt, \"ValperPrpA\")"
   ]
  },
  {
   "cell_type": "code",
   "execution_count": 19,
   "metadata": {},
   "outputs": [],
   "source": [
    "df_stats = get_stats(tgt_mkt, \"MktValgrpA\")"
   ]
  },
  {
   "attachments": {},
   "cell_type": "markdown",
   "metadata": {},
   "source": [
    "Rough estimate of avg portfolio size:"
   ]
  },
  {
   "cell_type": "code",
   "execution_count": 20,
   "metadata": {},
   "outputs": [
    {
     "data": {
      "text/plain": [
       "0    912549.5226\n",
       "dtype: float64"
      ]
     },
     "execution_count": 20,
     "metadata": {},
     "output_type": "execute_result"
    }
   ],
   "source": [
    "df_stats = get_stats(tgt_mkt, \"MktValgrpA\")\n",
    "df_stats[\"medmktval\"] = [\n",
    "    (500000+999999)/2,\n",
    "    (200000+499999)/2,\n",
    "    (1000000+1999999)/2,\n",
    "    (100000+199999)/2,\n",
    "    (2000000+2999999)/2,\n",
    "    (100000)/2,\n",
    "    (3000000+3999999)/2,\n",
    "    6000000,\n",
    "    (4000000+4999999)/2,\n",
    "    (5000000+5999999)/2\n",
    "]\n",
    "\n",
    "pd.DataFrame(df_stats[\"count\"].multiply(df_stats[\"medmktval\"])).sum()"
   ]
  },
  {
   "attachments": {},
   "cell_type": "markdown",
   "metadata": {},
   "source": [
    "How much debt do these folks have?\n",
    "\n",
    "For LTVgrpA, I can likely get near averages."
   ]
  },
  {
   "cell_type": "code",
   "execution_count": 21,
   "metadata": {},
   "outputs": [],
   "source": [
    "# Add 0% LTV category if responded \"Yes\" to \"No debt\"\n",
    "tgt_mkt[\"LTVgrpA\"] = tgt_mkt.LTVgrpA.cat.add_categories(['0%'])\n",
    "tgt_mkt.loc[tgt_mkt[\"Lntyp4\"] == \"Yes\", \"LTVgrpA\"] = \"0%\""
   ]
  },
  {
   "cell_type": "code",
   "execution_count": 22,
   "metadata": {},
   "outputs": [
    {
     "data": {
      "text/html": [
       "<div>\n",
       "<style scoped>\n",
       "    .dataframe tbody tr th:only-of-type {\n",
       "        vertical-align: middle;\n",
       "    }\n",
       "\n",
       "    .dataframe tbody tr th {\n",
       "        vertical-align: top;\n",
       "    }\n",
       "\n",
       "    .dataframe thead th {\n",
       "        text-align: right;\n",
       "    }\n",
       "</style>\n",
       "<table border=\"1\" class=\"dataframe\">\n",
       "  <thead>\n",
       "    <tr style=\"text-align: right;\">\n",
       "      <th></th>\n",
       "      <th>count</th>\n",
       "    </tr>\n",
       "    <tr>\n",
       "      <th>LTVgrpA</th>\n",
       "      <th></th>\n",
       "    </tr>\n",
       "  </thead>\n",
       "  <tbody>\n",
       "    <tr>\n",
       "      <th>0%</th>\n",
       "      <td>0.3967</td>\n",
       "    </tr>\n",
       "    <tr>\n",
       "      <th>50 to 59%</th>\n",
       "      <td>0.1092</td>\n",
       "    </tr>\n",
       "    <tr>\n",
       "      <th>60 to 69%</th>\n",
       "      <td>0.0867</td>\n",
       "    </tr>\n",
       "    <tr>\n",
       "      <th>40 to 49%</th>\n",
       "      <td>0.0721</td>\n",
       "    </tr>\n",
       "    <tr>\n",
       "      <th>30 to 39%</th>\n",
       "      <td>0.0682</td>\n",
       "    </tr>\n",
       "    <tr>\n",
       "      <th>70 to 79%</th>\n",
       "      <td>0.0585</td>\n",
       "    </tr>\n",
       "    <tr>\n",
       "      <th>10 to 19%</th>\n",
       "      <td>0.0575</td>\n",
       "    </tr>\n",
       "    <tr>\n",
       "      <th>20 to 29%</th>\n",
       "      <td>0.0556</td>\n",
       "    </tr>\n",
       "    <tr>\n",
       "      <th>1 to 9%</th>\n",
       "      <td>0.0478</td>\n",
       "    </tr>\n",
       "    <tr>\n",
       "      <th>100 and above</th>\n",
       "      <td>0.0214</td>\n",
       "    </tr>\n",
       "    <tr>\n",
       "      <th>80 to 89%</th>\n",
       "      <td>0.0175</td>\n",
       "    </tr>\n",
       "    <tr>\n",
       "      <th>90 to 99%</th>\n",
       "      <td>0.0088</td>\n",
       "    </tr>\n",
       "  </tbody>\n",
       "</table>\n",
       "</div>"
      ],
      "text/plain": [
       "                count\n",
       "LTVgrpA              \n",
       "0%             0.3967\n",
       "50 to 59%      0.1092\n",
       "60 to 69%      0.0867\n",
       "40 to 49%      0.0721\n",
       "30 to 39%      0.0682\n",
       "70 to 79%      0.0585\n",
       "10 to 19%      0.0575\n",
       "20 to 29%      0.0556\n",
       "1 to 9%        0.0478\n",
       "100 and above  0.0214\n",
       "80 to 89%      0.0175\n",
       "90 to 99%      0.0088"
      ]
     },
     "execution_count": 22,
     "metadata": {},
     "output_type": "execute_result"
    }
   ],
   "source": [
    "df_stats = get_stats(tgt_mkt, \"LTVgrpA\")\n",
    "df_stats"
   ]
  },
  {
   "cell_type": "code",
   "execution_count": 23,
   "metadata": {},
   "outputs": [
    {
     "data": {
      "text/plain": [
       "0    0.281478\n",
       "dtype: float64"
      ]
     },
     "execution_count": 23,
     "metadata": {},
     "output_type": "execute_result"
    }
   ],
   "source": [
    "df_stats[\"med_ltv\"] = [\n",
    "    0,\n",
    "    (.5+.59)/2,\n",
    "    (.6+.69)/2,\n",
    "    (.3+.39)/2,\n",
    "    (.4+.49)/2,\n",
    "    (.01+.09)/2,\n",
    "    (.7+.79)/2,\n",
    "    (.2+.29)/2,\n",
    "    (.1+.19)/2,\n",
    "    1,\n",
    "    (.8+.89)/2,\n",
    "    (.9+.99)/2,\n",
    "]\n",
    "pd.DataFrame(df_stats[\"count\"].multiply(df_stats[\"med_ltv\"])).sum()"
   ]
  },
  {
   "attachments": {},
   "cell_type": "markdown",
   "metadata": {},
   "source": [
    "Find for LLs who have debt"
   ]
  },
  {
   "cell_type": "code",
   "execution_count": 24,
   "metadata": {},
   "outputs": [
    {
     "data": {
      "text/plain": [
       "0    0.469864\n",
       "dtype: float64"
      ]
     },
     "execution_count": 24,
     "metadata": {},
     "output_type": "execute_result"
    }
   ],
   "source": [
    "tgt_debt = tgt_mkt[tgt_mkt[\"Lntyp4\"]=='No']\n",
    "df_stats = get_stats(tgt_debt, \"LTVgrpA\")\n",
    "df_stats[\"med_ltv\"] = [\n",
    "    (.5+.59)/2,\n",
    "    (.6+.69)/2,\n",
    "    (.4+.49)/2,\n",
    "    (.3+.39)/2,\n",
    "    (.7+.79)/2,\n",
    "    (.1+.19)/2,\n",
    "    (.2+.29)/2,\n",
    "    (.01+.09)/2,\n",
    "    1,\n",
    "    (.8+.89)/2,\n",
    "    (.9+.99)/2,\n",
    "    0\n",
    "]\n",
    "pd.DataFrame(df_stats[\"count\"].multiply(df_stats[\"med_ltv\"])).sum()"
   ]
  },
  {
   "attachments": {},
   "cell_type": "markdown",
   "metadata": {},
   "source": [
    "## Market Value"
   ]
  },
  {
   "cell_type": "code",
   "execution_count": 131,
   "metadata": {},
   "outputs": [
    {
     "data": {
      "text/html": [
       "<div>\n",
       "<style scoped>\n",
       "    .dataframe tbody tr th:only-of-type {\n",
       "        vertical-align: middle;\n",
       "    }\n",
       "\n",
       "    .dataframe tbody tr th {\n",
       "        vertical-align: top;\n",
       "    }\n",
       "\n",
       "    .dataframe thead th {\n",
       "        text-align: right;\n",
       "    }\n",
       "</style>\n",
       "<table border=\"1\" class=\"dataframe\">\n",
       "  <thead>\n",
       "    <tr style=\"text-align: right;\">\n",
       "      <th></th>\n",
       "      <th>serial_2</th>\n",
       "      <th>ValperPrpA</th>\n",
       "      <th>MktValgrpA</th>\n",
       "      <th>NumPrpgrp</th>\n",
       "    </tr>\n",
       "  </thead>\n",
       "  <tbody>\n",
       "    <tr>\n",
       "      <th>0</th>\n",
       "      <td>101638</td>\n",
       "      <td>£130,000 to £149,999</td>\n",
       "      <td>£100,000 to £199,999</td>\n",
       "      <td>1 only</td>\n",
       "    </tr>\n",
       "    <tr>\n",
       "      <th>7</th>\n",
       "      <td>102965</td>\n",
       "      <td>£200,000 to £499,999</td>\n",
       "      <td>£200,000 to £499,999</td>\n",
       "      <td>1 only</td>\n",
       "    </tr>\n",
       "    <tr>\n",
       "      <th>10</th>\n",
       "      <td>103689</td>\n",
       "      <td>£150,000 to £179,999</td>\n",
       "      <td>£100,000 to £199,999</td>\n",
       "      <td>1 only</td>\n",
       "    </tr>\n",
       "    <tr>\n",
       "      <th>12</th>\n",
       "      <td>107804</td>\n",
       "      <td>£500,000 and over</td>\n",
       "      <td>£1,000,000 to £1,999,999</td>\n",
       "      <td>2 to 4</td>\n",
       "    </tr>\n",
       "    <tr>\n",
       "      <th>15</th>\n",
       "      <td>106253</td>\n",
       "      <td>£100,000 to £129,999</td>\n",
       "      <td>£100,000 to £199,999</td>\n",
       "      <td>1 only</td>\n",
       "    </tr>\n",
       "  </tbody>\n",
       "</table>\n",
       "</div>"
      ],
      "text/plain": [
       "    serial_2            ValperPrpA                MktValgrpA NumPrpgrp\n",
       "0     101638  £130,000 to £149,999      £100,000 to £199,999    1 only\n",
       "7     102965  £200,000 to £499,999      £200,000 to £499,999    1 only\n",
       "10    103689  £150,000 to £179,999      £100,000 to £199,999    1 only\n",
       "12    107804     £500,000 and over  £1,000,000 to £1,999,999    2 to 4\n",
       "15    106253  £100,000 to £129,999      £100,000 to £199,999    1 only"
      ]
     },
     "execution_count": 131,
     "metadata": {},
     "output_type": "execute_result"
    }
   ],
   "source": [
    "mkt_val = tgt_mkt[[\"serial_2\", # Unique Identifier\n",
    "                   \"ValperPrpA\", # Avg mkt val per prop\n",
    "                   \"MktValgrpA\", # Mkt val all props\n",
    "                   #\"LnperPrpA\", # Avg loan per prop\n",
    "                   #\"LnValgrpA\", # Total val all loans\n",
    "                   #\"LTVgrpA\", # LTV market val\n",
    "                   \"NumPrpgrp\", # How many props\n",
    "                   #\"RtIncgrpa\", # Gross rental inc\n",
    "                   #\"LLIncgrpA\", # Total LL inc no rent\n",
    "                   #\"TotIncgrp\", # Total LL inc\n",
    "                   #\"RtPrIncgrpA\", # Rent as prop. inc\n",
    "]]\n",
    "df_notna = df[df[\"EPCEFG\"].notna()]\n",
    "mkt_val.head(5)"
   ]
  },
  {
   "cell_type": "code",
   "execution_count": 97,
   "metadata": {},
   "outputs": [
    {
     "name": "stdout",
     "output_type": "stream",
     "text": [
      "['£100,000 to £199,999', '£500,000 to £999,999', '£200,000 to £499,999', '£1,000,000 to £1,999,999', '£2,000,000 to £2,999,999', nan, 'less than £100,000', '£4,000,000 to £4,999,999', '£3,000,000 to £3,999,999', '£6,000,000 or more', '£5,000,000 to £5,999,999']\n"
     ]
    }
   ],
   "source": [
    "print([i for i in df[\"MktValgrpA\"].unique()])"
   ]
  },
  {
   "cell_type": "code",
   "execution_count": 136,
   "metadata": {},
   "outputs": [
    {
     "name": "stderr",
     "output_type": "stream",
     "text": [
      "/tmp/ipykernel_541/536477026.py:21: SettingWithCopyWarning: \n",
      "A value is trying to be set on a copy of a slice from a DataFrame.\n",
      "Try using .loc[row_indexer,col_indexer] = value instead\n",
      "\n",
      "See the caveats in the documentation: https://pandas.pydata.org/pandas-docs/stable/user_guide/indexing.html#returning-a-view-versus-a-copy\n",
      "  mkt_val[l] = np.select(conditions, output, np.nan)\n",
      "/tmp/ipykernel_541/536477026.py:21: SettingWithCopyWarning: \n",
      "A value is trying to be set on a copy of a slice from a DataFrame.\n",
      "Try using .loc[row_indexer,col_indexer] = value instead\n",
      "\n",
      "See the caveats in the documentation: https://pandas.pydata.org/pandas-docs/stable/user_guide/indexing.html#returning-a-view-versus-a-copy\n",
      "  mkt_val[l] = np.select(conditions, output, np.nan)\n",
      "/tmp/ipykernel_541/536477026.py:21: SettingWithCopyWarning: \n",
      "A value is trying to be set on a copy of a slice from a DataFrame.\n",
      "Try using .loc[row_indexer,col_indexer] = value instead\n",
      "\n",
      "See the caveats in the documentation: https://pandas.pydata.org/pandas-docs/stable/user_guide/indexing.html#returning-a-view-versus-a-copy\n",
      "  mkt_val[l] = np.select(conditions, output, np.nan)\n"
     ]
    }
   ],
   "source": [
    "\n",
    "NumPrpgrp = mkt_val[\"NumPrpgrp\"]\n",
    "\n",
    "loop = [\"NumPrpMed\", \"NumPrpLow\", \"NumPrpHigh\"]\n",
    "med = [1, 3, 7, 17, 63, 100]\n",
    "low = [1, 2, 5, 10, 25, 100]\n",
    "high = [1, 4, 9, 24, 100, 150]\n",
    "methods = [med, low, high]\n",
    "\n",
    "i = 0\n",
    "for l in loop:\n",
    "    conditions = [\n",
    "        NumPrpgrp == \"1 only\",\n",
    "        NumPrpgrp == \"2 to 4\",\n",
    "        NumPrpgrp == \"5 to 9\", \n",
    "        NumPrpgrp == '10 to 24',\n",
    "        NumPrpgrp == '25 to 100', \n",
    "        NumPrpgrp == 'more than 100'\n",
    "    ]\n",
    "    output = methods[i]\n",
    "    i += 1\n",
    "    mkt_val[l] = np.select(conditions, output, np.nan)"
   ]
  },
  {
   "cell_type": "code",
   "execution_count": 137,
   "metadata": {},
   "outputs": [
    {
     "name": "stderr",
     "output_type": "stream",
     "text": [
      "/tmp/ipykernel_541/3520147991.py:24: SettingWithCopyWarning: \n",
      "A value is trying to be set on a copy of a slice from a DataFrame.\n",
      "Try using .loc[row_indexer,col_indexer] = value instead\n",
      "\n",
      "See the caveats in the documentation: https://pandas.pydata.org/pandas-docs/stable/user_guide/indexing.html#returning-a-view-versus-a-copy\n",
      "  mkt_val[l] = np.select(conditions, output, np.nan)\n",
      "/tmp/ipykernel_541/3520147991.py:24: SettingWithCopyWarning: \n",
      "A value is trying to be set on a copy of a slice from a DataFrame.\n",
      "Try using .loc[row_indexer,col_indexer] = value instead\n",
      "\n",
      "See the caveats in the documentation: https://pandas.pydata.org/pandas-docs/stable/user_guide/indexing.html#returning-a-view-versus-a-copy\n",
      "  mkt_val[l] = np.select(conditions, output, np.nan)\n",
      "/tmp/ipykernel_541/3520147991.py:24: SettingWithCopyWarning: \n",
      "A value is trying to be set on a copy of a slice from a DataFrame.\n",
      "Try using .loc[row_indexer,col_indexer] = value instead\n",
      "\n",
      "See the caveats in the documentation: https://pandas.pydata.org/pandas-docs/stable/user_guide/indexing.html#returning-a-view-versus-a-copy\n",
      "  mkt_val[l] = np.select(conditions, output, np.nan)\n"
     ]
    }
   ],
   "source": [
    "MktVal = mkt_val[\"MktValgrpA\"]\n",
    "\n",
    "loop = [\"MktValMed\", \"MktValLow\", \"MktValHigh\"]\n",
    "med = [80000, 150000, 350000, 750000, 1500000, 2500000, 3500000, 4500000, 5500000, 10000000]\n",
    "low = [0, 100000, 200000, 500000, 1000000, 2000000, 3000000, 4000000, 5000000, 6000000 ]\n",
    "high = [99999, 199999, 499999, 999999, 1999999, 2999999, 3999999, 4999999, 5999999, 15000000]\n",
    "methods = [med, low, high]\n",
    "\n",
    "i = 0\n",
    "for l in loop:\n",
    "    conditions = [\n",
    "        MktVal == 'less than £100,000',\n",
    "        MktVal == '£100,000 to £199,999',\n",
    "        MktVal == '£200,000 to £499,999',\n",
    "        MktVal == '£500,000 to £999,999',\n",
    "        MktVal == '£1,000,000 to £1,999,999',\n",
    "        MktVal == '£2,000,000 to £2,999,999',\n",
    "        MktVal == '£3,000,000 to £3,999,999',\n",
    "        MktVal == '£4,000,000 to £4,999,999',\n",
    "        MktVal == '£5,000,000 to £5,999,999',\n",
    "        MktVal == '£6,000,000 or more'\n",
    "    ]\n",
    "    output = methods[i]\n",
    "    mkt_val[l] = np.select(conditions, output, np.nan)\n",
    "    i += 1"
   ]
  },
  {
   "cell_type": "code",
   "execution_count": 69,
   "metadata": {},
   "outputs": [
    {
     "name": "stdout",
     "output_type": "stream",
     "text": [
      "['£130,000 to £149,999', '£200,000 to £499,999', '£150,000 to £179,999', '£500,000 and over', '£100,000 to £129,999', '£50,000 to £79,999', '£80,000 to £99,999', nan, '£180,000 to £199,999', 'up to £49,999']\n"
     ]
    }
   ],
   "source": [
    "print([i for i in mkt_val[\"ValperPrpA\"].unique()])"
   ]
  },
  {
   "cell_type": "code",
   "execution_count": 138,
   "metadata": {},
   "outputs": [
    {
     "data": {
      "text/html": [
       "<div>\n",
       "<style scoped>\n",
       "    .dataframe tbody tr th:only-of-type {\n",
       "        vertical-align: middle;\n",
       "    }\n",
       "\n",
       "    .dataframe tbody tr th {\n",
       "        vertical-align: top;\n",
       "    }\n",
       "\n",
       "    .dataframe thead th {\n",
       "        text-align: right;\n",
       "    }\n",
       "</style>\n",
       "<table border=\"1\" class=\"dataframe\">\n",
       "  <thead>\n",
       "    <tr style=\"text-align: right;\">\n",
       "      <th></th>\n",
       "      <th>tgt_mkt</th>\n",
       "      <th>total</th>\n",
       "      <th>tgt_pc</th>\n",
       "    </tr>\n",
       "  </thead>\n",
       "  <tbody>\n",
       "    <tr>\n",
       "      <th>NumPrpMed</th>\n",
       "      <td>4043.0</td>\n",
       "      <td>46197.0</td>\n",
       "      <td>0.087517</td>\n",
       "    </tr>\n",
       "    <tr>\n",
       "      <th>NumPrpLow</th>\n",
       "      <td>2890.0</td>\n",
       "      <td>27666.0</td>\n",
       "      <td>0.104460</td>\n",
       "    </tr>\n",
       "    <tr>\n",
       "      <th>NumPrpHigh</th>\n",
       "      <td>5196.0</td>\n",
       "      <td>65559.0</td>\n",
       "      <td>0.079257</td>\n",
       "    </tr>\n",
       "  </tbody>\n",
       "</table>\n",
       "</div>"
      ],
      "text/plain": [
       "            tgt_mkt    total    tgt_pc\n",
       "NumPrpMed    4043.0  46197.0  0.087517\n",
       "NumPrpLow    2890.0  27666.0  0.104460\n",
       "NumPrpHigh   5196.0  65559.0  0.079257"
      ]
     },
     "execution_count": 138,
     "metadata": {},
     "output_type": "execute_result"
    }
   ],
   "source": [
    "df1 = mkt_val[['NumPrpMed', 'NumPrpLow', 'NumPrpHigh']].sum().to_frame()\n",
    "df2 = df_notna[['NumPrpMed', 'NumPrpLow', 'NumPrpHigh']].sum().to_frame()\n",
    "\n",
    "prp_df = pd.DataFrame()\n",
    "prp_df[\"tgt_mkt\"] = df1[0]\n",
    "prp_df[\"total\"] = df2[0]\n",
    "prp_df[\"tgt_pc\"] = prp_df[\"tgt_mkt\"].divide(prp_df[\"total\"])\n",
    "prp_df"
   ]
  },
  {
   "cell_type": "code",
   "execution_count": 118,
   "metadata": {},
   "outputs": [
    {
     "data": {
      "text/html": [
       "<div>\n",
       "<style scoped>\n",
       "    .dataframe tbody tr th:only-of-type {\n",
       "        vertical-align: middle;\n",
       "    }\n",
       "\n",
       "    .dataframe tbody tr th {\n",
       "        vertical-align: top;\n",
       "    }\n",
       "\n",
       "    .dataframe thead th {\n",
       "        text-align: right;\n",
       "    }\n",
       "</style>\n",
       "<table border=\"1\" class=\"dataframe\">\n",
       "  <thead>\n",
       "    <tr style=\"text-align: right;\">\n",
       "      <th></th>\n",
       "      <th>tgt_mkt</th>\n",
       "      <th>total</th>\n",
       "      <th>tgt_pc</th>\n",
       "    </tr>\n",
       "  </thead>\n",
       "  <tbody>\n",
       "    <tr>\n",
       "      <th>MktValMed</th>\n",
       "      <td>9.360600e+08</td>\n",
       "      <td>7.590090e+09</td>\n",
       "      <td>0.123327</td>\n",
       "    </tr>\n",
       "    <tr>\n",
       "      <th>MktValLow</th>\n",
       "      <td>6.418000e+08</td>\n",
       "      <td>5.269700e+09</td>\n",
       "      <td>0.121791</td>\n",
       "    </tr>\n",
       "    <tr>\n",
       "      <th>MktValHigh</th>\n",
       "      <td>1.240399e+09</td>\n",
       "      <td>1.010259e+10</td>\n",
       "      <td>0.122780</td>\n",
       "    </tr>\n",
       "  </tbody>\n",
       "</table>\n",
       "</div>"
      ],
      "text/plain": [
       "                 tgt_mkt         total    tgt_pc\n",
       "MktValMed   9.360600e+08  7.590090e+09  0.123327\n",
       "MktValLow   6.418000e+08  5.269700e+09  0.121791\n",
       "MktValHigh  1.240399e+09  1.010259e+10  0.122780"
      ]
     },
     "execution_count": 118,
     "metadata": {},
     "output_type": "execute_result"
    }
   ],
   "source": [
    "df1 = mkt_val[['MktValMed', 'MktValLow', 'MktValHigh']].sum().to_frame()\n",
    "df2 = df[['MktValMed', 'MktValLow', 'MktValHigh']].sum().to_frame()\n",
    "prp_df = pd.DataFrame()\n",
    "prp_df[\"tgt_mkt\"] = df1[0]\n",
    "prp_df[\"total\"] = df2[0]\n",
    "prp_df[\"tgt_pc\"] = prp_df[\"tgt_mkt\"].divide(prp_df[\"total\"])\n",
    "prp_df"
   ]
  },
  {
   "cell_type": "code",
   "execution_count": 139,
   "metadata": {},
   "outputs": [
    {
     "name": "stderr",
     "output_type": "stream",
     "text": [
      "/tmp/ipykernel_541/993547761.py:26: SettingWithCopyWarning: \n",
      "A value is trying to be set on a copy of a slice from a DataFrame.\n",
      "Try using .loc[row_indexer,col_indexer] = value instead\n",
      "\n",
      "See the caveats in the documentation: https://pandas.pydata.org/pandas-docs/stable/user_guide/indexing.html#returning-a-view-versus-a-copy\n",
      "  tam[l] = np.select(conditions, output, np.nan)\n",
      "/tmp/ipykernel_541/993547761.py:49: SettingWithCopyWarning: \n",
      "A value is trying to be set on a copy of a slice from a DataFrame.\n",
      "Try using .loc[row_indexer,col_indexer] = value instead\n",
      "\n",
      "See the caveats in the documentation: https://pandas.pydata.org/pandas-docs/stable/user_guide/indexing.html#returning-a-view-versus-a-copy\n",
      "  tam[l] = np.select(conditions, output, np.nan)\n"
     ]
    }
   ],
   "source": [
    "tam = df[df[\"EPCEFG\"] == \"Yes\"]\n",
    "\n",
    "MktVal = tam[\"MktValgrpA\"]\n",
    "\n",
    "loop = [\"MktValMed\", \"MktValLow\", \"MktValHigh\"]\n",
    "med = [80000, 150000, 350000, 750000, 1500000, 2500000, 3500000, 4500000, 5500000, 10000000]\n",
    "low = [0, 100000, 200000, 500000, 1000000, 2000000, 3000000, 4000000, 5000000, 6000000 ]\n",
    "high = [99999, 199999, 499999, 999999, 1999999, 2999999, 3999999, 4999999, 5999999, 15000000]\n",
    "methods = [med, low, high]\n",
    "\n",
    "i = 0\n",
    "for l in loop:\n",
    "    conditions = [\n",
    "        MktVal == 'less than £100,000',\n",
    "        MktVal == '£100,000 to £199,999',\n",
    "        MktVal == '£200,000 to £499,999',\n",
    "        MktVal == '£500,000 to £999,999',\n",
    "        MktVal == '£1,000,000 to £1,999,999',\n",
    "        MktVal == '£2,000,000 to £2,999,999',\n",
    "        MktVal == '£3,000,000 to £3,999,999',\n",
    "        MktVal == '£4,000,000 to £4,999,999',\n",
    "        MktVal == '£5,000,000 to £5,999,999',\n",
    "        MktVal == '£6,000,000 or more'\n",
    "    ]\n",
    "    output = methods[i]\n",
    "    tam[l] = np.select(conditions, output, np.nan)\n",
    "    i += 1\n",
    "\n",
    "NumPrpgrp = tam[\"NumPrpgrp\"]\n",
    "\n",
    "loop = [\"NumPrpMed\", \"NumPrpLow\", \"NumPrpHigh\"]\n",
    "med = [1, 3, 7, 17, 63, 100]\n",
    "low = [1, 2, 5, 10, 25, 100]\n",
    "high = [1, 4, 9, 24, 100, 150]\n",
    "methods = [med, low, high]\n",
    "\n",
    "i = 0\n",
    "for l in loop:\n",
    "    conditions = [\n",
    "        NumPrpgrp == \"1 only\",\n",
    "        NumPrpgrp == \"2 to 4\",\n",
    "        NumPrpgrp == \"5 to 9\", \n",
    "        NumPrpgrp == '10 to 24',\n",
    "        NumPrpgrp == '25 to 100', \n",
    "        NumPrpgrp == 'more than 100'\n",
    "    ]\n",
    "    output = methods[i]\n",
    "    i += 1\n",
    "    tam[l] = np.select(conditions, output, np.nan)"
   ]
  },
  {
   "cell_type": "code",
   "execution_count": 140,
   "metadata": {},
   "outputs": [
    {
     "data": {
      "text/html": [
       "<div>\n",
       "<style scoped>\n",
       "    .dataframe tbody tr th:only-of-type {\n",
       "        vertical-align: middle;\n",
       "    }\n",
       "\n",
       "    .dataframe tbody tr th {\n",
       "        vertical-align: top;\n",
       "    }\n",
       "\n",
       "    .dataframe thead th {\n",
       "        text-align: right;\n",
       "    }\n",
       "</style>\n",
       "<table border=\"1\" class=\"dataframe\">\n",
       "  <thead>\n",
       "    <tr style=\"text-align: right;\">\n",
       "      <th></th>\n",
       "      <th>tgt_mkt</th>\n",
       "      <th>total</th>\n",
       "      <th>tgt_pc</th>\n",
       "    </tr>\n",
       "  </thead>\n",
       "  <tbody>\n",
       "    <tr>\n",
       "      <th>NumPrpMed</th>\n",
       "      <td>17007.0</td>\n",
       "      <td>46197.0</td>\n",
       "      <td>0.368141</td>\n",
       "    </tr>\n",
       "    <tr>\n",
       "      <th>NumPrpLow</th>\n",
       "      <td>9795.0</td>\n",
       "      <td>27666.0</td>\n",
       "      <td>0.354045</td>\n",
       "    </tr>\n",
       "    <tr>\n",
       "      <th>NumPrpHigh</th>\n",
       "      <td>24858.0</td>\n",
       "      <td>65559.0</td>\n",
       "      <td>0.379170</td>\n",
       "    </tr>\n",
       "  </tbody>\n",
       "</table>\n",
       "</div>"
      ],
      "text/plain": [
       "            tgt_mkt    total    tgt_pc\n",
       "NumPrpMed   17007.0  46197.0  0.368141\n",
       "NumPrpLow    9795.0  27666.0  0.354045\n",
       "NumPrpHigh  24858.0  65559.0  0.379170"
      ]
     },
     "execution_count": 140,
     "metadata": {},
     "output_type": "execute_result"
    }
   ],
   "source": [
    "df1 = tam[['NumPrpMed', 'NumPrpLow', 'NumPrpHigh']].sum().to_frame()\n",
    "df2 = df_notna[['NumPrpMed', 'NumPrpLow', 'NumPrpHigh']].sum().to_frame()\n",
    "\n",
    "prp_df = pd.DataFrame()\n",
    "prp_df[\"tgt_mkt\"] = df1[0]\n",
    "prp_df[\"total\"] = df2[0]\n",
    "prp_df[\"tgt_pc\"] = prp_df[\"tgt_mkt\"].divide(prp_df[\"total\"])\n",
    "prp_df"
   ]
  },
  {
   "cell_type": "code",
   "execution_count": 130,
   "metadata": {},
   "outputs": [
    {
     "data": {
      "text/html": [
       "<div>\n",
       "<style scoped>\n",
       "    .dataframe tbody tr th:only-of-type {\n",
       "        vertical-align: middle;\n",
       "    }\n",
       "\n",
       "    .dataframe tbody tr th {\n",
       "        vertical-align: top;\n",
       "    }\n",
       "\n",
       "    .dataframe thead th {\n",
       "        text-align: right;\n",
       "    }\n",
       "</style>\n",
       "<table border=\"1\" class=\"dataframe\">\n",
       "  <thead>\n",
       "    <tr style=\"text-align: right;\">\n",
       "      <th></th>\n",
       "      <th>tgt_mkt</th>\n",
       "      <th>total</th>\n",
       "      <th>tgt_pc</th>\n",
       "    </tr>\n",
       "  </thead>\n",
       "  <tbody>\n",
       "    <tr>\n",
       "      <th>MktValMed</th>\n",
       "      <td>2.214250e+09</td>\n",
       "      <td>7.104560e+09</td>\n",
       "      <td>0.311666</td>\n",
       "    </tr>\n",
       "    <tr>\n",
       "      <th>MktValLow</th>\n",
       "      <td>1.542800e+09</td>\n",
       "      <td>4.933000e+09</td>\n",
       "      <td>0.312751</td>\n",
       "    </tr>\n",
       "    <tr>\n",
       "      <th>MktValHigh</th>\n",
       "      <td>2.959599e+09</td>\n",
       "      <td>9.454895e+09</td>\n",
       "      <td>0.313023</td>\n",
       "    </tr>\n",
       "  </tbody>\n",
       "</table>\n",
       "</div>"
      ],
      "text/plain": [
       "                 tgt_mkt         total    tgt_pc\n",
       "MktValMed   2.214250e+09  7.104560e+09  0.311666\n",
       "MktValLow   1.542800e+09  4.933000e+09  0.312751\n",
       "MktValHigh  2.959599e+09  9.454895e+09  0.313023"
      ]
     },
     "execution_count": 130,
     "metadata": {},
     "output_type": "execute_result"
    }
   ],
   "source": [
    "df1 = tam[['MktValMed', 'MktValLow', 'MktValHigh']].sum().to_frame()\n",
    "df2 = df_notna[['MktValMed', 'MktValLow', 'MktValHigh']].sum().to_frame()\n",
    "prp_df = pd.DataFrame()\n",
    "prp_df[\"tgt_mkt\"] = df1[0]\n",
    "prp_df[\"total\"] = df2[0]\n",
    "prp_df[\"tgt_pc\"] = prp_df[\"tgt_mkt\"].divide(prp_df[\"total\"])\n",
    "prp_df"
   ]
  },
  {
   "attachments": {},
   "cell_type": "markdown",
   "metadata": {},
   "source": [
    "# Tgt Mkt Media"
   ]
  },
  {
   "cell_type": "code",
   "execution_count": 218,
   "metadata": {},
   "outputs": [
    {
     "name": "stderr",
     "output_type": "stream",
     "text": [
      "/tmp/ipykernel_541/3691647518.py:25: SettingWithCopyWarning: \n",
      "A value is trying to be set on a copy of a slice from a DataFrame\n",
      "\n",
      "See the caveats in the documentation: https://pandas.pydata.org/pandas-docs/stable/user_guide/indexing.html#returning-a-view-versus-a-copy\n",
      "  mkt_inf.replace(('Yes', 'No'), (True, False), inplace=True)\n"
     ]
    },
    {
     "data": {
      "text/plain": [
       "Letting Agent           bool\n",
       "LL Membership Assoc.    bool\n",
       "Online LL forums        bool\n",
       "Gov't websites          bool\n",
       "Family/Friends          bool\n",
       "Online Media            bool\n",
       "Television              bool\n",
       "Radio                   bool\n",
       "Newspapers              bool\n",
       "dtype: object"
      ]
     },
     "execution_count": 218,
     "metadata": {},
     "output_type": "execute_result"
    }
   ],
   "source": [
    "mkt_inf = tgt_mkt[[\n",
    "        \"LLInfo01\", # Where info: Letting Agent\n",
    "        \"LLInfo02\", # Where info: LL membership ass. or org\n",
    "        \"LLInfo03\", # Where info: Online landlord forums/websites\n",
    "        \"LLInfo04\", # Where info: Gov't websites\n",
    "        \"LLInfo05\", # Where info: Family/friends\n",
    "        \"LLInfo06\", # Where info: Online media\n",
    "        \"LLInfo07\", # Where info: TV\n",
    "        \"LLInfo08\", # Where info: Radio\n",
    "        \"LLInfo09\", # Where info: Newspapers\n",
    "]]\n",
    "\n",
    "mkt_inf.columns = [\n",
    "    \"Letting Agent\",\n",
    "    \"LL Membership Assoc.\",\n",
    "    \"Online LL forums\",\n",
    "    \"Gov't websites\",\n",
    "    \"Family/Friends\",\n",
    "    \"Online Media\",\n",
    "    \"Television\",\n",
    "    \"Radio\",\n",
    "    \"Newspapers\"\n",
    "]\n",
    "\n",
    "mkt_inf.replace(('Yes', 'No'), (True, False), inplace=True)\n",
    "mkt_inf = mkt_inf.astype(bool)\n",
    "mkt_inf.dtypes"
   ]
  },
  {
   "cell_type": "code",
   "execution_count": 219,
   "metadata": {},
   "outputs": [
    {
     "data": {
      "image/png": "[encoded data removed]",
      "text/plain": [
       "<Figure size 1600x900 with 2 Axes>"
      ]
     },
     "metadata": {},
     "output_type": "display_data"
    }
   ],
   "source": [
    "import seaborn as sns\n",
    "from matplotlib import pyplot as plt\n",
    "\n",
    "corrmat = mkt_inf.corr()\n",
    "f, ax = plt.subplots(figsize=(16, 9))\n",
    "\n",
    "# Get rid of upper portion\n",
    "mask = np.triu(np.ones_like(corrmat, dtype=bool))\n",
    "\n",
    "sns.heatmap(corrmat, vmax=.8, square=True,\n",
    "            annot=True, fmt='.3f', mask=mask);"
   ]
  },
  {
   "cell_type": "code",
   "execution_count": 185,
   "metadata": {},
   "outputs": [
    {
     "data": {
      "text/html": [
       "<div>\n",
       "<style scoped>\n",
       "    .dataframe tbody tr th:only-of-type {\n",
       "        vertical-align: middle;\n",
       "    }\n",
       "\n",
       "    .dataframe tbody tr th {\n",
       "        vertical-align: top;\n",
       "    }\n",
       "\n",
       "    .dataframe thead th {\n",
       "        text-align: right;\n",
       "    }\n",
       "</style>\n",
       "<table border=\"1\" class=\"dataframe\">\n",
       "  <thead>\n",
       "    <tr style=\"text-align: right;\">\n",
       "      <th></th>\n",
       "      <th>Letting Agent</th>\n",
       "      <th>LL Membership Assoc.</th>\n",
       "      <th>Online LL forums</th>\n",
       "      <th>Gov't websites</th>\n",
       "      <th>Family/Friends</th>\n",
       "      <th>Online Media</th>\n",
       "      <th>Television</th>\n",
       "      <th>Radio</th>\n",
       "      <th>Newspapers</th>\n",
       "    </tr>\n",
       "  </thead>\n",
       "  <tbody>\n",
       "    <tr>\n",
       "      <th>Letting Agent</th>\n",
       "      <td>1.000000</td>\n",
       "      <td>-0.149331</td>\n",
       "      <td>-0.075900</td>\n",
       "      <td>-0.086956</td>\n",
       "      <td>0.028812</td>\n",
       "      <td>-0.020394</td>\n",
       "      <td>-0.009570</td>\n",
       "      <td>0.033441</td>\n",
       "      <td>0.007789</td>\n",
       "    </tr>\n",
       "    <tr>\n",
       "      <th>LL Membership Assoc.</th>\n",
       "      <td>-0.149331</td>\n",
       "      <td>1.000000</td>\n",
       "      <td>0.095935</td>\n",
       "      <td>-0.037707</td>\n",
       "      <td>-0.018984</td>\n",
       "      <td>0.036556</td>\n",
       "      <td>0.041811</td>\n",
       "      <td>-0.025217</td>\n",
       "      <td>-0.010950</td>\n",
       "    </tr>\n",
       "    <tr>\n",
       "      <th>Online LL forums</th>\n",
       "      <td>-0.075900</td>\n",
       "      <td>0.095935</td>\n",
       "      <td>1.000000</td>\n",
       "      <td>0.218243</td>\n",
       "      <td>0.045122</td>\n",
       "      <td>0.105494</td>\n",
       "      <td>0.021717</td>\n",
       "      <td>0.036970</td>\n",
       "      <td>0.027812</td>\n",
       "    </tr>\n",
       "    <tr>\n",
       "      <th>Gov't websites</th>\n",
       "      <td>-0.086956</td>\n",
       "      <td>-0.037707</td>\n",
       "      <td>0.218243</td>\n",
       "      <td>1.000000</td>\n",
       "      <td>0.123143</td>\n",
       "      <td>0.121945</td>\n",
       "      <td>0.059206</td>\n",
       "      <td>0.085282</td>\n",
       "      <td>0.078884</td>\n",
       "    </tr>\n",
       "    <tr>\n",
       "      <th>Family/Friends</th>\n",
       "      <td>0.028812</td>\n",
       "      <td>-0.018984</td>\n",
       "      <td>0.045122</td>\n",
       "      <td>0.123143</td>\n",
       "      <td>1.000000</td>\n",
       "      <td>0.138918</td>\n",
       "      <td>0.170468</td>\n",
       "      <td>0.174341</td>\n",
       "      <td>0.155426</td>\n",
       "    </tr>\n",
       "    <tr>\n",
       "      <th>Online Media</th>\n",
       "      <td>-0.020394</td>\n",
       "      <td>0.036556</td>\n",
       "      <td>0.105494</td>\n",
       "      <td>0.121945</td>\n",
       "      <td>0.138918</td>\n",
       "      <td>1.000000</td>\n",
       "      <td>0.310026</td>\n",
       "      <td>0.230084</td>\n",
       "      <td>0.271136</td>\n",
       "    </tr>\n",
       "    <tr>\n",
       "      <th>Television</th>\n",
       "      <td>-0.009570</td>\n",
       "      <td>0.041811</td>\n",
       "      <td>0.021717</td>\n",
       "      <td>0.059206</td>\n",
       "      <td>0.170468</td>\n",
       "      <td>0.310026</td>\n",
       "      <td>1.000000</td>\n",
       "      <td>0.458538</td>\n",
       "      <td>0.303148</td>\n",
       "    </tr>\n",
       "    <tr>\n",
       "      <th>Radio</th>\n",
       "      <td>0.033441</td>\n",
       "      <td>-0.025217</td>\n",
       "      <td>0.036970</td>\n",
       "      <td>0.085282</td>\n",
       "      <td>0.174341</td>\n",
       "      <td>0.230084</td>\n",
       "      <td>0.458538</td>\n",
       "      <td>1.000000</td>\n",
       "      <td>0.301794</td>\n",
       "    </tr>\n",
       "    <tr>\n",
       "      <th>Newspapers</th>\n",
       "      <td>0.007789</td>\n",
       "      <td>-0.010950</td>\n",
       "      <td>0.027812</td>\n",
       "      <td>0.078884</td>\n",
       "      <td>0.155426</td>\n",
       "      <td>0.271136</td>\n",
       "      <td>0.303148</td>\n",
       "      <td>0.301794</td>\n",
       "      <td>1.000000</td>\n",
       "    </tr>\n",
       "  </tbody>\n",
       "</table>\n",
       "</div>"
      ],
      "text/plain": [
       "                      Letting Agent  LL Membership Assoc.  Online LL forums   \n",
       "Letting Agent              1.000000             -0.149331         -0.075900  \\\n",
       "LL Membership Assoc.      -0.149331              1.000000          0.095935   \n",
       "Online LL forums          -0.075900              0.095935          1.000000   \n",
       "Gov't websites            -0.086956             -0.037707          0.218243   \n",
       "Family/Friends             0.028812             -0.018984          0.045122   \n",
       "Online Media              -0.020394              0.036556          0.105494   \n",
       "Television                -0.009570              0.041811          0.021717   \n",
       "Radio                      0.033441             -0.025217          0.036970   \n",
       "Newspapers                 0.007789             -0.010950          0.027812   \n",
       "\n",
       "                      Gov't websites  Family/Friends  Online Media   \n",
       "Letting Agent              -0.086956        0.028812     -0.020394  \\\n",
       "LL Membership Assoc.       -0.037707       -0.018984      0.036556   \n",
       "Online LL forums            0.218243        0.045122      0.105494   \n",
       "Gov't websites              1.000000        0.123143      0.121945   \n",
       "Family/Friends              0.123143        1.000000      0.138918   \n",
       "Online Media                0.121945        0.138918      1.000000   \n",
       "Television                  0.059206        0.170468      0.310026   \n",
       "Radio                       0.085282        0.174341      0.230084   \n",
       "Newspapers                  0.078884        0.155426      0.271136   \n",
       "\n",
       "                      Television     Radio  Newspapers  \n",
       "Letting Agent          -0.009570  0.033441    0.007789  \n",
       "LL Membership Assoc.    0.041811 -0.025217   -0.010950  \n",
       "Online LL forums        0.021717  0.036970    0.027812  \n",
       "Gov't websites          0.059206  0.085282    0.078884  \n",
       "Family/Friends          0.170468  0.174341    0.155426  \n",
       "Online Media            0.310026  0.230084    0.271136  \n",
       "Television              1.000000  0.458538    0.303148  \n",
       "Radio                   0.458538  1.000000    0.301794  \n",
       "Newspapers              0.303148  0.301794    1.000000  "
      ]
     },
     "execution_count": 185,
     "metadata": {},
     "output_type": "execute_result"
    }
   ],
   "source": [
    "corrmat"
   ]
  },
  {
   "cell_type": "code",
   "execution_count": 225,
   "metadata": {},
   "outputs": [
    {
     "data": {
      "text/html": [
       "<div>\n",
       "<style scoped>\n",
       "    .dataframe tbody tr th:only-of-type {\n",
       "        vertical-align: middle;\n",
       "    }\n",
       "\n",
       "    .dataframe tbody tr th {\n",
       "        vertical-align: top;\n",
       "    }\n",
       "\n",
       "    .dataframe thead th {\n",
       "        text-align: right;\n",
       "    }\n",
       "</style>\n",
       "<table border=\"1\" class=\"dataframe\">\n",
       "  <thead>\n",
       "    <tr style=\"text-align: right;\">\n",
       "      <th></th>\n",
       "      <th>Percentage</th>\n",
       "    </tr>\n",
       "  </thead>\n",
       "  <tbody>\n",
       "    <tr>\n",
       "      <th>Letting Agent</th>\n",
       "      <td>0.2874</td>\n",
       "    </tr>\n",
       "    <tr>\n",
       "      <th>LL Membership Assoc.</th>\n",
       "      <td>0.3037</td>\n",
       "    </tr>\n",
       "    <tr>\n",
       "      <th>Online LL forums</th>\n",
       "      <td>0.4442</td>\n",
       "    </tr>\n",
       "    <tr>\n",
       "      <th>Gov't websites</th>\n",
       "      <td>0.6247</td>\n",
       "    </tr>\n",
       "    <tr>\n",
       "      <th>Family/Friends</th>\n",
       "      <td>0.1904</td>\n",
       "    </tr>\n",
       "    <tr>\n",
       "      <th>Online Media</th>\n",
       "      <td>0.3146</td>\n",
       "    </tr>\n",
       "    <tr>\n",
       "      <th>Television</th>\n",
       "      <td>0.1505</td>\n",
       "    </tr>\n",
       "    <tr>\n",
       "      <th>Radio</th>\n",
       "      <td>0.0979</td>\n",
       "    </tr>\n",
       "    <tr>\n",
       "      <th>Newspapers</th>\n",
       "      <td>0.2158</td>\n",
       "    </tr>\n",
       "  </tbody>\n",
       "</table>\n",
       "</div>"
      ],
      "text/plain": [
       "                      Percentage\n",
       "Letting Agent             0.2874\n",
       "LL Membership Assoc.      0.3037\n",
       "Online LL forums          0.4442\n",
       "Gov't websites            0.6247\n",
       "Family/Friends            0.1904\n",
       "Online Media              0.3146\n",
       "Television                0.1505\n",
       "Radio                     0.0979\n",
       "Newspapers                0.2158"
      ]
     },
     "execution_count": 225,
     "metadata": {},
     "output_type": "execute_result"
    }
   ],
   "source": [
    "df = mkt_inf.sum().to_frame()\n",
    "f = lambda a : round(a / len(mkt_inf.index), 4)\n",
    "df = df.applymap(f)\n",
    "df.columns = [\"Percentage\"]\n",
    "df"
   ]
  },
  {
   "cell_type": "code",
   "execution_count": 230,
   "metadata": {},
   "outputs": [
    {
     "data": {
      "text/plain": [
       "[Text(0, 0, '0.2874'),\n",
       " Text(0, 0, '0.3037'),\n",
       " Text(0, 0, '0.4442'),\n",
       " Text(0, 0, '0.6247'),\n",
       " Text(0, 0, '0.1904'),\n",
       " Text(0, 0, '0.3146'),\n",
       " Text(0, 0, '0.1505'),\n",
       " Text(0, 0, '0.0979'),\n",
       " Text(0, 0, '0.2158')]"
      ]
     },
     "execution_count": 230,
     "metadata": {},
     "output_type": "execute_result"
    },
    {
     "data": {
      "image/png": "[encoded data removed]",
      "text/plain": [
       "<Figure size 640x480 with 1 Axes>"
      ]
     },
     "metadata": {},
     "output_type": "display_data"
    }
   ],
   "source": [
    "ax = df.plot.bar()\n",
    "ax.bar_label(ax.containers[0])"
   ]
  },
  {
   "attachments": {},
   "cell_type": "markdown",
   "metadata": {},
   "source": [
    "AgtuseA1 - For letting services\n",
    "\n",
    "AcqMeth"
   ]
  },
  {
   "cell_type": "code",
   "execution_count": 24,
   "metadata": {},
   "outputs": [
    {
     "data": {
      "text/html": [
       "<div>\n",
       "<style scoped>\n",
       "    .dataframe tbody tr th:only-of-type {\n",
       "        vertical-align: middle;\n",
       "    }\n",
       "\n",
       "    .dataframe tbody tr th {\n",
       "        vertical-align: top;\n",
       "    }\n",
       "\n",
       "    .dataframe thead th {\n",
       "        text-align: right;\n",
       "    }\n",
       "</style>\n",
       "<table border=\"1\" class=\"dataframe\">\n",
       "  <thead>\n",
       "    <tr style=\"text-align: right;\">\n",
       "      <th></th>\n",
       "      <th>AgtuseA3</th>\n",
       "    </tr>\n",
       "  </thead>\n",
       "  <tbody>\n",
       "    <tr>\n",
       "      <th>Yes</th>\n",
       "      <td>0.5413</td>\n",
       "    </tr>\n",
       "    <tr>\n",
       "      <th>No</th>\n",
       "      <td>0.4587</td>\n",
       "    </tr>\n",
       "  </tbody>\n",
       "</table>\n",
       "</div>"
      ],
      "text/plain": [
       "     AgtuseA3\n",
       "Yes    0.5413\n",
       "No     0.4587"
      ]
     },
     "execution_count": 24,
     "metadata": {},
     "output_type": "execute_result"
    }
   ],
   "source": [
    "get_stats(tgt_mkt, \"AgtuseA3\")"
   ]
  },
  {
   "cell_type": "code",
   "execution_count": 22,
   "metadata": {},
   "outputs": [
    {
     "data": {
      "text/html": [
       "<div>\n",
       "<style scoped>\n",
       "    .dataframe tbody tr th:only-of-type {\n",
       "        vertical-align: middle;\n",
       "    }\n",
       "\n",
       "    .dataframe tbody tr th {\n",
       "        vertical-align: top;\n",
       "    }\n",
       "\n",
       "    .dataframe thead th {\n",
       "        text-align: right;\n",
       "    }\n",
       "</style>\n",
       "<table border=\"1\" class=\"dataframe\">\n",
       "  <thead>\n",
       "    <tr style=\"text-align: right;\">\n",
       "      <th></th>\n",
       "      <th>AcqMeth</th>\n",
       "    </tr>\n",
       "  </thead>\n",
       "  <tbody>\n",
       "    <tr>\n",
       "      <th>I / we bought it with the intention of letting it out</th>\n",
       "      <td>0.6204</td>\n",
       "    </tr>\n",
       "    <tr>\n",
       "      <th>I / we bought it to live in myself</th>\n",
       "      <td>0.2291</td>\n",
       "    </tr>\n",
       "    <tr>\n",
       "      <th>I / we inherited it</th>\n",
       "      <td>0.0631</td>\n",
       "    </tr>\n",
       "    <tr>\n",
       "      <th>Other (please specify)</th>\n",
       "      <td>0.0476</td>\n",
       "    </tr>\n",
       "    <tr>\n",
       "      <th>I / we received it as a gift</th>\n",
       "      <td>0.0165</td>\n",
       "    </tr>\n",
       "    <tr>\n",
       "      <th>I / we built it to live in myself / ourselves</th>\n",
       "      <td>0.0097</td>\n",
       "    </tr>\n",
       "    <tr>\n",
       "      <th>I / we built it with the intention of letting it out</th>\n",
       "      <td>0.0078</td>\n",
       "    </tr>\n",
       "    <tr>\n",
       "      <th>I / we acquired the organisation that owned it</th>\n",
       "      <td>0.0029</td>\n",
       "    </tr>\n",
       "    <tr>\n",
       "      <th>I / we bought it through the council Right to Buy</th>\n",
       "      <td>0.0029</td>\n",
       "    </tr>\n",
       "  </tbody>\n",
       "</table>\n",
       "</div>"
      ],
      "text/plain": [
       "                                                    AcqMeth\n",
       "I / we bought it with the intention of letting ...   0.6204\n",
       "I / we bought it to live in myself                   0.2291\n",
       "I / we inherited it                                  0.0631\n",
       "Other (please specify)                               0.0476\n",
       "I / we received it as a gift                         0.0165\n",
       "I / we built it to live in myself / ourselves        0.0097\n",
       "I / we built it with the intention of letting i...   0.0078\n",
       "I / we acquired the organisation that owned it       0.0029\n",
       "I / we bought it through the council Right to Buy    0.0029"
      ]
     },
     "execution_count": 22,
     "metadata": {},
     "output_type": "execute_result"
    }
   ],
   "source": [
    "get_stats(tgt_mkt, \"AcqMeth\")"
   ]
  },
  {
   "cell_type": "code",
   "execution_count": 21,
   "metadata": {},
   "outputs": [
    {
     "data": {
      "text/html": [
       "<div>\n",
       "<style scoped>\n",
       "    .dataframe tbody tr th:only-of-type {\n",
       "        vertical-align: middle;\n",
       "    }\n",
       "\n",
       "    .dataframe tbody tr th {\n",
       "        vertical-align: top;\n",
       "    }\n",
       "\n",
       "    .dataframe thead th {\n",
       "        text-align: right;\n",
       "    }\n",
       "</style>\n",
       "<table border=\"1\" class=\"dataframe\">\n",
       "  <thead>\n",
       "    <tr style=\"text-align: right;\">\n",
       "      <th></th>\n",
       "      <th>AcqMeth</th>\n",
       "    </tr>\n",
       "  </thead>\n",
       "  <tbody>\n",
       "    <tr>\n",
       "      <th>I / we bought it with the intention of letting it out</th>\n",
       "      <td>0.6164</td>\n",
       "    </tr>\n",
       "    <tr>\n",
       "      <th>I / we bought it to live in myself</th>\n",
       "      <td>0.1509</td>\n",
       "    </tr>\n",
       "    <tr>\n",
       "      <th>I / we inherited it</th>\n",
       "      <td>0.1151</td>\n",
       "    </tr>\n",
       "    <tr>\n",
       "      <th>Other (please specify)</th>\n",
       "      <td>0.0588</td>\n",
       "    </tr>\n",
       "    <tr>\n",
       "      <th>I / we received it as a gift</th>\n",
       "      <td>0.0230</td>\n",
       "    </tr>\n",
       "    <tr>\n",
       "      <th>I / we built it to live in myself / ourselves</th>\n",
       "      <td>0.0128</td>\n",
       "    </tr>\n",
       "    <tr>\n",
       "      <th>I / we built it with the intention of letting it out</th>\n",
       "      <td>0.0102</td>\n",
       "    </tr>\n",
       "    <tr>\n",
       "      <th>I / we bought it through the council Right to Buy</th>\n",
       "      <td>0.0077</td>\n",
       "    </tr>\n",
       "    <tr>\n",
       "      <th>I / we acquired the organisation that owned it</th>\n",
       "      <td>0.0051</td>\n",
       "    </tr>\n",
       "  </tbody>\n",
       "</table>\n",
       "</div>"
      ],
      "text/plain": [
       "                                                    AcqMeth\n",
       "I / we bought it with the intention of letting ...   0.6164\n",
       "I / we bought it to live in myself                   0.1509\n",
       "I / we inherited it                                  0.1151\n",
       "Other (please specify)                               0.0588\n",
       "I / we received it as a gift                         0.0230\n",
       "I / we built it to live in myself / ourselves        0.0128\n",
       "I / we built it with the intention of letting i...   0.0102\n",
       "I / we bought it through the council Right to Buy    0.0077\n",
       "I / we acquired the organisation that owned it       0.0051"
      ]
     },
     "execution_count": 21,
     "metadata": {},
     "output_type": "execute_result"
    }
   ],
   "source": [
    "tgt_nodebt = tgt_mkt[tgt_mkt[\"Lntyp4\"]=='Yes']\n",
    "get_stats(tgt_nodebt, \"AcqMeth\")"
   ]
  }
 ],
 "metadata": {
  "kernelspec": {
   "display_name": "Python 3",
   "language": "python",
   "name": "python3"
  },
  "language_info": {
   "codemirror_mode": {
    "name": "ipython",
    "version": 3
   },
   "file_extension": ".py",
   "mimetype": "text/x-python",
   "name": "python",
   "nbconvert_exporter": "python",
   "pygments_lexer": "ipython3",
   "version": "3.9.13"
  },
  "orig_nbformat": 4
 },
 "nbformat": 4,
 "nbformat_minor": 2
}
